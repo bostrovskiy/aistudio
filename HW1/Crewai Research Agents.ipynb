{
 "cells": [
  {
   "cell_type": "code",
   "execution_count": 1,
   "id": "fb68caac-9786-4432-b41c-27a8fb2b0de8",
   "metadata": {},
   "outputs": [],
   "source": [
    "# Warning control\n",
    "import warnings\n",
    "warnings.filterwarnings('ignore')"
   ]
  },
  {
   "cell_type": "code",
   "execution_count": 2,
   "id": "ff9eda03",
   "metadata": {},
   "outputs": [
    {
     "name": "stderr",
     "output_type": "stream",
     "text": [
      "2025-09-18 00:04:05,623 - 13662973952 - telemetry.py-telemetry:71 - ERROR: ('Connection aborted.', ConnectionResetError(54, 'Connection reset by peer'))\n",
      "2025-09-18 00:04:50,897 - 13662973952 - telemetry.py-telemetry:71 - ERROR: ('Connection aborted.', ConnectionResetError(54, 'Connection reset by peer'))\n",
      "2025-09-18 00:05:36,149 - 13662973952 - telemetry.py-telemetry:71 - ERROR: ('Connection aborted.', ConnectionResetError(54, 'Connection reset by peer'))\n",
      "2025-09-18 00:07:21,461 - 13662973952 - telemetry.py-telemetry:71 - ERROR: ('Connection aborted.', ConnectionResetError(54, 'Connection reset by peer'))\n"
     ]
    }
   ],
   "source": [
    "from crewai import Agent, Task, Crew"
   ]
  },
  {
   "cell_type": "code",
   "execution_count": 3,
   "id": "cb82554a",
   "metadata": {},
   "outputs": [],
   "source": [
    "import os\n",
    "import importlib\n",
    "import utils\n",
    "importlib.reload(utils)\n",
    "from utils import get_openai_api_key, get_serper_api_key, get_openai_model_name, pretty_print_result\n",
    "\n",
    "openai_api_key = get_openai_api_key()\n",
    "os.environ[\"OPENAI_MODEL_NAME\"] = get_openai_model_name()\n",
    "os.environ[\"SERPER_API_KEY\"] = get_serper_api_key()"
   ]
  },
  {
   "cell_type": "code",
   "execution_count": 4,
   "id": "a169f6cf-6404-4ae9-8af4-774e96098dad",
   "metadata": {},
   "outputs": [],
   "source": [
    "from crewai_tools import SerperDevTool, \\\n",
    "                         ScrapeWebsiteTool, \\\n",
    "                         WebsiteSearchTool"
   ]
  },
  {
   "cell_type": "code",
   "execution_count": 5,
   "id": "a7b3fe59-5ddf-4015-b42b-a7156528c2cc",
   "metadata": {},
   "outputs": [],
   "source": [
    "search_tool = SerperDevTool()\n",
    "scrape_tool = ScrapeWebsiteTool()"
   ]
  },
  {
   "cell_type": "code",
   "execution_count": 6,
   "id": "8730ab50",
   "metadata": {},
   "outputs": [],
   "source": [
    "# -----------------------------\n",
    "# Config - tweak to taste\n",
    "# -----------------------------\n",
    "TOP_N_OVERALL = 30  # set to 10 if you want a top-10 instead\n",
    "#MIN_SIGNAL_SOURCES = 2  # require at least this many sources per company\n",
    "DEFAULT_REGION = \"{region}\"  # e.g., \"US & Europe\" - can be overridden at runtime\n",
    "DEFAULT_TIME_WINDOW = \"{time_window}\"  # e.g., \"last 24 months\" - can be overridden\n",
    "INDUSTRY = \"{industry}\"  # required input\n",
    "\n",
    "CLASSIFICATION_RUBRIC = \"\"\"\n",
    "Stage labels:\n",
    "- Big Tech: public, multi-product tech platform or incumbent with either ≥10k employees or ≥10B market cap or clear category dominance.\n",
    "- Late-stage startup: Series D+ or valuation ≥1B, or ≥500 employees, or estimated revenue ≥100M.\n",
    "- Mid-stage startup: Series B–C, 100–499 employees, valuation ~100M–1B, or revenue ~10–100M.\n",
    "- Early-stage startup: Pre-seed–Series A, <100 employees, or revenue <10M.\n",
    "Signal priority when conflict appears: funding stage, then employee count, then valuation, then revenue. Always return a confidence score.\n",
    "Hard caps: output is a single ranked list of at most TOP_N_OVERALL companies overall. Do not exceed the cap.\n",
    "\"\"\"\n",
    "\n",
    "OUTPUT_SCHEMA_GUIDE = \"\"\"\n",
    "Final JSON array item shape:\n",
    "{{\n",
    "  \"rank\": <int 1..TOP_N_OVERALL>,\n",
    "  \"company\": \"<marketed company name>\",\n",
    "  \"sub_industry\": \"<one of the mapped sub-industries>\",\n",
    "  \"stage_label\": \"<Big Tech | Late-stage startup | Mid-stage startup | Early-stage startup>\"\n",
    "}}\n",
    "Provide the final JSON and also a short, human-friendly Markdown table with the same rows.\n",
    "\"\"\"\n",
    "\n",
    "\n",
    "#OUTPUT_SCHEMA_GUIDE = \"\"\"\n",
    "#Final JSON array item shape:\n",
    "#{{\n",
    "#  \"rank\": <int 1..TOP_N_OVERALL>,\n",
    "#  \"company\": \"<canonical company name>\",\n",
    "#  \"sub_industry\": \"<one of the mapped sub-industries>\",\n",
    "#  \"stage_label\": \"<Big Tech | Late-stage startup | Mid-stage startup | Early-stage startup>\",\n",
    "#  \"why_it_matters\": \"<one crisp sentence>\",\n",
    "#  \"key_signals\": {{\n",
    "#    \"funding_stage_or_round\": \"<text or null>\",\n",
    "#    \"employees\": \"<int or null>\",\n",
    "#    \"valuation_or_revenue\": \"<text or null>\",\n",
    "#    \"notable_products_or_share\": \"<text or null>\"\n",
    "#  }},\n",
    "#  \"confidence\": \"<0.0-1.0>\",\n",
    "#  \"sources\": [\"<url1>\", \"<url2>\", \"...\"]  # at least MIN_SIGNAL_SOURCES items\n",
    "#}}\n",
    "#Provide the final JSON and also a short, human-friendly Markdown table with the same rows.\n",
    "#\"\"\""
   ]
  },
  {
   "cell_type": "code",
   "execution_count": 7,
   "id": "f77844ba",
   "metadata": {},
   "outputs": [],
   "source": [
    "industry_taxonomist = Agent(\n",
    "    role=\"Industry Taxonomist\",\n",
    "    goal=(\n",
    "        \"Turn the input industry into a crisp, research-ready scope with a clean sub-industry map, \"\n",
    "        \"inclusion-exclusion rules, synonyms, and search guidance so downstream research stays focused.\"\n",
    "    ),\n",
    "    backstory=(\n",
    "        \"You are a former strategy consultant turned data taxonomist. You dislike vague scopes and \"\n",
    "        \"imprecise buckets. You write tight, unambiguous definitions and choose pragmatic sub-industries \"\n",
    "        \"that reflect how the market actually organizes itself. You capture common aliases so search is robust. \"\n",
    "        \"You set guardrails for region and time window and explicitly note what is out of scope.\"\n",
    "    ),\n",
    ")"
   ]
  },
  {
   "cell_type": "code",
   "execution_count": 8,
   "id": "d3b9b522",
   "metadata": {},
   "outputs": [],
   "source": [
    "research_analyst = Agent(\n",
    "    role=\"Research Analyst\",\n",
    "    goal=(\n",
    "        \"Find and enrich the most important companies in the mapped sub-industries using credible, current sources, \"\n",
    "        \"then assemble a clean candidate table with signals needed for stage classification and ranking.\"\n",
    "    ),\n",
    "    backstory=(\n",
    "        \"You are a meticulous OSINT-oriented analyst. You prefer primary and reputable sources: public filings, \"\n",
    "        \"S-1s, investor reports, funding databases, company pages, trusted tech media, and recent industry maps. \"\n",
    "        \"You reconcile conflicting facts and always keep source URLs. You avoid fluff and discard low-credibility sources.\"\n",
    "    ),\n",
    ")"
   ]
  },
  {
   "cell_type": "code",
   "execution_count": 9,
   "id": "b86b283f",
   "metadata": {},
   "outputs": [],
   "source": [
    "classifier_ranker = Agent(\n",
    "    role=\"Stage Classifier and Ranker\",\n",
    "    goal=(\n",
    "        \"Apply the rubric precisely, assign stage labels with confidence scores, rank companies across the whole industry, \"\n",
    "        \"enforce the hard cap of TOP_N_OVERALL, and produce the final JSON plus a compact Markdown table.\"\n",
    "    ),\n",
    "    backstory=(\n",
    "        \"You are a former VC analyst and product manager. You are pragmatic about imperfect data, explain your choices, \"\n",
    "        \"and keep results scannable. You do light QA: dedupe entities, fix parent vs product mixups, check that each row \"\n",
    "        \"has enough sources, and ensure no more than TOP_N_OVERALL items make it to the final list.\"\n",
    "    ),\n",
    ")"
   ]
  },
  {
   "cell_type": "code",
   "execution_count": 10,
   "id": "6d8361db",
   "metadata": {},
   "outputs": [],
   "source": [
    "map_subindustries = Task(\n",
    "    description=(\n",
    "        \"Build a practical sub-industry map for {industry}. \"\n",
    "        \"Output a brief scope note and a list of 6-12 sub-industries max. \"\n",
    "        \"For each sub-industry, include: 1-line definition, common aliases, and inclusion-exclusion notes.\\n\\n\"\n",
    "        f\"Region default: {DEFAULT_REGION}\\n\"\n",
    "        f\"Time window: {DEFAULT_TIME_WINDOW}\\n\\n\"\n",
    "        \"Rules:\\n\"\n",
    "        \"- Use real-market groupings that practitioners recognize.\\n\"\n",
    "        \"- Keep names short and unambiguous.\\n\"\n",
    "        \"- Note key overlaps and what to exclude to avoid double counting.\\n\"\n",
    "        \"- This map will drive research and tagging for the final list.\\n\"\n",
    "        \"- Do not list any companies yet.\\n\"\n",
    "        \"Tooling note: When using the Serper search tool, pass a plain string to search_query (not a dict). Example: 'fintech sub-industry map US last 12 months'.\\n\"\n",
    "    ),\n",
    "    expected_output=(\n",
    "        #\"A JSON object with:\\n\"\n",
    "        #\"{\\n\"\n",
    "        #'  \"industry\": \"<input>\",\\n'\n",
    "        #'  \"scope_note\": \"<2-4 sentences>\",\\n'\n",
    "        #'  \"sub_industries\": [\\n'\n",
    "        #'    {\"name\": \"<name>\", \"definition\": \"<one line>\", \"aliases\": [\"a\",\"b\"], \"include\": \"<short>\", \"exclude\": \"<short>\"}\\n'\n",
    "        #\"  ]\\n\"\n",
    "        #\"}\\n\"\n",
    "        #\"Plus a short Markdown list rendering the sub-industries.\"\n",
    "        \"Deliver as a compact Markdown table for a quick skim.\"\n",
    "    ),\n",
    "    tools=[search_tool, scrape_tool],\n",
    "    agent=industry_taxonomist,\n",
    ")"
   ]
  },
  {
   "cell_type": "code",
   "execution_count": 11,
   "id": "ab1f401b",
   "metadata": {},
   "outputs": [],
   "source": [
    "mine_companies = Task(\n",
    "    description=(\n",
    "        \"Using the sub-industry map produced earlier, research the most important companies in each sub-industry of {industry}. \"\n",
    "        \"Collect signals required for stage classification and ranking. Bias toward current scale and impact in the specified region and time window.\\n\\n\"\n",
    "        \"What to capture per company:\\n\"\n",
    "        \"- Canonical name and homepage URL\\n\"\n",
    "        \"- Sub-industry tag from the map\\n\"\n",
    "        \"- One-line description and notable products\\n\"\n",
    "        \"- Funding stage or latest round, employees, valuation or revenue if available\\n\"\n",
    "        #\"- At least {min_sources} credible sources with URLs and last-updated dates\\n\\n\"\n",
    "        \"Quality rules:\\n\"\n",
    "        \"- Prefer primary sources and recent data. Avoid low-credibility blogs.\\n\"\n",
    "        \"- Reconcile conflicting facts. Note uncertainty briefly if needed.\\n\"\n",
    "        \"- Remove duplicates and product-level entries if a parent company is the actual entity.\\n\"\n",
    "        \"- It is fine to collect more than {top_n} candidates at this stage, but keep it tight and relevant.\\n\"\n",
    "        \"- Make sure to include all relevant companies in the search query and the final list.\"\n",
    "        \"Tooling note: When using the Serper search tool, pass a plain string to search_query (not a dict). Example: 'fintech sub-industry map US last 12 months'.\\n\"\n",
    "    ).format(industry=\"{industry}\", top_n=TOP_N_OVERALL),\n",
    "    expected_output=(\n",
    "        #\"A JSON array named `candidates` where each item includes:\\n\"\n",
    "        #\"{\\n\"\n",
    "        #'  \"company\": \"<name>\", \"url\": \"<homepage>\", \"sub_industry\": \"<from map>\",\\n'\n",
    "        #'  \"description\": \"<one line>\",\\n'\n",
    "        #'  \"signals\": {\"funding_stage_or_round\":\"<text>\", \"employees\":\"<int or null>\", \"valuation_or_revenue\":\"<text or null>\", \"notable_products_or_share\":\"<text or null>\"},\\n'\n",
    "        #'  \"sources\": [{\"url\":\"<url>\", \"last_updated\":\"<YYYY-MM or YYYY-MM-DD>\", \"why_trustworthy\":\"<short>\"}]\\n'\n",
    "        #\"}\\n\"\n",
    "        #\"Deliver as JSON plus a compact Markdown table for a quick skim.\"\n",
    "        \"Deliver as a compact Markdown table for a quick skim.\"\n",
    "    ),\n",
    "    agent=research_analyst,\n",
    "    tools=[search_tool, scrape_tool],\n",
    ")"
   ]
  },
  {
   "cell_type": "code",
   "execution_count": 12,
   "id": "57df3475",
   "metadata": {},
   "outputs": [],
   "source": [
    "classify_and_rank = Task(\n",
    "    description=(\n",
    "        \"Take the candidate companies and produce the single ranked list for {industry}. \"\n",
    "        \"Apply the classification rubric and output at most \" + str(TOP_N_OVERALL) + \" rows overall. \"\n",
    "        \"Each row must include a stage label and a confidence score.\\n\\n\"\n",
    "        \"Do the following in order:\\n\"\n",
    "        \"1) Canonicalize and dedupe entities. Fix parent vs product labeling.\\n\"\n",
    "        \"2) Assign stage_label using the rubric below. Use available signals. If signals conflict, use the priority order.\\n\"\n",
    "        \"3) Score importance across the whole industry with a simple blend: scale (employees or revenue), traction or market share, funding stage, and mindshare. \"\n",
    "        \"   Break ties by confidence and data recency. Keep the method simple and explain it in one sentence.\\n\"\n",
    "        \"4) Enforce hard cap of \" + str(TOP_N_OVERALL) + \". Do not exceed it under any circumstance.\\n\"\n",
    "        \"5) Product a short Markdown table as a final result\"\n",
    "        #\"5) QA pass: each company must have at least \" + str(MIN_SIGNAL_SOURCES) + \" credible sources. Remove rows that do not meet the bar.\\n\"\n",
    "        #\"6) Produce final JSON and a short Markdown table.\\n\\n\"\n",
    "        \"Classification rubric:\\n\"\n",
    "        + CLASSIFICATION_RUBRIC + \"\\n\\n\"\n",
    "        \"Output format guide:\\n\"\n",
    "        + OUTPUT_SCHEMA_GUIDE + \"\\n\"\n",
    "    ),\n",
    "    expected_output=(\n",
    "        #\"Two parts:\\n\"\n",
    "        #\"1) Final JSON array named `top_list` with at most TOP_N_OVERALL items matching the schema guide.\\n\"\n",
    "        \"A concise Markdown table with columns: Rank, Company, Sub-industry, Stage\\n\"\n",
    "        \"Not a JSON array\"\n",
    "    ),\n",
    "    agent=classifier_ranker,\n",
    ")"
   ]
  },
  {
   "cell_type": "code",
   "execution_count": 13,
   "id": "e884b62d",
   "metadata": {},
   "outputs": [],
   "source": [
    "crew = Crew(\n",
    "    agents=[industry_taxonomist, research_analyst, classifier_ranker],\n",
    "    tasks=[map_subindustries, mine_companies, classify_and_rank],\n",
    "    verbose=True,\n",
    "    memory=True,\n",
    ")"
   ]
  },
  {
   "cell_type": "code",
   "execution_count": 14,
   "id": "9bb08c39",
   "metadata": {},
   "outputs": [
    {
     "name": "stdout",
     "output_type": "stream",
     "text": [
      "Researching Fintech \n",
      "Using default region: United States\n",
      "Using default timeframe: last 12 months\n"
     ]
    }
   ],
   "source": [
    "industry = input(\"Enter an industry you'd like to research: \")\n",
    "if not industry.strip():\n",
    "        industry = \"fintech\"  # Default industry\n",
    "        print(f\"Using default industry: {industry}\")\n",
    "else:\n",
    "        print(f\"Researching {industry}\")\n",
    "\n",
    "region = input(\"Enter the region you'd like to focus on: \")\n",
    "if not region.strip():\n",
    "        region = \"United States\"  # Default region\n",
    "        print(f\"Using default region: {region}\")\n",
    "else:\n",
    "        print(f\"Looking for companies in {region}\")\n",
    "\n",
    "time_window = input(\"Enter the time window you'd like to consider: \")\n",
    "if not time_window.strip():\n",
    "        time_window = \"last 12 months\"  # Default time_window\n",
    "        print(f\"Using default timeframe: {time_window}\")\n",
    "else:\n",
    "        print(f\"Timeframe: {time_window}\")\n",
    "\n",
    "#industry = \"WealthTech & Goal‑Based Advisors\"  # Change this to your desired industry\n",
    "#region = \"United States\"  # Change this to your desired region\n",
    "#time_window = \"last 12 months\"  # Change this to your desired time window"
   ]
  },
  {
   "cell_type": "code",
   "execution_count": 15,
   "id": "5a9fd37d",
   "metadata": {},
   "outputs": [
    {
     "name": "stdout",
     "output_type": "stream",
     "text": [
      "Starting research for Fintech  in United States over last 12 months...\n",
      "This may take several minutes. Please be patient...\n"
     ]
    },
    {
     "data": {
      "text/html": [
       "<pre style=\"white-space:pre;overflow-x:auto;line-height:normal;font-family:Menlo,'DejaVu Sans Mono',consolas,'Courier New',monospace\"><span style=\"color: #008080; text-decoration-color: #008080\">╭──────────────────────────────────────────── Crew Execution Started ─────────────────────────────────────────────╮</span>\n",
       "<span style=\"color: #008080; text-decoration-color: #008080\">│</span>                                                                                                                 <span style=\"color: #008080; text-decoration-color: #008080\">│</span>\n",
       "<span style=\"color: #008080; text-decoration-color: #008080\">│</span>  <span style=\"color: #008080; text-decoration-color: #008080; font-weight: bold\">Crew Execution Started</span>                                                                                         <span style=\"color: #008080; text-decoration-color: #008080\">│</span>\n",
       "<span style=\"color: #008080; text-decoration-color: #008080\">│</span>  <span style=\"color: #c0c0c0; text-decoration-color: #c0c0c0\">Name: </span><span style=\"color: #008080; text-decoration-color: #008080\">crew</span>                                                                                                     <span style=\"color: #008080; text-decoration-color: #008080\">│</span>\n",
       "<span style=\"color: #008080; text-decoration-color: #008080\">│</span>  <span style=\"color: #c0c0c0; text-decoration-color: #c0c0c0\">ID: </span><span style=\"color: #008080; text-decoration-color: #008080\">b710c230-2c95-4ed7-9b97-dd45409baf02</span>                                                                       <span style=\"color: #008080; text-decoration-color: #008080\">│</span>\n",
       "<span style=\"color: #008080; text-decoration-color: #008080\">│</span>  <span style=\"color: #c0c0c0; text-decoration-color: #c0c0c0\">Tool Args: </span>                                                                                                    <span style=\"color: #008080; text-decoration-color: #008080\">│</span>\n",
       "<span style=\"color: #008080; text-decoration-color: #008080\">│</span>                                                                                                                 <span style=\"color: #008080; text-decoration-color: #008080\">│</span>\n",
       "<span style=\"color: #008080; text-decoration-color: #008080\">│</span>                                                                                                                 <span style=\"color: #008080; text-decoration-color: #008080\">│</span>\n",
       "<span style=\"color: #008080; text-decoration-color: #008080\">╰─────────────────────────────────────────────────────────────────────────────────────────────────────────────────╯</span>\n",
       "</pre>\n"
      ],
      "text/plain": [
       "\u001b[36m╭─\u001b[0m\u001b[36m───────────────────────────────────────────\u001b[0m\u001b[36m Crew Execution Started \u001b[0m\u001b[36m────────────────────────────────────────────\u001b[0m\u001b[36m─╮\u001b[0m\n",
       "\u001b[36m│\u001b[0m                                                                                                                 \u001b[36m│\u001b[0m\n",
       "\u001b[36m│\u001b[0m  \u001b[1;36mCrew Execution Started\u001b[0m                                                                                         \u001b[36m│\u001b[0m\n",
       "\u001b[36m│\u001b[0m  \u001b[37mName: \u001b[0m\u001b[36mcrew\u001b[0m                                                                                                     \u001b[36m│\u001b[0m\n",
       "\u001b[36m│\u001b[0m  \u001b[37mID: \u001b[0m\u001b[36mb710c230-2c95-4ed7-9b97-dd45409baf02\u001b[0m                                                                       \u001b[36m│\u001b[0m\n",
       "\u001b[36m│\u001b[0m  \u001b[37mTool Args: \u001b[0m                                                                                                    \u001b[36m│\u001b[0m\n",
       "\u001b[36m│\u001b[0m                                                                                                                 \u001b[36m│\u001b[0m\n",
       "\u001b[36m│\u001b[0m                                                                                                                 \u001b[36m│\u001b[0m\n",
       "\u001b[36m╰─────────────────────────────────────────────────────────────────────────────────────────────────────────────────╯\u001b[0m\n"
      ]
     },
     "metadata": {},
     "output_type": "display_data"
    },
    {
     "data": {
      "text/html": [
       "<pre style=\"white-space:pre;overflow-x:auto;line-height:normal;font-family:Menlo,'DejaVu Sans Mono',consolas,'Courier New',monospace\">\n",
       "</pre>\n"
      ],
      "text/plain": [
       "\n"
      ]
     },
     "metadata": {},
     "output_type": "display_data"
    },
    {
     "data": {
      "application/vnd.jupyter.widget-view+json": {
       "model_id": "96d9217132f44153a9cdea42fe1361a7",
       "version_major": 2,
       "version_minor": 0
      },
      "text/plain": [
       "Output()"
      ]
     },
     "metadata": {},
     "output_type": "display_data"
    },
    {
     "data": {
      "text/html": [
       "<pre style=\"white-space:pre;overflow-x:auto;line-height:normal;font-family:Menlo,'DejaVu Sans Mono',consolas,'Courier New',monospace\"></pre>\n"
      ],
      "text/plain": []
     },
     "metadata": {},
     "output_type": "display_data"
    },
    {
     "data": {
      "text/html": [
       "<pre style=\"white-space:pre;overflow-x:auto;line-height:normal;font-family:Menlo,'DejaVu Sans Mono',consolas,'Courier New',monospace\"><span style=\"color: #008000; text-decoration-color: #008000\">╭────────────────────────────────────────────── 🧠 Retrieved Memory ──────────────────────────────────────────────╮</span>\n",
       "<span style=\"color: #008000; text-decoration-color: #008000\">│</span>                                                                                                                 <span style=\"color: #008000; text-decoration-color: #008000\">│</span>\n",
       "<span style=\"color: #008000; text-decoration-color: #008000\">│</span>  <span style=\"color: #c0c0c0; text-decoration-color: #c0c0c0\">Recent Insights:</span>                                                                                               <span style=\"color: #008000; text-decoration-color: #008000\">│</span>\n",
       "<span style=\"color: #008000; text-decoration-color: #008000\">│</span>  <span style=\"color: #c0c0c0; text-decoration-color: #c0c0c0\">- Thought: I will ground the fintech sub-industry map in US-market practice with a concise scope and a tight </span>  <span style=\"color: #008000; text-decoration-color: #008000\">│</span>\n",
       "<span style=\"color: #008000; text-decoration-color: #008000\">│</span>  <span style=\"color: #c0c0c0; text-decoration-color: #c0c0c0\">9-sub-industry structure, including aliases and inclusion/exclusion guidance to prevent double-counting.</span>       <span style=\"color: #008000; text-decoration-color: #008000\">│</span>\n",
       "<span style=\"color: #008000; text-decoration-color: #008000\">│</span>                                                                                                                 <span style=\"color: #008000; text-decoration-color: #008000\">│</span>\n",
       "<span style=\"color: #008000; text-decoration-color: #008000\">│</span>  <span style=\"color: #c0c0c0; text-decoration-color: #c0c0c0\">Action: Search the internet with Serper</span>                                                                        <span style=\"color: #008000; text-decoration-color: #008000\">│</span>\n",
       "<span style=\"color: #008000; text-decoration-color: #008000\">│</span>  <span style=\"color: #c0c0c0; text-decoration-color: #c0c0c0\">Action Input: {\"search_query\": \"fintech sub-industry taxonomy US 2024 2025\"}</span>                                   <span style=\"color: #008000; text-decoration-color: #008000\">│</span>\n",
       "<span style=\"color: #008000; text-decoration-color: #008000\">│</span>                                                                                                                 <span style=\"color: #008000; text-decoration-color: #008000\">│</span>\n",
       "<span style=\"color: #008000; text-decoration-color: #008000\">│</span>  <span style=\"color: #c0c0c0; text-decoration-color: #c0c0c0\">Observation: Found broadly accepted market groupings used by consultants and analysts, including: Payments &amp; </span>  <span style=\"color: #008000; text-decoration-color: #008000\">│</span>\n",
       "<span style=\"color: #008000; text-decoration-color: #008000\">│</span>  <span style=\"color: #c0c0c0; text-decoration-color: #c0c0c0\">processing, Lending (consumer &amp; SME), ...</span>                                                                      <span style=\"color: #008000; text-decoration-color: #008000\">│</span>\n",
       "<span style=\"color: #008000; text-decoration-color: #008000\">│</span>                                                                                                                 <span style=\"color: #008000; text-decoration-color: #008000\">│</span>\n",
       "<span style=\"color: #008000; text-decoration-color: #008000\">╰─────────────────────────────────────────── Retrieval Time: 907.12ms ────────────────────────────────────────────╯</span>\n",
       "</pre>\n"
      ],
      "text/plain": [
       "\u001b[32m╭─\u001b[0m\u001b[32m─────────────────────────────────────────────\u001b[0m\u001b[32m 🧠 Retrieved Memory \u001b[0m\u001b[32m─────────────────────────────────────────────\u001b[0m\u001b[32m─╮\u001b[0m\n",
       "\u001b[32m│\u001b[0m                                                                                                                 \u001b[32m│\u001b[0m\n",
       "\u001b[32m│\u001b[0m  \u001b[37mRecent Insights:\u001b[0m                                                                                               \u001b[32m│\u001b[0m\n",
       "\u001b[32m│\u001b[0m  \u001b[37m- Thought: I will ground the fintech sub-industry map in US-market practice with a concise scope and a tight \u001b[0m  \u001b[32m│\u001b[0m\n",
       "\u001b[32m│\u001b[0m  \u001b[37m9-sub-industry structure, including aliases and inclusion/exclusion guidance to prevent double-counting.\u001b[0m       \u001b[32m│\u001b[0m\n",
       "\u001b[32m│\u001b[0m                                                                                                                 \u001b[32m│\u001b[0m\n",
       "\u001b[32m│\u001b[0m  \u001b[37mAction: Search the internet with Serper\u001b[0m                                                                        \u001b[32m│\u001b[0m\n",
       "\u001b[32m│\u001b[0m  \u001b[37mAction Input: {\"search_query\": \"fintech sub-industry taxonomy US 2024 2025\"}\u001b[0m                                   \u001b[32m│\u001b[0m\n",
       "\u001b[32m│\u001b[0m                                                                                                                 \u001b[32m│\u001b[0m\n",
       "\u001b[32m│\u001b[0m  \u001b[37mObservation: Found broadly accepted market groupings used by consultants and analysts, including: Payments & \u001b[0m  \u001b[32m│\u001b[0m\n",
       "\u001b[32m│\u001b[0m  \u001b[37mprocessing, Lending (consumer & SME), ...\u001b[0m                                                                      \u001b[32m│\u001b[0m\n",
       "\u001b[32m│\u001b[0m                                                                                                                 \u001b[32m│\u001b[0m\n",
       "\u001b[32m╰─\u001b[0m\u001b[32m──────────────────────────────────────────\u001b[0m\u001b[32m Retrieval Time: 907.12ms \u001b[0m\u001b[32m───────────────────────────────────────────\u001b[0m\u001b[32m─╯\u001b[0m\n"
      ]
     },
     "metadata": {},
     "output_type": "display_data"
    },
    {
     "data": {
      "text/html": [
       "<pre style=\"white-space:pre;overflow-x:auto;line-height:normal;font-family:Menlo,'DejaVu Sans Mono',consolas,'Courier New',monospace\">\n",
       "</pre>\n"
      ],
      "text/plain": [
       "\n"
      ]
     },
     "metadata": {},
     "output_type": "display_data"
    },
    {
     "data": {
      "text/html": [
       "<pre style=\"white-space:pre;overflow-x:auto;line-height:normal;font-family:Menlo,'DejaVu Sans Mono',consolas,'Courier New',monospace\"><span style=\"color: #800080; text-decoration-color: #800080\">╭─────────────────────────────────────────────── 🤖 Agent Started ────────────────────────────────────────────────╮</span>\n",
       "<span style=\"color: #800080; text-decoration-color: #800080\">│</span>                                                                                                                 <span style=\"color: #800080; text-decoration-color: #800080\">│</span>\n",
       "<span style=\"color: #800080; text-decoration-color: #800080\">│</span>  <span style=\"color: #c0c0c0; text-decoration-color: #c0c0c0\">Agent: </span><span style=\"color: #00ff00; text-decoration-color: #00ff00; font-weight: bold\">Industry Taxonomist</span>                                                                                     <span style=\"color: #800080; text-decoration-color: #800080\">│</span>\n",
       "<span style=\"color: #800080; text-decoration-color: #800080\">│</span>                                                                                                                 <span style=\"color: #800080; text-decoration-color: #800080\">│</span>\n",
       "<span style=\"color: #800080; text-decoration-color: #800080\">│</span>  <span style=\"color: #c0c0c0; text-decoration-color: #c0c0c0\">Task: </span><span style=\"color: #00ff00; text-decoration-color: #00ff00\">Build a practical sub-industry map for Fintech . Output a brief scope note and a list of 6-12 </span>           <span style=\"color: #800080; text-decoration-color: #800080\">│</span>\n",
       "<span style=\"color: #800080; text-decoration-color: #800080\">│</span>  <span style=\"color: #00ff00; text-decoration-color: #00ff00\">sub-industries max. For each sub-industry, include: 1-line definition, common aliases, and </span>                    <span style=\"color: #800080; text-decoration-color: #800080\">│</span>\n",
       "<span style=\"color: #800080; text-decoration-color: #800080\">│</span>  <span style=\"color: #00ff00; text-decoration-color: #00ff00\">inclusion-exclusion notes.</span>                                                                                     <span style=\"color: #800080; text-decoration-color: #800080\">│</span>\n",
       "<span style=\"color: #800080; text-decoration-color: #800080\">│</span>                                                                                                                 <span style=\"color: #800080; text-decoration-color: #800080\">│</span>\n",
       "<span style=\"color: #800080; text-decoration-color: #800080\">│</span>  <span style=\"color: #00ff00; text-decoration-color: #00ff00\">Region default: United States</span>                                                                                  <span style=\"color: #800080; text-decoration-color: #800080\">│</span>\n",
       "<span style=\"color: #800080; text-decoration-color: #800080\">│</span>  <span style=\"color: #00ff00; text-decoration-color: #00ff00\">Time window: last 12 months</span>                                                                                    <span style=\"color: #800080; text-decoration-color: #800080\">│</span>\n",
       "<span style=\"color: #800080; text-decoration-color: #800080\">│</span>                                                                                                                 <span style=\"color: #800080; text-decoration-color: #800080\">│</span>\n",
       "<span style=\"color: #800080; text-decoration-color: #800080\">│</span>  <span style=\"color: #00ff00; text-decoration-color: #00ff00\">Rules:</span>                                                                                                         <span style=\"color: #800080; text-decoration-color: #800080\">│</span>\n",
       "<span style=\"color: #800080; text-decoration-color: #800080\">│</span>  <span style=\"color: #00ff00; text-decoration-color: #00ff00\">- Use real-market groupings that practitioners recognize.</span>                                                      <span style=\"color: #800080; text-decoration-color: #800080\">│</span>\n",
       "<span style=\"color: #800080; text-decoration-color: #800080\">│</span>  <span style=\"color: #00ff00; text-decoration-color: #00ff00\">- Keep names short and unambiguous.</span>                                                                            <span style=\"color: #800080; text-decoration-color: #800080\">│</span>\n",
       "<span style=\"color: #800080; text-decoration-color: #800080\">│</span>  <span style=\"color: #00ff00; text-decoration-color: #00ff00\">- Note key overlaps and what to exclude to avoid double counting.</span>                                              <span style=\"color: #800080; text-decoration-color: #800080\">│</span>\n",
       "<span style=\"color: #800080; text-decoration-color: #800080\">│</span>  <span style=\"color: #00ff00; text-decoration-color: #00ff00\">- This map will drive research and tagging for the final list.</span>                                                 <span style=\"color: #800080; text-decoration-color: #800080\">│</span>\n",
       "<span style=\"color: #800080; text-decoration-color: #800080\">│</span>  <span style=\"color: #00ff00; text-decoration-color: #00ff00\">- Do not list any companies yet.</span>                                                                               <span style=\"color: #800080; text-decoration-color: #800080\">│</span>\n",
       "<span style=\"color: #800080; text-decoration-color: #800080\">│</span>  <span style=\"color: #00ff00; text-decoration-color: #00ff00\">Tooling note: When using the Serper search tool, pass a plain string to search_query (not a dict). Example: </span>   <span style=\"color: #800080; text-decoration-color: #800080\">│</span>\n",
       "<span style=\"color: #800080; text-decoration-color: #800080\">│</span>  <span style=\"color: #00ff00; text-decoration-color: #00ff00\">'fintech sub-industry map US last 12 months'.</span>                                                                  <span style=\"color: #800080; text-decoration-color: #800080\">│</span>\n",
       "<span style=\"color: #800080; text-decoration-color: #800080\">│</span>                                                                                                                 <span style=\"color: #800080; text-decoration-color: #800080\">│</span>\n",
       "<span style=\"color: #800080; text-decoration-color: #800080\">│</span>                                                                                                                 <span style=\"color: #800080; text-decoration-color: #800080\">│</span>\n",
       "<span style=\"color: #800080; text-decoration-color: #800080\">╰─────────────────────────────────────────────────────────────────────────────────────────────────────────────────╯</span>\n",
       "</pre>\n"
      ],
      "text/plain": [
       "\u001b[35m╭─\u001b[0m\u001b[35m──────────────────────────────────────────────\u001b[0m\u001b[35m 🤖 Agent Started \u001b[0m\u001b[35m───────────────────────────────────────────────\u001b[0m\u001b[35m─╮\u001b[0m\n",
       "\u001b[35m│\u001b[0m                                                                                                                 \u001b[35m│\u001b[0m\n",
       "\u001b[35m│\u001b[0m  \u001b[37mAgent: \u001b[0m\u001b[1;92mIndustry Taxonomist\u001b[0m                                                                                     \u001b[35m│\u001b[0m\n",
       "\u001b[35m│\u001b[0m                                                                                                                 \u001b[35m│\u001b[0m\n",
       "\u001b[35m│\u001b[0m  \u001b[37mTask: \u001b[0m\u001b[92mBuild a practical sub-industry map for Fintech . Output a brief scope note and a list of 6-12 \u001b[0m           \u001b[35m│\u001b[0m\n",
       "\u001b[35m│\u001b[0m  \u001b[92msub-industries max. For each sub-industry, include: 1-line definition, common aliases, and \u001b[0m                    \u001b[35m│\u001b[0m\n",
       "\u001b[35m│\u001b[0m  \u001b[92minclusion-exclusion notes.\u001b[0m                                                                                     \u001b[35m│\u001b[0m\n",
       "\u001b[35m│\u001b[0m                                                                                                                 \u001b[35m│\u001b[0m\n",
       "\u001b[35m│\u001b[0m  \u001b[92mRegion default: United States\u001b[0m                                                                                  \u001b[35m│\u001b[0m\n",
       "\u001b[35m│\u001b[0m  \u001b[92mTime window: last 12 months\u001b[0m                                                                                    \u001b[35m│\u001b[0m\n",
       "\u001b[35m│\u001b[0m                                                                                                                 \u001b[35m│\u001b[0m\n",
       "\u001b[35m│\u001b[0m  \u001b[92mRules:\u001b[0m                                                                                                         \u001b[35m│\u001b[0m\n",
       "\u001b[35m│\u001b[0m  \u001b[92m- Use real-market groupings that practitioners recognize.\u001b[0m                                                      \u001b[35m│\u001b[0m\n",
       "\u001b[35m│\u001b[0m  \u001b[92m- Keep names short and unambiguous.\u001b[0m                                                                            \u001b[35m│\u001b[0m\n",
       "\u001b[35m│\u001b[0m  \u001b[92m- Note key overlaps and what to exclude to avoid double counting.\u001b[0m                                              \u001b[35m│\u001b[0m\n",
       "\u001b[35m│\u001b[0m  \u001b[92m- This map will drive research and tagging for the final list.\u001b[0m                                                 \u001b[35m│\u001b[0m\n",
       "\u001b[35m│\u001b[0m  \u001b[92m- Do not list any companies yet.\u001b[0m                                                                               \u001b[35m│\u001b[0m\n",
       "\u001b[35m│\u001b[0m  \u001b[92mTooling note: When using the Serper search tool, pass a plain string to search_query (not a dict). Example: \u001b[0m   \u001b[35m│\u001b[0m\n",
       "\u001b[35m│\u001b[0m  \u001b[92m'fintech sub-industry map US last 12 months'.\u001b[0m                                                                  \u001b[35m│\u001b[0m\n",
       "\u001b[35m│\u001b[0m                                                                                                                 \u001b[35m│\u001b[0m\n",
       "\u001b[35m│\u001b[0m                                                                                                                 \u001b[35m│\u001b[0m\n",
       "\u001b[35m╰─────────────────────────────────────────────────────────────────────────────────────────────────────────────────╯\u001b[0m\n"
      ]
     },
     "metadata": {},
     "output_type": "display_data"
    },
    {
     "data": {
      "text/html": [
       "<pre style=\"white-space:pre;overflow-x:auto;line-height:normal;font-family:Menlo,'DejaVu Sans Mono',consolas,'Courier New',monospace\">\n",
       "</pre>\n"
      ],
      "text/plain": [
       "\n"
      ]
     },
     "metadata": {},
     "output_type": "display_data"
    },
    {
     "data": {
      "application/vnd.jupyter.widget-view+json": {
       "model_id": "f56a59b9f29b471295749d68e01d0740",
       "version_major": 2,
       "version_minor": 0
      },
      "text/plain": [
       "Output()"
      ]
     },
     "metadata": {},
     "output_type": "display_data"
    },
    {
     "data": {
      "text/html": [
       "<pre style=\"white-space:pre;overflow-x:auto;line-height:normal;font-family:Menlo,'DejaVu Sans Mono',consolas,'Courier New',monospace\"></pre>\n"
      ],
      "text/plain": []
     },
     "metadata": {},
     "output_type": "display_data"
    },
    {
     "data": {
      "text/html": [
       "<pre style=\"white-space:pre;overflow-x:auto;line-height:normal;font-family:Menlo,'DejaVu Sans Mono',consolas,'Courier New',monospace\"><span style=\"color: #008000; text-decoration-color: #008000\">╭───────────────────────────────────────────── ✅ Agent Final Answer ─────────────────────────────────────────────╮</span>\n",
       "<span style=\"color: #008000; text-decoration-color: #008000\">│</span>                                                                                                                 <span style=\"color: #008000; text-decoration-color: #008000\">│</span>\n",
       "<span style=\"color: #008000; text-decoration-color: #008000\">│</span>  <span style=\"color: #c0c0c0; text-decoration-color: #c0c0c0\">Agent: </span><span style=\"color: #00ff00; text-decoration-color: #00ff00; font-weight: bold\">Industry Taxonomist</span>                                                                                     <span style=\"color: #008000; text-decoration-color: #008000\">│</span>\n",
       "<span style=\"color: #008000; text-decoration-color: #008000\">│</span>                                                                                                                 <span style=\"color: #008000; text-decoration-color: #008000\">│</span>\n",
       "<span style=\"color: #008000; text-decoration-color: #008000\">│</span>  <span style=\"color: #c0c0c0; text-decoration-color: #c0c0c0\">Final Answer:</span>                                                                                                  <span style=\"color: #008000; text-decoration-color: #008000\">│</span>\n",
       "<span style=\"color: #008000; text-decoration-color: #008000\">│</span>  <span style=\"color: #00ff00; text-decoration-color: #00ff00\">Scope note:</span>                                                                                                    <span style=\"color: #008000; text-decoration-color: #008000\">│</span>\n",
       "<span style=\"color: #008000; text-decoration-color: #008000\">│</span>  <span style=\"color: #00ff00; text-decoration-color: #00ff00\">- Region: United States</span>                                                                                        <span style=\"color: #008000; text-decoration-color: #008000\">│</span>\n",
       "<span style=\"color: #008000; text-decoration-color: #008000\">│</span>  <span style=\"color: #00ff00; text-decoration-color: #00ff00\">- Time window: last 12 months</span>                                                                                  <span style=\"color: #008000; text-decoration-color: #008000\">│</span>\n",
       "<span style=\"color: #008000; text-decoration-color: #008000\">│</span>  <span style=\"color: #00ff00; text-decoration-color: #00ff00\">- Purpose: provide a practical, market-aligned fintech sub-industry map for tagging and research planning; </span>    <span style=\"color: #008000; text-decoration-color: #008000\">│</span>\n",
       "<span style=\"color: #008000; text-decoration-color: #008000\">│</span>  <span style=\"color: #00ff00; text-decoration-color: #00ff00\">explicitly note overlaps to avoid double-counting; excludes non-fintech domains and end-user product lists.</span>    <span style=\"color: #008000; text-decoration-color: #008000\">│</span>\n",
       "<span style=\"color: #008000; text-decoration-color: #008000\">│</span>                                                                                                                 <span style=\"color: #008000; text-decoration-color: #008000\">│</span>\n",
       "<span style=\"color: #008000; text-decoration-color: #008000\">│</span>  <span style=\"color: #00ff00; text-decoration-color: #00ff00\">| Sub-industry | 1-line definition | Common aliases | Inclusion / Exclusion notes |</span>                            <span style=\"color: #008000; text-decoration-color: #008000\">│</span>\n",
       "<span style=\"color: #008000; text-decoration-color: #008000\">│</span>  <span style=\"color: #00ff00; text-decoration-color: #00ff00\">|---|---|---|---|</span>                                                                                              <span style=\"color: #008000; text-decoration-color: #008000\">│</span>\n",
       "<span style=\"color: #008000; text-decoration-color: #008000\">│</span>  <span style=\"color: #00ff00; text-decoration-color: #00ff00\">| Payments &amp; Payment Processing | Systems and services enabling electronic payments across cards, wallets, </span>    <span style=\"color: #008000; text-decoration-color: #008000\">│</span>\n",
       "<span style=\"color: #008000; text-decoration-color: #008000\">│</span>  <span style=\"color: #00ff00; text-decoration-color: #00ff00\">ACH, wires, and gateways. | Payments; payment rails; payment processing; card processing; merchant acquiring </span>  <span style=\"color: #008000; text-decoration-color: #008000\">│</span>\n",
       "<span style=\"color: #008000; text-decoration-color: #008000\">│</span>  <span style=\"color: #00ff00; text-decoration-color: #00ff00\">| Includes card-present and card-not-present payments, gateways, PSPs, merchant acquiring, ACH, wires, and </span>    <span style=\"color: #008000; text-decoration-color: #008000\">│</span>\n",
       "<span style=\"color: #008000; text-decoration-color: #008000\">│</span>  <span style=\"color: #00ff00; text-decoration-color: #00ff00\">mobile wallets. Excludes core banking, lending, or wealth management services; overlaps with BNPL and </span>         <span style=\"color: #008000; text-decoration-color: #008000\">│</span>\n",
       "<span style=\"color: #008000; text-decoration-color: #008000\">│</span>  <span style=\"color: #00ff00; text-decoration-color: #00ff00\">Embedded Finance where applicable. |</span>                                                                           <span style=\"color: #008000; text-decoration-color: #008000\">│</span>\n",
       "<span style=\"color: #008000; text-decoration-color: #008000\">│</span>  <span style=\"color: #00ff00; text-decoration-color: #00ff00\">| Lending (Consumer &amp; SME) | Credit origination and funding to individuals and small businesses, including </span>    <span style=\"color: #008000; text-decoration-color: #008000\">│</span>\n",
       "<span style=\"color: #008000; text-decoration-color: #008000\">│</span>  <span style=\"color: #00ff00; text-decoration-color: #00ff00\">marketplace lending. | Consumer lending; personal loans; SME lending; fintech lending; marketplace lending | </span>  <span style=\"color: #008000; text-decoration-color: #008000\">│</span>\n",
       "<span style=\"color: #008000; text-decoration-color: #008000\">│</span>  <span style=\"color: #00ff00; text-decoration-color: #00ff00\">Covers unsecured and secured consumer/ SME lending, credit lines, and platform-based lending. Excludes </span>        <span style=\"color: #008000; text-decoration-color: #008000\">│</span>\n",
       "<span style=\"color: #008000; text-decoration-color: #008000\">│</span>  <span style=\"color: #00ff00; text-decoration-color: #00ff00\">depository banking and pure payments activity; overlaps with BNPL and some open-banking-enabled credit use </span>    <span style=\"color: #008000; text-decoration-color: #008000\">│</span>\n",
       "<span style=\"color: #008000; text-decoration-color: #008000\">│</span>  <span style=\"color: #00ff00; text-decoration-color: #00ff00\">cases. |</span>                                                                                                       <span style=\"color: #008000; text-decoration-color: #008000\">│</span>\n",
       "<span style=\"color: #008000; text-decoration-color: #008000\">│</span>  <span style=\"color: #00ff00; text-decoration-color: #00ff00\">| Digital Banking &amp; Challenger Banks | Digital-first banks offering core banking services via app-centric </span>     <span style=\"color: #008000; text-decoration-color: #008000\">│</span>\n",
       "<span style=\"color: #008000; text-decoration-color: #008000\">│</span>  <span style=\"color: #00ff00; text-decoration-color: #00ff00\">experiences. | Neobanks; challenger banks; digital-only banks | Encompasses digital onboarding, </span>               <span style=\"color: #008000; text-decoration-color: #008000\">│</span>\n",
       "<span style=\"color: #008000; text-decoration-color: #008000\">│</span>  <span style=\"color: #00ff00; text-decoration-color: #00ff00\">checking/savings accounts, debit services, and transfers. Excludes traditional incumbent banks; overlaps with</span>  <span style=\"color: #008000; text-decoration-color: #008000\">│</span>\n",
       "<span style=\"color: #008000; text-decoration-color: #008000\">│</span>  <span style=\"color: #00ff00; text-decoration-color: #00ff00\">Open Banking/Open Finance and Embedded Finance where bank APIs are used. |</span>                                     <span style=\"color: #008000; text-decoration-color: #008000\">│</span>\n",
       "<span style=\"color: #008000; text-decoration-color: #008000\">│</span>  <span style=\"color: #00ff00; text-decoration-color: #00ff00\">| WealthTech &amp; Robo-Advisory | Online platforms delivering automated investment advice and asset management. </span>  <span style=\"color: #008000; text-decoration-color: #008000\">│</span>\n",
       "<span style=\"color: #008000; text-decoration-color: #008000\">│</span>  <span style=\"color: #00ff00; text-decoration-color: #00ff00\">| Robo-advisors; digital wealth; automated investing | Includes automated portfolio construction, </span>             <span style=\"color: #008000; text-decoration-color: #008000\">│</span>\n",
       "<span style=\"color: #008000; text-decoration-color: #008000\">│</span>  <span style=\"color: #00ff00; text-decoration-color: #00ff00\">rebalancing, and goal-based advice. Excludes high-touch institutional asset management and non-fintech wealth</span>  <span style=\"color: #008000; text-decoration-color: #008000\">│</span>\n",
       "<span style=\"color: #008000; text-decoration-color: #008000\">│</span>  <span style=\"color: #00ff00; text-decoration-color: #00ff00\">services. |</span>                                                                                                    <span style=\"color: #008000; text-decoration-color: #008000\">│</span>\n",
       "<span style=\"color: #008000; text-decoration-color: #008000\">│</span>  <span style=\"color: #00ff00; text-decoration-color: #00ff00\">| Insurtech | Tech-enabled insurance product design, distribution, and underwriting. | Insurance tech; </span>        <span style=\"color: #008000; text-decoration-color: #008000\">│</span>\n",
       "<span style=\"color: #008000; text-decoration-color: #008000\">│</span>  <span style=\"color: #00ff00; text-decoration-color: #00ff00\">digital insurance; insuretech | Covers digital distribution, underwriting platforms, policy admin, and claims</span>  <span style=\"color: #008000; text-decoration-color: #008000\">│</span>\n",
       "<span style=\"color: #008000; text-decoration-color: #008000\">│</span>  <span style=\"color: #00ff00; text-decoration-color: #00ff00\">tech. Excludes non-insurance risk technologies and traditional carrier IT. |</span>                                   <span style=\"color: #008000; text-decoration-color: #008000\">│</span>\n",
       "<span style=\"color: #008000; text-decoration-color: #008000\">│</span>  <span style=\"color: #00ff00; text-decoration-color: #00ff00\">| RegTech &amp; Compliance | Regulatory technology for financial services: KYC/AML, risk, fraud, and reporting. |</span>  <span style=\"color: #008000; text-decoration-color: #008000\">│</span>\n",
       "<span style=\"color: #008000; text-decoration-color: #008000\">│</span>  <span style=\"color: #00ff00; text-decoration-color: #00ff00\">RegTech; regulatory tech; compliance tech; financial crime tech | Includes KYC/AML screening, transaction </span>     <span style=\"color: #008000; text-decoration-color: #008000\">│</span>\n",
       "<span style=\"color: #008000; text-decoration-color: #008000\">│</span>  <span style=\"color: #00ff00; text-decoration-color: #00ff00\">monitoring, risk scoring, and regulatory reporting. Excludes general cybersecurity or IT operations not </span>       <span style=\"color: #008000; text-decoration-color: #008000\">│</span>\n",
       "<span style=\"color: #008000; text-decoration-color: #008000\">│</span>  <span style=\"color: #00ff00; text-decoration-color: #00ff00\">specific to finance regulatory regimes. |</span>                                                                      <span style=\"color: #008000; text-decoration-color: #008000\">│</span>\n",
       "<span style=\"color: #008000; text-decoration-color: #008000\">│</span>  <span style=\"color: #00ff00; text-decoration-color: #00ff00\">| Open Banking / Open Finance &amp; Embedded Finance | APIs and platforms enabling data sharing and embedded </span>      <span style=\"color: #008000; text-decoration-color: #008000\">│</span>\n",
       "<span style=\"color: #008000; text-decoration-color: #008000\">│</span>  <span style=\"color: #00ff00; text-decoration-color: #00ff00\">financial services inside non-financial apps. | Open Banking; Open Finance; API Banking; Embedded Finance; </span>    <span style=\"color: #008000; text-decoration-color: #008000\">│</span>\n",
       "<span style=\"color: #008000; text-decoration-color: #008000\">│</span>  <span style=\"color: #00ff00; text-decoration-color: #00ff00\">BaaS | Open data access with consent, data aggregation, and embedded payments/credit/financing in apps </span>        <span style=\"color: #008000; text-decoration-color: #008000\">│</span>\n",
       "<span style=\"color: #008000; text-decoration-color: #008000\">│</span>  <span style=\"color: #00ff00; text-decoration-color: #00ff00\">outside traditional banking. Excludes purely internal banking operations; overlaps with Digital Banking, </span>      <span style=\"color: #008000; text-decoration-color: #008000\">│</span>\n",
       "<span style=\"color: #008000; text-decoration-color: #008000\">│</span>  <span style=\"color: #00ff00; text-decoration-color: #00ff00\">BNPL, and Fintech Infrastructure where APIs power services. |</span>                                                  <span style=\"color: #008000; text-decoration-color: #008000\">│</span>\n",
       "<span style=\"color: #008000; text-decoration-color: #008000\">│</span>  <span style=\"color: #00ff00; text-decoration-color: #00ff00\">| BNPL (Buy Now, Pay Later) | Point-of-sale and online installment payments enabling deferred payments. | </span>     <span style=\"color: #008000; text-decoration-color: #008000\">│</span>\n",
       "<span style=\"color: #008000; text-decoration-color: #008000\">│</span>  <span style=\"color: #00ff00; text-decoration-color: #00ff00\">BNPL; pay-later; installments at checkout | Installment-based payment option at checkout; merchant financing;</span>  <span style=\"color: #008000; text-decoration-color: #008000\">│</span>\n",
       "<span style=\"color: #008000; text-decoration-color: #008000\">│</span>  <span style=\"color: #00ff00; text-decoration-color: #00ff00\">often part of payments stack. Excludes standalone traditional lending unless explicitly categorized as BNPL; </span>  <span style=\"color: #008000; text-decoration-color: #008000\">│</span>\n",
       "<span style=\"color: #008000; text-decoration-color: #008000\">│</span>  <span style=\"color: #00ff00; text-decoration-color: #00ff00\">overlaps with Payments and Lending. |</span>                                                                          <span style=\"color: #008000; text-decoration-color: #008000\">│</span>\n",
       "<span style=\"color: #008000; text-decoration-color: #008000\">│</span>  <span style=\"color: #00ff00; text-decoration-color: #00ff00\">| Fintech Infrastructure &amp; Platform Tech | Core fintech infrastructure enabling apps: identity, KYC/AML, </span>      <span style=\"color: #008000; text-decoration-color: #008000\">│</span>\n",
       "<span style=\"color: #008000; text-decoration-color: #008000\">│</span>  <span style=\"color: #00ff00; text-decoration-color: #00ff00\">payments rails, API platforms, and modular banking tech. | Fintech infra; platform tech; Banking-as-a-Service</span>  <span style=\"color: #008000; text-decoration-color: #008000\">│</span>\n",
       "<span style=\"color: #008000; text-decoration-color: #008000\">│</span>  <span style=\"color: #00ff00; text-decoration-color: #00ff00\">(BaaS); core tech | Platform-level tooling, APIs, microservices, compliance engines, and modular banking </span>      <span style=\"color: #008000; text-decoration-color: #008000\">│</span>\n",
       "<span style=\"color: #008000; text-decoration-color: #008000\">│</span>  <span style=\"color: #00ff00; text-decoration-color: #00ff00\">rails used by multiple fintech apps. Excludes end-user consumer apps; overlaps with Open Banking, RegTech, </span>    <span style=\"color: #008000; text-decoration-color: #008000\">│</span>\n",
       "<span style=\"color: #008000; text-decoration-color: #008000\">│</span>  <span style=\"color: #00ff00; text-decoration-color: #00ff00\">and Digital Banking where platform fundamentals are shared. | </span>                                                 <span style=\"color: #008000; text-decoration-color: #008000\">│</span>\n",
       "<span style=\"color: #008000; text-decoration-color: #008000\">│</span>                                                                                                                 <span style=\"color: #008000; text-decoration-color: #008000\">│</span>\n",
       "<span style=\"color: #008000; text-decoration-color: #008000\">│</span>  <span style=\"color: #00ff00; text-decoration-color: #00ff00\">Notes on overlaps and exclusions (quick reference):</span>                                                            <span style=\"color: #008000; text-decoration-color: #008000\">│</span>\n",
       "<span style=\"color: #008000; text-decoration-color: #008000\">│</span>  <span style=\"color: #00ff00; text-decoration-color: #00ff00\">- BNPL overlaps Payments and Lending; treat as a distinct sub-industry to avoid double-counting </span>               <span style=\"color: #008000; text-decoration-color: #008000\">│</span>\n",
       "<span style=\"color: #008000; text-decoration-color: #008000\">│</span>  <span style=\"color: #00ff00; text-decoration-color: #00ff00\">merchant-facing financing at checkout.</span>                                                                         <span style=\"color: #008000; text-decoration-color: #008000\">│</span>\n",
       "<span style=\"color: #008000; text-decoration-color: #008000\">│</span>  <span style=\"color: #00ff00; text-decoration-color: #00ff00\">- Open Banking overlaps Embedded Finance, Digital Banking, and Fintech Infrastructure; tag as a data/API </span>      <span style=\"color: #008000; text-decoration-color: #008000\">│</span>\n",
       "<span style=\"color: #008000; text-decoration-color: #008000\">│</span>  <span style=\"color: #00ff00; text-decoration-color: #00ff00\">layer when counting activities.</span>                                                                                <span style=\"color: #008000; text-decoration-color: #008000\">│</span>\n",
       "<span style=\"color: #008000; text-decoration-color: #008000\">│</span>  <span style=\"color: #00ff00; text-decoration-color: #00ff00\">- RegTech intersects other sub-industries where regulatory/compliance workflows are embedded, but remains a </span>   <span style=\"color: #008000; text-decoration-color: #008000\">│</span>\n",
       "<span style=\"color: #008000; text-decoration-color: #008000\">│</span>  <span style=\"color: #00ff00; text-decoration-color: #00ff00\">dedicated focus due to its specialized tooling.</span>                                                                <span style=\"color: #008000; text-decoration-color: #008000\">│</span>\n",
       "<span style=\"color: #008000; text-decoration-color: #008000\">│</span>  <span style=\"color: #00ff00; text-decoration-color: #00ff00\">- WealthTech overlaps with personal finance tools and some Robo-Advisory features; distinguish automated </span>      <span style=\"color: #008000; text-decoration-color: #008000\">│</span>\n",
       "<span style=\"color: #008000; text-decoration-color: #008000\">│</span>  <span style=\"color: #00ff00; text-decoration-color: #00ff00\">investment management from budgeting/financial planning apps.</span>                                                  <span style=\"color: #008000; text-decoration-color: #008000\">│</span>\n",
       "<span style=\"color: #008000; text-decoration-color: #008000\">│</span>  <span style=\"color: #00ff00; text-decoration-color: #00ff00\">- Digital Banking / Neobanks often rely on BaaS/Open Banking infrastructure; tagging should reflect both the </span>  <span style=\"color: #008000; text-decoration-color: #008000\">│</span>\n",
       "<span style=\"color: #008000; text-decoration-color: #008000\">│</span>  <span style=\"color: #00ff00; text-decoration-color: #00ff00\">consumer banking product and the underlying platform integrations.</span>                                             <span style=\"color: #008000; text-decoration-color: #008000\">│</span>\n",
       "<span style=\"color: #008000; text-decoration-color: #008000\">│</span>                                                                                                                 <span style=\"color: #008000; text-decoration-color: #008000\">│</span>\n",
       "<span style=\"color: #008000; text-decoration-color: #008000\">╰─────────────────────────────────────────────────────────────────────────────────────────────────────────────────╯</span>\n",
       "</pre>\n"
      ],
      "text/plain": [
       "\u001b[32m╭─\u001b[0m\u001b[32m────────────────────────────────────────────\u001b[0m\u001b[32m ✅ Agent Final Answer \u001b[0m\u001b[32m────────────────────────────────────────────\u001b[0m\u001b[32m─╮\u001b[0m\n",
       "\u001b[32m│\u001b[0m                                                                                                                 \u001b[32m│\u001b[0m\n",
       "\u001b[32m│\u001b[0m  \u001b[37mAgent: \u001b[0m\u001b[1;92mIndustry Taxonomist\u001b[0m                                                                                     \u001b[32m│\u001b[0m\n",
       "\u001b[32m│\u001b[0m                                                                                                                 \u001b[32m│\u001b[0m\n",
       "\u001b[32m│\u001b[0m  \u001b[37mFinal Answer:\u001b[0m                                                                                                  \u001b[32m│\u001b[0m\n",
       "\u001b[32m│\u001b[0m  \u001b[92mScope note:\u001b[0m                                                                                                    \u001b[32m│\u001b[0m\n",
       "\u001b[32m│\u001b[0m  \u001b[92m- Region: United States\u001b[0m                                                                                        \u001b[32m│\u001b[0m\n",
       "\u001b[32m│\u001b[0m  \u001b[92m- Time window: last 12 months\u001b[0m                                                                                  \u001b[32m│\u001b[0m\n",
       "\u001b[32m│\u001b[0m  \u001b[92m- Purpose: provide a practical, market-aligned fintech sub-industry map for tagging and research planning; \u001b[0m    \u001b[32m│\u001b[0m\n",
       "\u001b[32m│\u001b[0m  \u001b[92mexplicitly note overlaps to avoid double-counting; excludes non-fintech domains and end-user product lists.\u001b[0m    \u001b[32m│\u001b[0m\n",
       "\u001b[32m│\u001b[0m                                                                                                                 \u001b[32m│\u001b[0m\n",
       "\u001b[32m│\u001b[0m  \u001b[92m| Sub-industry | 1-line definition | Common aliases | Inclusion / Exclusion notes |\u001b[0m                            \u001b[32m│\u001b[0m\n",
       "\u001b[32m│\u001b[0m  \u001b[92m|---|---|---|---|\u001b[0m                                                                                              \u001b[32m│\u001b[0m\n",
       "\u001b[32m│\u001b[0m  \u001b[92m| Payments & Payment Processing | Systems and services enabling electronic payments across cards, wallets, \u001b[0m    \u001b[32m│\u001b[0m\n",
       "\u001b[32m│\u001b[0m  \u001b[92mACH, wires, and gateways. | Payments; payment rails; payment processing; card processing; merchant acquiring \u001b[0m  \u001b[32m│\u001b[0m\n",
       "\u001b[32m│\u001b[0m  \u001b[92m| Includes card-present and card-not-present payments, gateways, PSPs, merchant acquiring, ACH, wires, and \u001b[0m    \u001b[32m│\u001b[0m\n",
       "\u001b[32m│\u001b[0m  \u001b[92mmobile wallets. Excludes core banking, lending, or wealth management services; overlaps with BNPL and \u001b[0m         \u001b[32m│\u001b[0m\n",
       "\u001b[32m│\u001b[0m  \u001b[92mEmbedded Finance where applicable. |\u001b[0m                                                                           \u001b[32m│\u001b[0m\n",
       "\u001b[32m│\u001b[0m  \u001b[92m| Lending (Consumer & SME) | Credit origination and funding to individuals and small businesses, including \u001b[0m    \u001b[32m│\u001b[0m\n",
       "\u001b[32m│\u001b[0m  \u001b[92mmarketplace lending. | Consumer lending; personal loans; SME lending; fintech lending; marketplace lending | \u001b[0m  \u001b[32m│\u001b[0m\n",
       "\u001b[32m│\u001b[0m  \u001b[92mCovers unsecured and secured consumer/ SME lending, credit lines, and platform-based lending. Excludes \u001b[0m        \u001b[32m│\u001b[0m\n",
       "\u001b[32m│\u001b[0m  \u001b[92mdepository banking and pure payments activity; overlaps with BNPL and some open-banking-enabled credit use \u001b[0m    \u001b[32m│\u001b[0m\n",
       "\u001b[32m│\u001b[0m  \u001b[92mcases. |\u001b[0m                                                                                                       \u001b[32m│\u001b[0m\n",
       "\u001b[32m│\u001b[0m  \u001b[92m| Digital Banking & Challenger Banks | Digital-first banks offering core banking services via app-centric \u001b[0m     \u001b[32m│\u001b[0m\n",
       "\u001b[32m│\u001b[0m  \u001b[92mexperiences. | Neobanks; challenger banks; digital-only banks | Encompasses digital onboarding, \u001b[0m               \u001b[32m│\u001b[0m\n",
       "\u001b[32m│\u001b[0m  \u001b[92mchecking/savings accounts, debit services, and transfers. Excludes traditional incumbent banks; overlaps with\u001b[0m  \u001b[32m│\u001b[0m\n",
       "\u001b[32m│\u001b[0m  \u001b[92mOpen Banking/Open Finance and Embedded Finance where bank APIs are used. |\u001b[0m                                     \u001b[32m│\u001b[0m\n",
       "\u001b[32m│\u001b[0m  \u001b[92m| WealthTech & Robo-Advisory | Online platforms delivering automated investment advice and asset management. \u001b[0m  \u001b[32m│\u001b[0m\n",
       "\u001b[32m│\u001b[0m  \u001b[92m| Robo-advisors; digital wealth; automated investing | Includes automated portfolio construction, \u001b[0m             \u001b[32m│\u001b[0m\n",
       "\u001b[32m│\u001b[0m  \u001b[92mrebalancing, and goal-based advice. Excludes high-touch institutional asset management and non-fintech wealth\u001b[0m  \u001b[32m│\u001b[0m\n",
       "\u001b[32m│\u001b[0m  \u001b[92mservices. |\u001b[0m                                                                                                    \u001b[32m│\u001b[0m\n",
       "\u001b[32m│\u001b[0m  \u001b[92m| Insurtech | Tech-enabled insurance product design, distribution, and underwriting. | Insurance tech; \u001b[0m        \u001b[32m│\u001b[0m\n",
       "\u001b[32m│\u001b[0m  \u001b[92mdigital insurance; insuretech | Covers digital distribution, underwriting platforms, policy admin, and claims\u001b[0m  \u001b[32m│\u001b[0m\n",
       "\u001b[32m│\u001b[0m  \u001b[92mtech. Excludes non-insurance risk technologies and traditional carrier IT. |\u001b[0m                                   \u001b[32m│\u001b[0m\n",
       "\u001b[32m│\u001b[0m  \u001b[92m| RegTech & Compliance | Regulatory technology for financial services: KYC/AML, risk, fraud, and reporting. |\u001b[0m  \u001b[32m│\u001b[0m\n",
       "\u001b[32m│\u001b[0m  \u001b[92mRegTech; regulatory tech; compliance tech; financial crime tech | Includes KYC/AML screening, transaction \u001b[0m     \u001b[32m│\u001b[0m\n",
       "\u001b[32m│\u001b[0m  \u001b[92mmonitoring, risk scoring, and regulatory reporting. Excludes general cybersecurity or IT operations not \u001b[0m       \u001b[32m│\u001b[0m\n",
       "\u001b[32m│\u001b[0m  \u001b[92mspecific to finance regulatory regimes. |\u001b[0m                                                                      \u001b[32m│\u001b[0m\n",
       "\u001b[32m│\u001b[0m  \u001b[92m| Open Banking / Open Finance & Embedded Finance | APIs and platforms enabling data sharing and embedded \u001b[0m      \u001b[32m│\u001b[0m\n",
       "\u001b[32m│\u001b[0m  \u001b[92mfinancial services inside non-financial apps. | Open Banking; Open Finance; API Banking; Embedded Finance; \u001b[0m    \u001b[32m│\u001b[0m\n",
       "\u001b[32m│\u001b[0m  \u001b[92mBaaS | Open data access with consent, data aggregation, and embedded payments/credit/financing in apps \u001b[0m        \u001b[32m│\u001b[0m\n",
       "\u001b[32m│\u001b[0m  \u001b[92moutside traditional banking. Excludes purely internal banking operations; overlaps with Digital Banking, \u001b[0m      \u001b[32m│\u001b[0m\n",
       "\u001b[32m│\u001b[0m  \u001b[92mBNPL, and Fintech Infrastructure where APIs power services. |\u001b[0m                                                  \u001b[32m│\u001b[0m\n",
       "\u001b[32m│\u001b[0m  \u001b[92m| BNPL (Buy Now, Pay Later) | Point-of-sale and online installment payments enabling deferred payments. | \u001b[0m     \u001b[32m│\u001b[0m\n",
       "\u001b[32m│\u001b[0m  \u001b[92mBNPL; pay-later; installments at checkout | Installment-based payment option at checkout; merchant financing;\u001b[0m  \u001b[32m│\u001b[0m\n",
       "\u001b[32m│\u001b[0m  \u001b[92moften part of payments stack. Excludes standalone traditional lending unless explicitly categorized as BNPL; \u001b[0m  \u001b[32m│\u001b[0m\n",
       "\u001b[32m│\u001b[0m  \u001b[92moverlaps with Payments and Lending. |\u001b[0m                                                                          \u001b[32m│\u001b[0m\n",
       "\u001b[32m│\u001b[0m  \u001b[92m| Fintech Infrastructure & Platform Tech | Core fintech infrastructure enabling apps: identity, KYC/AML, \u001b[0m      \u001b[32m│\u001b[0m\n",
       "\u001b[32m│\u001b[0m  \u001b[92mpayments rails, API platforms, and modular banking tech. | Fintech infra; platform tech; Banking-as-a-Service\u001b[0m  \u001b[32m│\u001b[0m\n",
       "\u001b[32m│\u001b[0m  \u001b[92m(BaaS); core tech | Platform-level tooling, APIs, microservices, compliance engines, and modular banking \u001b[0m      \u001b[32m│\u001b[0m\n",
       "\u001b[32m│\u001b[0m  \u001b[92mrails used by multiple fintech apps. Excludes end-user consumer apps; overlaps with Open Banking, RegTech, \u001b[0m    \u001b[32m│\u001b[0m\n",
       "\u001b[32m│\u001b[0m  \u001b[92mand Digital Banking where platform fundamentals are shared. | \u001b[0m                                                 \u001b[32m│\u001b[0m\n",
       "\u001b[32m│\u001b[0m                                                                                                                 \u001b[32m│\u001b[0m\n",
       "\u001b[32m│\u001b[0m  \u001b[92mNotes on overlaps and exclusions (quick reference):\u001b[0m                                                            \u001b[32m│\u001b[0m\n",
       "\u001b[32m│\u001b[0m  \u001b[92m- BNPL overlaps Payments and Lending; treat as a distinct sub-industry to avoid double-counting \u001b[0m               \u001b[32m│\u001b[0m\n",
       "\u001b[32m│\u001b[0m  \u001b[92mmerchant-facing financing at checkout.\u001b[0m                                                                         \u001b[32m│\u001b[0m\n",
       "\u001b[32m│\u001b[0m  \u001b[92m- Open Banking overlaps Embedded Finance, Digital Banking, and Fintech Infrastructure; tag as a data/API \u001b[0m      \u001b[32m│\u001b[0m\n",
       "\u001b[32m│\u001b[0m  \u001b[92mlayer when counting activities.\u001b[0m                                                                                \u001b[32m│\u001b[0m\n",
       "\u001b[32m│\u001b[0m  \u001b[92m- RegTech intersects other sub-industries where regulatory/compliance workflows are embedded, but remains a \u001b[0m   \u001b[32m│\u001b[0m\n",
       "\u001b[32m│\u001b[0m  \u001b[92mdedicated focus due to its specialized tooling.\u001b[0m                                                                \u001b[32m│\u001b[0m\n",
       "\u001b[32m│\u001b[0m  \u001b[92m- WealthTech overlaps with personal finance tools and some Robo-Advisory features; distinguish automated \u001b[0m      \u001b[32m│\u001b[0m\n",
       "\u001b[32m│\u001b[0m  \u001b[92minvestment management from budgeting/financial planning apps.\u001b[0m                                                  \u001b[32m│\u001b[0m\n",
       "\u001b[32m│\u001b[0m  \u001b[92m- Digital Banking / Neobanks often rely on BaaS/Open Banking infrastructure; tagging should reflect both the \u001b[0m  \u001b[32m│\u001b[0m\n",
       "\u001b[32m│\u001b[0m  \u001b[92mconsumer banking product and the underlying platform integrations.\u001b[0m                                             \u001b[32m│\u001b[0m\n",
       "\u001b[32m│\u001b[0m                                                                                                                 \u001b[32m│\u001b[0m\n",
       "\u001b[32m╰─────────────────────────────────────────────────────────────────────────────────────────────────────────────────╯\u001b[0m\n"
      ]
     },
     "metadata": {},
     "output_type": "display_data"
    },
    {
     "data": {
      "text/html": [
       "<pre style=\"white-space:pre;overflow-x:auto;line-height:normal;font-family:Menlo,'DejaVu Sans Mono',consolas,'Courier New',monospace\">\n",
       "</pre>\n"
      ],
      "text/plain": [
       "\n"
      ]
     },
     "metadata": {},
     "output_type": "display_data"
    },
    {
     "data": {
      "application/vnd.jupyter.widget-view+json": {
       "model_id": "9cd973644ca244e79d0c3d6f277a7c08",
       "version_major": 2,
       "version_minor": 0
      },
      "text/plain": [
       "Output()"
      ]
     },
     "metadata": {},
     "output_type": "display_data"
    },
    {
     "data": {
      "text/html": [
       "<pre style=\"white-space:pre;overflow-x:auto;line-height:normal;font-family:Menlo,'DejaVu Sans Mono',consolas,'Courier New',monospace\"></pre>\n"
      ],
      "text/plain": []
     },
     "metadata": {},
     "output_type": "display_data"
    },
    {
     "data": {
      "text/html": [
       "<pre style=\"white-space:pre;overflow-x:auto;line-height:normal;font-family:Menlo,'DejaVu Sans Mono',consolas,'Courier New',monospace\"><span style=\"color: #008000; text-decoration-color: #008000\">╭──────────────────────────────────────────────── Task Completion ────────────────────────────────────────────────╮</span>\n",
       "<span style=\"color: #008000; text-decoration-color: #008000\">│</span>                                                                                                                 <span style=\"color: #008000; text-decoration-color: #008000\">│</span>\n",
       "<span style=\"color: #008000; text-decoration-color: #008000\">│</span>  <span style=\"color: #008000; text-decoration-color: #008000; font-weight: bold\">Task Completed</span>                                                                                                 <span style=\"color: #008000; text-decoration-color: #008000\">│</span>\n",
       "<span style=\"color: #008000; text-decoration-color: #008000\">│</span>  <span style=\"color: #c0c0c0; text-decoration-color: #c0c0c0\">Name: </span><span style=\"color: #008000; text-decoration-color: #008000\">ca99b146-1f2d-40ff-af7f-756539dd4ee9</span>                                                                     <span style=\"color: #008000; text-decoration-color: #008000\">│</span>\n",
       "<span style=\"color: #008000; text-decoration-color: #008000\">│</span>  <span style=\"color: #c0c0c0; text-decoration-color: #c0c0c0\">Agent: </span><span style=\"color: #008000; text-decoration-color: #008000\">Industry Taxonomist</span>                                                                                     <span style=\"color: #008000; text-decoration-color: #008000\">│</span>\n",
       "<span style=\"color: #008000; text-decoration-color: #008000\">│</span>  <span style=\"color: #c0c0c0; text-decoration-color: #c0c0c0\">Tool Args: </span>                                                                                                    <span style=\"color: #008000; text-decoration-color: #008000\">│</span>\n",
       "<span style=\"color: #008000; text-decoration-color: #008000\">│</span>                                                                                                                 <span style=\"color: #008000; text-decoration-color: #008000\">│</span>\n",
       "<span style=\"color: #008000; text-decoration-color: #008000\">│</span>                                                                                                                 <span style=\"color: #008000; text-decoration-color: #008000\">│</span>\n",
       "<span style=\"color: #008000; text-decoration-color: #008000\">╰─────────────────────────────────────────────────────────────────────────────────────────────────────────────────╯</span>\n",
       "</pre>\n"
      ],
      "text/plain": [
       "\u001b[32m╭─\u001b[0m\u001b[32m───────────────────────────────────────────────\u001b[0m\u001b[32m Task Completion \u001b[0m\u001b[32m───────────────────────────────────────────────\u001b[0m\u001b[32m─╮\u001b[0m\n",
       "\u001b[32m│\u001b[0m                                                                                                                 \u001b[32m│\u001b[0m\n",
       "\u001b[32m│\u001b[0m  \u001b[1;32mTask Completed\u001b[0m                                                                                                 \u001b[32m│\u001b[0m\n",
       "\u001b[32m│\u001b[0m  \u001b[37mName: \u001b[0m\u001b[32mca99b146-1f2d-40ff-af7f-756539dd4ee9\u001b[0m                                                                     \u001b[32m│\u001b[0m\n",
       "\u001b[32m│\u001b[0m  \u001b[37mAgent: \u001b[0m\u001b[32mIndustry Taxonomist\u001b[0m                                                                                     \u001b[32m│\u001b[0m\n",
       "\u001b[32m│\u001b[0m  \u001b[37mTool Args: \u001b[0m                                                                                                    \u001b[32m│\u001b[0m\n",
       "\u001b[32m│\u001b[0m                                                                                                                 \u001b[32m│\u001b[0m\n",
       "\u001b[32m│\u001b[0m                                                                                                                 \u001b[32m│\u001b[0m\n",
       "\u001b[32m╰─────────────────────────────────────────────────────────────────────────────────────────────────────────────────╯\u001b[0m\n"
      ]
     },
     "metadata": {},
     "output_type": "display_data"
    },
    {
     "data": {
      "text/html": [
       "<pre style=\"white-space:pre;overflow-x:auto;line-height:normal;font-family:Menlo,'DejaVu Sans Mono',consolas,'Courier New',monospace\">\n",
       "</pre>\n"
      ],
      "text/plain": [
       "\n"
      ]
     },
     "metadata": {},
     "output_type": "display_data"
    },
    {
     "data": {
      "application/vnd.jupyter.widget-view+json": {
       "model_id": "e691e23d2a9c42219d420031ecadb598",
       "version_major": 2,
       "version_minor": 0
      },
      "text/plain": [
       "Output()"
      ]
     },
     "metadata": {},
     "output_type": "display_data"
    },
    {
     "data": {
      "text/html": [
       "<pre style=\"white-space:pre;overflow-x:auto;line-height:normal;font-family:Menlo,'DejaVu Sans Mono',consolas,'Courier New',monospace\"></pre>\n"
      ],
      "text/plain": []
     },
     "metadata": {},
     "output_type": "display_data"
    },
    {
     "data": {
      "text/html": [
       "<pre style=\"white-space:pre;overflow-x:auto;line-height:normal;font-family:Menlo,'DejaVu Sans Mono',consolas,'Courier New',monospace\"><span style=\"color: #008000; text-decoration-color: #008000\">╭────────────────────────────────────────────── 🧠 Retrieved Memory ──────────────────────────────────────────────╮</span>\n",
       "<span style=\"color: #008000; text-decoration-color: #008000\">│</span>                                                                                                                 <span style=\"color: #008000; text-decoration-color: #008000\">│</span>\n",
       "<span style=\"color: #008000; text-decoration-color: #008000\">│</span>  <span style=\"color: #c0c0c0; text-decoration-color: #c0c0c0\">Entities:</span>                                                                                                      <span style=\"color: #008000; text-decoration-color: #008000\">│</span>\n",
       "<span style=\"color: #008000; text-decoration-color: #008000\">│</span>  <span style=\"color: #c0c0c0; text-decoration-color: #c0c0c0\">- Fintech Infrastructure &amp; Platform Tech(Sub-Industry): Core fintech infrastructure enabling apps: identity, </span>  <span style=\"color: #008000; text-decoration-color: #008000\">│</span>\n",
       "<span style=\"color: #008000; text-decoration-color: #008000\">│</span>  <span style=\"color: #c0c0c0; text-decoration-color: #c0c0c0\">KYC/AML, payments rails, API platforms, and modular banking tech.</span>                                              <span style=\"color: #008000; text-decoration-color: #008000\">│</span>\n",
       "<span style=\"color: #008000; text-decoration-color: #008000\">│</span>  <span style=\"color: #c0c0c0; text-decoration-color: #c0c0c0\">- Fintech Infrastructure &amp; Platform Tech(Sub-industry): Core fintech infrastructure enabling apps: identity, </span>  <span style=\"color: #008000; text-decoration-color: #008000\">│</span>\n",
       "<span style=\"color: #008000; text-decoration-color: #008000\">│</span>  <span style=\"color: #c0c0c0; text-decoration-color: #c0c0c0\">KYC/AML, payments rails, API platforms, and modular banking tech.</span>                                              <span style=\"color: #008000; text-decoration-color: #008000\">│</span>\n",
       "<span style=\"color: #008000; text-decoration-color: #008000\">│</span>  <span style=\"color: #c0c0c0; text-decoration-color: #c0c0c0\">- Fintech Infrastructure &amp; Platform Tech(Sub-industry): Core fintech infrastructure enabling apps: identity, </span>  <span style=\"color: #008000; text-decoration-color: #008000\">│</span>\n",
       "<span style=\"color: #008000; text-decoration-color: #008000\">│</span>  <span style=\"color: #c0c0c0; text-decoration-color: #c0c0c0\">KYC/AML, payments rails, API...</span>                                                                                <span style=\"color: #008000; text-decoration-color: #008000\">│</span>\n",
       "<span style=\"color: #008000; text-decoration-color: #008000\">│</span>                                                                                                                 <span style=\"color: #008000; text-decoration-color: #008000\">│</span>\n",
       "<span style=\"color: #008000; text-decoration-color: #008000\">╰─────────────────────────────────────────── Retrieval Time: 577.24ms ────────────────────────────────────────────╯</span>\n",
       "</pre>\n"
      ],
      "text/plain": [
       "\u001b[32m╭─\u001b[0m\u001b[32m─────────────────────────────────────────────\u001b[0m\u001b[32m 🧠 Retrieved Memory \u001b[0m\u001b[32m─────────────────────────────────────────────\u001b[0m\u001b[32m─╮\u001b[0m\n",
       "\u001b[32m│\u001b[0m                                                                                                                 \u001b[32m│\u001b[0m\n",
       "\u001b[32m│\u001b[0m  \u001b[37mEntities:\u001b[0m                                                                                                      \u001b[32m│\u001b[0m\n",
       "\u001b[32m│\u001b[0m  \u001b[37m- Fintech Infrastructure & Platform Tech(Sub-Industry): Core fintech infrastructure enabling apps: identity, \u001b[0m  \u001b[32m│\u001b[0m\n",
       "\u001b[32m│\u001b[0m  \u001b[37mKYC/AML, payments rails, API platforms, and modular banking tech.\u001b[0m                                              \u001b[32m│\u001b[0m\n",
       "\u001b[32m│\u001b[0m  \u001b[37m- Fintech Infrastructure & Platform Tech(Sub-industry): Core fintech infrastructure enabling apps: identity, \u001b[0m  \u001b[32m│\u001b[0m\n",
       "\u001b[32m│\u001b[0m  \u001b[37mKYC/AML, payments rails, API platforms, and modular banking tech.\u001b[0m                                              \u001b[32m│\u001b[0m\n",
       "\u001b[32m│\u001b[0m  \u001b[37m- Fintech Infrastructure & Platform Tech(Sub-industry): Core fintech infrastructure enabling apps: identity, \u001b[0m  \u001b[32m│\u001b[0m\n",
       "\u001b[32m│\u001b[0m  \u001b[37mKYC/AML, payments rails, API...\u001b[0m                                                                                \u001b[32m│\u001b[0m\n",
       "\u001b[32m│\u001b[0m                                                                                                                 \u001b[32m│\u001b[0m\n",
       "\u001b[32m╰─\u001b[0m\u001b[32m──────────────────────────────────────────\u001b[0m\u001b[32m Retrieval Time: 577.24ms \u001b[0m\u001b[32m───────────────────────────────────────────\u001b[0m\u001b[32m─╯\u001b[0m\n"
      ]
     },
     "metadata": {},
     "output_type": "display_data"
    },
    {
     "data": {
      "text/html": [
       "<pre style=\"white-space:pre;overflow-x:auto;line-height:normal;font-family:Menlo,'DejaVu Sans Mono',consolas,'Courier New',monospace\">\n",
       "</pre>\n"
      ],
      "text/plain": [
       "\n"
      ]
     },
     "metadata": {},
     "output_type": "display_data"
    },
    {
     "data": {
      "text/html": [
       "<pre style=\"white-space:pre;overflow-x:auto;line-height:normal;font-family:Menlo,'DejaVu Sans Mono',consolas,'Courier New',monospace\"><span style=\"color: #800080; text-decoration-color: #800080\">╭─────────────────────────────────────────────── 🤖 Agent Started ────────────────────────────────────────────────╮</span>\n",
       "<span style=\"color: #800080; text-decoration-color: #800080\">│</span>                                                                                                                 <span style=\"color: #800080; text-decoration-color: #800080\">│</span>\n",
       "<span style=\"color: #800080; text-decoration-color: #800080\">│</span>  <span style=\"color: #c0c0c0; text-decoration-color: #c0c0c0\">Agent: </span><span style=\"color: #00ff00; text-decoration-color: #00ff00; font-weight: bold\">Research Analyst</span>                                                                                        <span style=\"color: #800080; text-decoration-color: #800080\">│</span>\n",
       "<span style=\"color: #800080; text-decoration-color: #800080\">│</span>                                                                                                                 <span style=\"color: #800080; text-decoration-color: #800080\">│</span>\n",
       "<span style=\"color: #800080; text-decoration-color: #800080\">│</span>  <span style=\"color: #c0c0c0; text-decoration-color: #c0c0c0\">Task: </span><span style=\"color: #00ff00; text-decoration-color: #00ff00\">Using the sub-industry map produced earlier, research the most important companies in each sub-industry</span>  <span style=\"color: #800080; text-decoration-color: #800080\">│</span>\n",
       "<span style=\"color: #800080; text-decoration-color: #800080\">│</span>  <span style=\"color: #00ff00; text-decoration-color: #00ff00\">of Fintech . Collect signals required for stage classification and ranking. Bias toward current scale and </span>     <span style=\"color: #800080; text-decoration-color: #800080\">│</span>\n",
       "<span style=\"color: #800080; text-decoration-color: #800080\">│</span>  <span style=\"color: #00ff00; text-decoration-color: #00ff00\">impact in the specified region and time window.</span>                                                                <span style=\"color: #800080; text-decoration-color: #800080\">│</span>\n",
       "<span style=\"color: #800080; text-decoration-color: #800080\">│</span>                                                                                                                 <span style=\"color: #800080; text-decoration-color: #800080\">│</span>\n",
       "<span style=\"color: #800080; text-decoration-color: #800080\">│</span>  <span style=\"color: #00ff00; text-decoration-color: #00ff00\">What to capture per company:</span>                                                                                   <span style=\"color: #800080; text-decoration-color: #800080\">│</span>\n",
       "<span style=\"color: #800080; text-decoration-color: #800080\">│</span>  <span style=\"color: #00ff00; text-decoration-color: #00ff00\">- Canonical name and homepage URL</span>                                                                              <span style=\"color: #800080; text-decoration-color: #800080\">│</span>\n",
       "<span style=\"color: #800080; text-decoration-color: #800080\">│</span>  <span style=\"color: #00ff00; text-decoration-color: #00ff00\">- Sub-industry tag from the map</span>                                                                                <span style=\"color: #800080; text-decoration-color: #800080\">│</span>\n",
       "<span style=\"color: #800080; text-decoration-color: #800080\">│</span>  <span style=\"color: #00ff00; text-decoration-color: #00ff00\">- One-line description and notable products</span>                                                                    <span style=\"color: #800080; text-decoration-color: #800080\">│</span>\n",
       "<span style=\"color: #800080; text-decoration-color: #800080\">│</span>  <span style=\"color: #00ff00; text-decoration-color: #00ff00\">- Funding stage or latest round, employees, valuation or revenue if available</span>                                  <span style=\"color: #800080; text-decoration-color: #800080\">│</span>\n",
       "<span style=\"color: #800080; text-decoration-color: #800080\">│</span>  <span style=\"color: #00ff00; text-decoration-color: #00ff00\">Quality rules:</span>                                                                                                 <span style=\"color: #800080; text-decoration-color: #800080\">│</span>\n",
       "<span style=\"color: #800080; text-decoration-color: #800080\">│</span>  <span style=\"color: #00ff00; text-decoration-color: #00ff00\">- Prefer primary sources and recent data. Avoid low-credibility blogs.</span>                                         <span style=\"color: #800080; text-decoration-color: #800080\">│</span>\n",
       "<span style=\"color: #800080; text-decoration-color: #800080\">│</span>  <span style=\"color: #00ff00; text-decoration-color: #00ff00\">- Reconcile conflicting facts. Note uncertainty briefly if needed.</span>                                             <span style=\"color: #800080; text-decoration-color: #800080\">│</span>\n",
       "<span style=\"color: #800080; text-decoration-color: #800080\">│</span>  <span style=\"color: #00ff00; text-decoration-color: #00ff00\">- Remove duplicates and product-level entries if a parent company is the actual entity.</span>                        <span style=\"color: #800080; text-decoration-color: #800080\">│</span>\n",
       "<span style=\"color: #800080; text-decoration-color: #800080\">│</span>  <span style=\"color: #00ff00; text-decoration-color: #00ff00\">- It is fine to collect more than 30 candidates at this stage, but keep it tight and relevant.</span>                 <span style=\"color: #800080; text-decoration-color: #800080\">│</span>\n",
       "<span style=\"color: #800080; text-decoration-color: #800080\">│</span>  <span style=\"color: #00ff00; text-decoration-color: #00ff00\">- Make sure to include all relevant companies in the search query and the final list.Tooling note: When using</span>  <span style=\"color: #800080; text-decoration-color: #800080\">│</span>\n",
       "<span style=\"color: #800080; text-decoration-color: #800080\">│</span>  <span style=\"color: #00ff00; text-decoration-color: #00ff00\">the Serper search tool, pass a plain string to search_query (not a dict). Example: 'fintech sub-industry map </span>  <span style=\"color: #800080; text-decoration-color: #800080\">│</span>\n",
       "<span style=\"color: #800080; text-decoration-color: #800080\">│</span>  <span style=\"color: #00ff00; text-decoration-color: #00ff00\">US last 12 months'.</span>                                                                                            <span style=\"color: #800080; text-decoration-color: #800080\">│</span>\n",
       "<span style=\"color: #800080; text-decoration-color: #800080\">│</span>                                                                                                                 <span style=\"color: #800080; text-decoration-color: #800080\">│</span>\n",
       "<span style=\"color: #800080; text-decoration-color: #800080\">│</span>                                                                                                                 <span style=\"color: #800080; text-decoration-color: #800080\">│</span>\n",
       "<span style=\"color: #800080; text-decoration-color: #800080\">╰─────────────────────────────────────────────────────────────────────────────────────────────────────────────────╯</span>\n",
       "</pre>\n"
      ],
      "text/plain": [
       "\u001b[35m╭─\u001b[0m\u001b[35m──────────────────────────────────────────────\u001b[0m\u001b[35m 🤖 Agent Started \u001b[0m\u001b[35m───────────────────────────────────────────────\u001b[0m\u001b[35m─╮\u001b[0m\n",
       "\u001b[35m│\u001b[0m                                                                                                                 \u001b[35m│\u001b[0m\n",
       "\u001b[35m│\u001b[0m  \u001b[37mAgent: \u001b[0m\u001b[1;92mResearch Analyst\u001b[0m                                                                                        \u001b[35m│\u001b[0m\n",
       "\u001b[35m│\u001b[0m                                                                                                                 \u001b[35m│\u001b[0m\n",
       "\u001b[35m│\u001b[0m  \u001b[37mTask: \u001b[0m\u001b[92mUsing the sub-industry map produced earlier, research the most important companies in each sub-industry\u001b[0m  \u001b[35m│\u001b[0m\n",
       "\u001b[35m│\u001b[0m  \u001b[92mof Fintech . Collect signals required for stage classification and ranking. Bias toward current scale and \u001b[0m     \u001b[35m│\u001b[0m\n",
       "\u001b[35m│\u001b[0m  \u001b[92mimpact in the specified region and time window.\u001b[0m                                                                \u001b[35m│\u001b[0m\n",
       "\u001b[35m│\u001b[0m                                                                                                                 \u001b[35m│\u001b[0m\n",
       "\u001b[35m│\u001b[0m  \u001b[92mWhat to capture per company:\u001b[0m                                                                                   \u001b[35m│\u001b[0m\n",
       "\u001b[35m│\u001b[0m  \u001b[92m- Canonical name and homepage URL\u001b[0m                                                                              \u001b[35m│\u001b[0m\n",
       "\u001b[35m│\u001b[0m  \u001b[92m- Sub-industry tag from the map\u001b[0m                                                                                \u001b[35m│\u001b[0m\n",
       "\u001b[35m│\u001b[0m  \u001b[92m- One-line description and notable products\u001b[0m                                                                    \u001b[35m│\u001b[0m\n",
       "\u001b[35m│\u001b[0m  \u001b[92m- Funding stage or latest round, employees, valuation or revenue if available\u001b[0m                                  \u001b[35m│\u001b[0m\n",
       "\u001b[35m│\u001b[0m  \u001b[92mQuality rules:\u001b[0m                                                                                                 \u001b[35m│\u001b[0m\n",
       "\u001b[35m│\u001b[0m  \u001b[92m- Prefer primary sources and recent data. Avoid low-credibility blogs.\u001b[0m                                         \u001b[35m│\u001b[0m\n",
       "\u001b[35m│\u001b[0m  \u001b[92m- Reconcile conflicting facts. Note uncertainty briefly if needed.\u001b[0m                                             \u001b[35m│\u001b[0m\n",
       "\u001b[35m│\u001b[0m  \u001b[92m- Remove duplicates and product-level entries if a parent company is the actual entity.\u001b[0m                        \u001b[35m│\u001b[0m\n",
       "\u001b[35m│\u001b[0m  \u001b[92m- It is fine to collect more than 30 candidates at this stage, but keep it tight and relevant.\u001b[0m                 \u001b[35m│\u001b[0m\n",
       "\u001b[35m│\u001b[0m  \u001b[92m- Make sure to include all relevant companies in the search query and the final list.Tooling note: When using\u001b[0m  \u001b[35m│\u001b[0m\n",
       "\u001b[35m│\u001b[0m  \u001b[92mthe Serper search tool, pass a plain string to search_query (not a dict). Example: 'fintech sub-industry map \u001b[0m  \u001b[35m│\u001b[0m\n",
       "\u001b[35m│\u001b[0m  \u001b[92mUS last 12 months'.\u001b[0m                                                                                            \u001b[35m│\u001b[0m\n",
       "\u001b[35m│\u001b[0m                                                                                                                 \u001b[35m│\u001b[0m\n",
       "\u001b[35m│\u001b[0m                                                                                                                 \u001b[35m│\u001b[0m\n",
       "\u001b[35m╰─────────────────────────────────────────────────────────────────────────────────────────────────────────────────╯\u001b[0m\n"
      ]
     },
     "metadata": {},
     "output_type": "display_data"
    },
    {
     "data": {
      "text/html": [
       "<pre style=\"white-space:pre;overflow-x:auto;line-height:normal;font-family:Menlo,'DejaVu Sans Mono',consolas,'Courier New',monospace\">\n",
       "</pre>\n"
      ],
      "text/plain": [
       "\n"
      ]
     },
     "metadata": {},
     "output_type": "display_data"
    },
    {
     "data": {
      "application/vnd.jupyter.widget-view+json": {
       "model_id": "de2b2adca7614d048b67321a5b2de7e0",
       "version_major": 2,
       "version_minor": 0
      },
      "text/plain": [
       "Output()"
      ]
     },
     "metadata": {},
     "output_type": "display_data"
    },
    {
     "data": {
      "text/html": [
       "<pre style=\"white-space:pre;overflow-x:auto;line-height:normal;font-family:Menlo,'DejaVu Sans Mono',consolas,'Courier New',monospace\"></pre>\n"
      ],
      "text/plain": []
     },
     "metadata": {},
     "output_type": "display_data"
    },
    {
     "data": {
      "text/html": [
       "<pre style=\"white-space:pre;overflow-x:auto;line-height:normal;font-family:Menlo,'DejaVu Sans Mono',consolas,'Courier New',monospace\"><span style=\"color: #008000; text-decoration-color: #008000\">╭───────────────────────────────────────────── ✅ Agent Final Answer ─────────────────────────────────────────────╮</span>\n",
       "<span style=\"color: #008000; text-decoration-color: #008000\">│</span>                                                                                                                 <span style=\"color: #008000; text-decoration-color: #008000\">│</span>\n",
       "<span style=\"color: #008000; text-decoration-color: #008000\">│</span>  <span style=\"color: #c0c0c0; text-decoration-color: #c0c0c0\">Agent: </span><span style=\"color: #00ff00; text-decoration-color: #00ff00; font-weight: bold\">Research Analyst</span>                                                                                        <span style=\"color: #008000; text-decoration-color: #008000\">│</span>\n",
       "<span style=\"color: #008000; text-decoration-color: #008000\">│</span>                                                                                                                 <span style=\"color: #008000; text-decoration-color: #008000\">│</span>\n",
       "<span style=\"color: #008000; text-decoration-color: #008000\">│</span>  <span style=\"color: #c0c0c0; text-decoration-color: #c0c0c0\">Final Answer:</span>                                                                                                  <span style=\"color: #008000; text-decoration-color: #008000\">│</span>\n",
       "<span style=\"color: #008000; text-decoration-color: #008000\">│</span>  <span style=\"color: #00ff00; text-decoration-color: #00ff00\">Thought: Plan to build a multi-sub-industry candidate list focused on the US, prioritizing recent data (last </span>  <span style=\"color: #008000; text-decoration-color: #008000\">│</span>\n",
       "<span style=\"color: #008000; text-decoration-color: #008000\">│</span>  <span style=\"color: #00ff00; text-decoration-color: #00ff00\">12 months) and credible sources. I’ll start by pulling top players per sub-industry, then fetch key signals </span>   <span style=\"color: #008000; text-decoration-color: #008000\">│</span>\n",
       "<span style=\"color: #008000; text-decoration-color: #008000\">│</span>  <span style=\"color: #00ff00; text-decoration-color: #00ff00\">(description, products, funding stage if private, or revenue/valuation if public), and keep source URLs for </span>   <span style=\"color: #008000; text-decoration-color: #008000\">│</span>\n",
       "<span style=\"color: #008000; text-decoration-color: #008000\">│</span>  <span style=\"color: #00ff00; text-decoration-color: #00ff00\">each data point. I will assign each company to a single sub-industry to avoid duplicates, preferring primary </span>  <span style=\"color: #008000; text-decoration-color: #008000\">│</span>\n",
       "<span style=\"color: #008000; text-decoration-color: #008000\">│</span>  <span style=\"color: #00ff00; text-decoration-color: #00ff00\">sources and recent filings or press releases.</span>                                                                  <span style=\"color: #008000; text-decoration-color: #008000\">│</span>\n",
       "<span style=\"color: #008000; text-decoration-color: #008000\">│</span>                                                                                                                 <span style=\"color: #008000; text-decoration-color: #008000\">│</span>\n",
       "<span style=\"color: #008000; text-decoration-color: #008000\">│</span>  <span style=\"color: #00ff00; text-decoration-color: #00ff00\">Action: Search the internet with Serper</span>                                                                        <span style=\"color: #008000; text-decoration-color: #008000\">│</span>\n",
       "<span style=\"color: #008000; text-decoration-color: #008000\">│</span>  <span style=\"color: #00ff00; text-decoration-color: #00ff00\">{\"search_query\": \"PayPal annual report 2024 revenue 2023 2024 investor relations\"}</span>                             <span style=\"color: #008000; text-decoration-color: #008000\">│</span>\n",
       "<span style=\"color: #008000; text-decoration-color: #008000\">│</span>                                                                                                                 <span style=\"color: #008000; text-decoration-color: #008000\">│</span>\n",
       "<span style=\"color: #008000; text-decoration-color: #008000\">╰─────────────────────────────────────────────────────────────────────────────────────────────────────────────────╯</span>\n",
       "</pre>\n"
      ],
      "text/plain": [
       "\u001b[32m╭─\u001b[0m\u001b[32m────────────────────────────────────────────\u001b[0m\u001b[32m ✅ Agent Final Answer \u001b[0m\u001b[32m────────────────────────────────────────────\u001b[0m\u001b[32m─╮\u001b[0m\n",
       "\u001b[32m│\u001b[0m                                                                                                                 \u001b[32m│\u001b[0m\n",
       "\u001b[32m│\u001b[0m  \u001b[37mAgent: \u001b[0m\u001b[1;92mResearch Analyst\u001b[0m                                                                                        \u001b[32m│\u001b[0m\n",
       "\u001b[32m│\u001b[0m                                                                                                                 \u001b[32m│\u001b[0m\n",
       "\u001b[32m│\u001b[0m  \u001b[37mFinal Answer:\u001b[0m                                                                                                  \u001b[32m│\u001b[0m\n",
       "\u001b[32m│\u001b[0m  \u001b[92mThought: Plan to build a multi-sub-industry candidate list focused on the US, prioritizing recent data (last \u001b[0m  \u001b[32m│\u001b[0m\n",
       "\u001b[32m│\u001b[0m  \u001b[92m12 months) and credible sources. I’ll start by pulling top players per sub-industry, then fetch key signals \u001b[0m   \u001b[32m│\u001b[0m\n",
       "\u001b[32m│\u001b[0m  \u001b[92m(description, products, funding stage if private, or revenue/valuation if public), and keep source URLs for \u001b[0m   \u001b[32m│\u001b[0m\n",
       "\u001b[32m│\u001b[0m  \u001b[92meach data point. I will assign each company to a single sub-industry to avoid duplicates, preferring primary \u001b[0m  \u001b[32m│\u001b[0m\n",
       "\u001b[32m│\u001b[0m  \u001b[92msources and recent filings or press releases.\u001b[0m                                                                  \u001b[32m│\u001b[0m\n",
       "\u001b[32m│\u001b[0m                                                                                                                 \u001b[32m│\u001b[0m\n",
       "\u001b[32m│\u001b[0m  \u001b[92mAction: Search the internet with Serper\u001b[0m                                                                        \u001b[32m│\u001b[0m\n",
       "\u001b[32m│\u001b[0m  \u001b[92m{\"search_query\": \"PayPal annual report 2024 revenue 2023 2024 investor relations\"}\u001b[0m                             \u001b[32m│\u001b[0m\n",
       "\u001b[32m│\u001b[0m                                                                                                                 \u001b[32m│\u001b[0m\n",
       "\u001b[32m╰─────────────────────────────────────────────────────────────────────────────────────────────────────────────────╯\u001b[0m\n"
      ]
     },
     "metadata": {},
     "output_type": "display_data"
    },
    {
     "data": {
      "text/html": [
       "<pre style=\"white-space:pre;overflow-x:auto;line-height:normal;font-family:Menlo,'DejaVu Sans Mono',consolas,'Courier New',monospace\">\n",
       "</pre>\n"
      ],
      "text/plain": [
       "\n"
      ]
     },
     "metadata": {},
     "output_type": "display_data"
    },
    {
     "data": {
      "application/vnd.jupyter.widget-view+json": {
       "model_id": "1dadd8c9140741ef91d714976e7a8381",
       "version_major": 2,
       "version_minor": 0
      },
      "text/plain": [
       "Output()"
      ]
     },
     "metadata": {},
     "output_type": "display_data"
    },
    {
     "data": {
      "text/html": [
       "<pre style=\"white-space:pre;overflow-x:auto;line-height:normal;font-family:Menlo,'DejaVu Sans Mono',consolas,'Courier New',monospace\"></pre>\n"
      ],
      "text/plain": []
     },
     "metadata": {},
     "output_type": "display_data"
    },
    {
     "data": {
      "text/html": [
       "<pre style=\"white-space:pre;overflow-x:auto;line-height:normal;font-family:Menlo,'DejaVu Sans Mono',consolas,'Courier New',monospace\"><span style=\"color: #008000; text-decoration-color: #008000\">╭──────────────────────────────────────────────── Task Completion ────────────────────────────────────────────────╮</span>\n",
       "<span style=\"color: #008000; text-decoration-color: #008000\">│</span>                                                                                                                 <span style=\"color: #008000; text-decoration-color: #008000\">│</span>\n",
       "<span style=\"color: #008000; text-decoration-color: #008000\">│</span>  <span style=\"color: #008000; text-decoration-color: #008000; font-weight: bold\">Task Completed</span>                                                                                                 <span style=\"color: #008000; text-decoration-color: #008000\">│</span>\n",
       "<span style=\"color: #008000; text-decoration-color: #008000\">│</span>  <span style=\"color: #c0c0c0; text-decoration-color: #c0c0c0\">Name: </span><span style=\"color: #008000; text-decoration-color: #008000\">ce03c923-7a3a-4cb7-8e07-08b9c7530567</span>                                                                     <span style=\"color: #008000; text-decoration-color: #008000\">│</span>\n",
       "<span style=\"color: #008000; text-decoration-color: #008000\">│</span>  <span style=\"color: #c0c0c0; text-decoration-color: #c0c0c0\">Agent: </span><span style=\"color: #008000; text-decoration-color: #008000\">Research Analyst</span>                                                                                        <span style=\"color: #008000; text-decoration-color: #008000\">│</span>\n",
       "<span style=\"color: #008000; text-decoration-color: #008000\">│</span>  <span style=\"color: #c0c0c0; text-decoration-color: #c0c0c0\">Tool Args: </span>                                                                                                    <span style=\"color: #008000; text-decoration-color: #008000\">│</span>\n",
       "<span style=\"color: #008000; text-decoration-color: #008000\">│</span>                                                                                                                 <span style=\"color: #008000; text-decoration-color: #008000\">│</span>\n",
       "<span style=\"color: #008000; text-decoration-color: #008000\">│</span>                                                                                                                 <span style=\"color: #008000; text-decoration-color: #008000\">│</span>\n",
       "<span style=\"color: #008000; text-decoration-color: #008000\">╰─────────────────────────────────────────────────────────────────────────────────────────────────────────────────╯</span>\n",
       "</pre>\n"
      ],
      "text/plain": [
       "\u001b[32m╭─\u001b[0m\u001b[32m───────────────────────────────────────────────\u001b[0m\u001b[32m Task Completion \u001b[0m\u001b[32m───────────────────────────────────────────────\u001b[0m\u001b[32m─╮\u001b[0m\n",
       "\u001b[32m│\u001b[0m                                                                                                                 \u001b[32m│\u001b[0m\n",
       "\u001b[32m│\u001b[0m  \u001b[1;32mTask Completed\u001b[0m                                                                                                 \u001b[32m│\u001b[0m\n",
       "\u001b[32m│\u001b[0m  \u001b[37mName: \u001b[0m\u001b[32mce03c923-7a3a-4cb7-8e07-08b9c7530567\u001b[0m                                                                     \u001b[32m│\u001b[0m\n",
       "\u001b[32m│\u001b[0m  \u001b[37mAgent: \u001b[0m\u001b[32mResearch Analyst\u001b[0m                                                                                        \u001b[32m│\u001b[0m\n",
       "\u001b[32m│\u001b[0m  \u001b[37mTool Args: \u001b[0m                                                                                                    \u001b[32m│\u001b[0m\n",
       "\u001b[32m│\u001b[0m                                                                                                                 \u001b[32m│\u001b[0m\n",
       "\u001b[32m│\u001b[0m                                                                                                                 \u001b[32m│\u001b[0m\n",
       "\u001b[32m╰─────────────────────────────────────────────────────────────────────────────────────────────────────────────────╯\u001b[0m\n"
      ]
     },
     "metadata": {},
     "output_type": "display_data"
    },
    {
     "data": {
      "text/html": [
       "<pre style=\"white-space:pre;overflow-x:auto;line-height:normal;font-family:Menlo,'DejaVu Sans Mono',consolas,'Courier New',monospace\">\n",
       "</pre>\n"
      ],
      "text/plain": [
       "\n"
      ]
     },
     "metadata": {},
     "output_type": "display_data"
    },
    {
     "data": {
      "application/vnd.jupyter.widget-view+json": {
       "model_id": "f5092f4fff524f13837b38e4ebdba196",
       "version_major": 2,
       "version_minor": 0
      },
      "text/plain": [
       "Output()"
      ]
     },
     "metadata": {},
     "output_type": "display_data"
    },
    {
     "data": {
      "text/html": [
       "<pre style=\"white-space:pre;overflow-x:auto;line-height:normal;font-family:Menlo,'DejaVu Sans Mono',consolas,'Courier New',monospace\"></pre>\n"
      ],
      "text/plain": []
     },
     "metadata": {},
     "output_type": "display_data"
    },
    {
     "data": {
      "text/html": [
       "<pre style=\"white-space:pre;overflow-x:auto;line-height:normal;font-family:Menlo,'DejaVu Sans Mono',consolas,'Courier New',monospace\"><span style=\"color: #008000; text-decoration-color: #008000\">╭────────────────────────────────────────────── 🧠 Retrieved Memory ──────────────────────────────────────────────╮</span>\n",
       "<span style=\"color: #008000; text-decoration-color: #008000\">│</span>                                                                                                                 <span style=\"color: #008000; text-decoration-color: #008000\">│</span>\n",
       "<span style=\"color: #008000; text-decoration-color: #008000\">│</span>  <span style=\"color: #c0c0c0; text-decoration-color: #c0c0c0\">Entities:</span>                                                                                                      <span style=\"color: #008000; text-decoration-color: #008000\">│</span>\n",
       "<span style=\"color: #008000; text-decoration-color: #008000\">│</span>  <span style=\"color: #c0c0c0; text-decoration-color: #c0c0c0\">- Task: Fintech ranking(Process): Goal to produce a single ranked list for fintech with stage labels and </span>      <span style=\"color: #008000; text-decoration-color: #008000\">│</span>\n",
       "<span style=\"color: #008000; text-decoration-color: #008000\">│</span>  <span style=\"color: #c0c0c0; text-decoration-color: #c0c0c0\">confidence scores under 30 rows</span>                                                                                <span style=\"color: #008000; text-decoration-color: #008000\">│</span>\n",
       "<span style=\"color: #008000; text-decoration-color: #008000\">│</span>  <span style=\"color: #c0c0c0; text-decoration-color: #c0c0c0\">- Fintech Infrastructure &amp; Platform Tech(Sub-Industry): Core fintech infrastructure enabling apps: identity, </span>  <span style=\"color: #008000; text-decoration-color: #008000\">│</span>\n",
       "<span style=\"color: #008000; text-decoration-color: #008000\">│</span>  <span style=\"color: #c0c0c0; text-decoration-color: #c0c0c0\">KYC/AML, payments rails, API platforms, and modular banking tech.</span>                                              <span style=\"color: #008000; text-decoration-color: #008000\">│</span>\n",
       "<span style=\"color: #008000; text-decoration-color: #008000\">│</span>  <span style=\"color: #c0c0c0; text-decoration-color: #c0c0c0\">- Fintech Infrastructure &amp; Platform Tech(Sub-industry): Core fintech infrastructure enabling apps: identity, </span>  <span style=\"color: #008000; text-decoration-color: #008000\">│</span>\n",
       "<span style=\"color: #008000; text-decoration-color: #008000\">│</span>  <span style=\"color: #c0c0c0; text-decoration-color: #c0c0c0\">KYC/AML, payments rails, API platforms, and modular banking tech.</span>                                              <span style=\"color: #008000; text-decoration-color: #008000\">│</span>\n",
       "<span style=\"color: #008000; text-decoration-color: #008000\">│</span>                                                                                                                 <span style=\"color: #008000; text-decoration-color: #008000\">│</span>\n",
       "<span style=\"color: #008000; text-decoration-color: #008000\">╰─────────────────────────────────────────── Retrieval Time: 470.92ms ────────────────────────────────────────────╯</span>\n",
       "</pre>\n"
      ],
      "text/plain": [
       "\u001b[32m╭─\u001b[0m\u001b[32m─────────────────────────────────────────────\u001b[0m\u001b[32m 🧠 Retrieved Memory \u001b[0m\u001b[32m─────────────────────────────────────────────\u001b[0m\u001b[32m─╮\u001b[0m\n",
       "\u001b[32m│\u001b[0m                                                                                                                 \u001b[32m│\u001b[0m\n",
       "\u001b[32m│\u001b[0m  \u001b[37mEntities:\u001b[0m                                                                                                      \u001b[32m│\u001b[0m\n",
       "\u001b[32m│\u001b[0m  \u001b[37m- Task: Fintech ranking(Process): Goal to produce a single ranked list for fintech with stage labels and \u001b[0m      \u001b[32m│\u001b[0m\n",
       "\u001b[32m│\u001b[0m  \u001b[37mconfidence scores under 30 rows\u001b[0m                                                                                \u001b[32m│\u001b[0m\n",
       "\u001b[32m│\u001b[0m  \u001b[37m- Fintech Infrastructure & Platform Tech(Sub-Industry): Core fintech infrastructure enabling apps: identity, \u001b[0m  \u001b[32m│\u001b[0m\n",
       "\u001b[32m│\u001b[0m  \u001b[37mKYC/AML, payments rails, API platforms, and modular banking tech.\u001b[0m                                              \u001b[32m│\u001b[0m\n",
       "\u001b[32m│\u001b[0m  \u001b[37m- Fintech Infrastructure & Platform Tech(Sub-industry): Core fintech infrastructure enabling apps: identity, \u001b[0m  \u001b[32m│\u001b[0m\n",
       "\u001b[32m│\u001b[0m  \u001b[37mKYC/AML, payments rails, API platforms, and modular banking tech.\u001b[0m                                              \u001b[32m│\u001b[0m\n",
       "\u001b[32m│\u001b[0m                                                                                                                 \u001b[32m│\u001b[0m\n",
       "\u001b[32m╰─\u001b[0m\u001b[32m──────────────────────────────────────────\u001b[0m\u001b[32m Retrieval Time: 470.92ms \u001b[0m\u001b[32m───────────────────────────────────────────\u001b[0m\u001b[32m─╯\u001b[0m\n"
      ]
     },
     "metadata": {},
     "output_type": "display_data"
    },
    {
     "data": {
      "text/html": [
       "<pre style=\"white-space:pre;overflow-x:auto;line-height:normal;font-family:Menlo,'DejaVu Sans Mono',consolas,'Courier New',monospace\">\n",
       "</pre>\n"
      ],
      "text/plain": [
       "\n"
      ]
     },
     "metadata": {},
     "output_type": "display_data"
    },
    {
     "data": {
      "text/html": [
       "<pre style=\"white-space:pre;overflow-x:auto;line-height:normal;font-family:Menlo,'DejaVu Sans Mono',consolas,'Courier New',monospace\"><span style=\"color: #800080; text-decoration-color: #800080\">╭─────────────────────────────────────────────── 🤖 Agent Started ────────────────────────────────────────────────╮</span>\n",
       "<span style=\"color: #800080; text-decoration-color: #800080\">│</span>                                                                                                                 <span style=\"color: #800080; text-decoration-color: #800080\">│</span>\n",
       "<span style=\"color: #800080; text-decoration-color: #800080\">│</span>  <span style=\"color: #c0c0c0; text-decoration-color: #c0c0c0\">Agent: </span><span style=\"color: #00ff00; text-decoration-color: #00ff00; font-weight: bold\">Stage Classifier and Ranker</span>                                                                             <span style=\"color: #800080; text-decoration-color: #800080\">│</span>\n",
       "<span style=\"color: #800080; text-decoration-color: #800080\">│</span>                                                                                                                 <span style=\"color: #800080; text-decoration-color: #800080\">│</span>\n",
       "<span style=\"color: #800080; text-decoration-color: #800080\">│</span>  <span style=\"color: #c0c0c0; text-decoration-color: #c0c0c0\">Task: </span><span style=\"color: #00ff00; text-decoration-color: #00ff00\">Take the candidate companies and produce the single ranked list for Fintech . Apply the classification </span>  <span style=\"color: #800080; text-decoration-color: #800080\">│</span>\n",
       "<span style=\"color: #800080; text-decoration-color: #800080\">│</span>  <span style=\"color: #00ff00; text-decoration-color: #00ff00\">rubric and output at most 30 rows overall. Each row must include a stage label and a confidence score.</span>         <span style=\"color: #800080; text-decoration-color: #800080\">│</span>\n",
       "<span style=\"color: #800080; text-decoration-color: #800080\">│</span>                                                                                                                 <span style=\"color: #800080; text-decoration-color: #800080\">│</span>\n",
       "<span style=\"color: #800080; text-decoration-color: #800080\">│</span>  <span style=\"color: #00ff00; text-decoration-color: #00ff00\">Do the following in order:</span>                                                                                     <span style=\"color: #800080; text-decoration-color: #800080\">│</span>\n",
       "<span style=\"color: #800080; text-decoration-color: #800080\">│</span>  <span style=\"color: #00ff00; text-decoration-color: #00ff00\">1) Canonicalize and dedupe entities. Fix parent vs product labeling.</span>                                           <span style=\"color: #800080; text-decoration-color: #800080\">│</span>\n",
       "<span style=\"color: #800080; text-decoration-color: #800080\">│</span>  <span style=\"color: #00ff00; text-decoration-color: #00ff00\">2) Assign stage_label using the rubric below. Use available signals. If signals conflict, use the priority </span>    <span style=\"color: #800080; text-decoration-color: #800080\">│</span>\n",
       "<span style=\"color: #800080; text-decoration-color: #800080\">│</span>  <span style=\"color: #00ff00; text-decoration-color: #00ff00\">order.</span>                                                                                                         <span style=\"color: #800080; text-decoration-color: #800080\">│</span>\n",
       "<span style=\"color: #800080; text-decoration-color: #800080\">│</span>  <span style=\"color: #00ff00; text-decoration-color: #00ff00\">3) Score importance across the whole industry with a simple blend: scale (employees or revenue), traction or </span>  <span style=\"color: #800080; text-decoration-color: #800080\">│</span>\n",
       "<span style=\"color: #800080; text-decoration-color: #800080\">│</span>  <span style=\"color: #00ff00; text-decoration-color: #00ff00\">market share, funding stage, and mindshare.    Break ties by confidence and data recency. Keep the method </span>     <span style=\"color: #800080; text-decoration-color: #800080\">│</span>\n",
       "<span style=\"color: #800080; text-decoration-color: #800080\">│</span>  <span style=\"color: #00ff00; text-decoration-color: #00ff00\">simple and explain it in one sentence.</span>                                                                         <span style=\"color: #800080; text-decoration-color: #800080\">│</span>\n",
       "<span style=\"color: #800080; text-decoration-color: #800080\">│</span>  <span style=\"color: #00ff00; text-decoration-color: #00ff00\">4) Enforce hard cap of 30. Do not exceed it under any circumstance.</span>                                            <span style=\"color: #800080; text-decoration-color: #800080\">│</span>\n",
       "<span style=\"color: #800080; text-decoration-color: #800080\">│</span>  <span style=\"color: #00ff00; text-decoration-color: #00ff00\">5) Product a short Markdown table as a final resultClassification rubric:</span>                                      <span style=\"color: #800080; text-decoration-color: #800080\">│</span>\n",
       "<span style=\"color: #800080; text-decoration-color: #800080\">│</span>                                                                                                                 <span style=\"color: #800080; text-decoration-color: #800080\">│</span>\n",
       "<span style=\"color: #800080; text-decoration-color: #800080\">│</span>  <span style=\"color: #00ff00; text-decoration-color: #00ff00\">Stage labels:</span>                                                                                                  <span style=\"color: #800080; text-decoration-color: #800080\">│</span>\n",
       "<span style=\"color: #800080; text-decoration-color: #800080\">│</span>  <span style=\"color: #00ff00; text-decoration-color: #00ff00\">- Big Tech: public, multi-product tech platform or incumbent with either ≥10k employees or ≥10B market cap or</span>  <span style=\"color: #800080; text-decoration-color: #800080\">│</span>\n",
       "<span style=\"color: #800080; text-decoration-color: #800080\">│</span>  <span style=\"color: #00ff00; text-decoration-color: #00ff00\">clear category dominance.</span>                                                                                      <span style=\"color: #800080; text-decoration-color: #800080\">│</span>\n",
       "<span style=\"color: #800080; text-decoration-color: #800080\">│</span>  <span style=\"color: #00ff00; text-decoration-color: #00ff00\">- Late-stage startup: Series D+ or valuation ≥1B, or ≥500 employees, or estimated revenue ≥100M.</span>               <span style=\"color: #800080; text-decoration-color: #800080\">│</span>\n",
       "<span style=\"color: #800080; text-decoration-color: #800080\">│</span>  <span style=\"color: #00ff00; text-decoration-color: #00ff00\">- Mid-stage startup: Series B–C, 100–499 employees, valuation ~100M–1B, or revenue ~10–100M.</span>                   <span style=\"color: #800080; text-decoration-color: #800080\">│</span>\n",
       "<span style=\"color: #800080; text-decoration-color: #800080\">│</span>  <span style=\"color: #00ff00; text-decoration-color: #00ff00\">- Early-stage startup: Pre-seed–Series A, &lt;100 employees, or revenue &lt;10M.</span>                                     <span style=\"color: #800080; text-decoration-color: #800080\">│</span>\n",
       "<span style=\"color: #800080; text-decoration-color: #800080\">│</span>  <span style=\"color: #00ff00; text-decoration-color: #00ff00\">Signal priority when conflict appears: funding stage, then employee count, then valuation, then revenue. </span>      <span style=\"color: #800080; text-decoration-color: #800080\">│</span>\n",
       "<span style=\"color: #800080; text-decoration-color: #800080\">│</span>  <span style=\"color: #00ff00; text-decoration-color: #00ff00\">Always return a confidence score.</span>                                                                              <span style=\"color: #800080; text-decoration-color: #800080\">│</span>\n",
       "<span style=\"color: #800080; text-decoration-color: #800080\">│</span>  <span style=\"color: #00ff00; text-decoration-color: #00ff00\">Hard caps: output is a single ranked list of at most TOP_N_OVERALL companies overall. Do not exceed the cap.</span>   <span style=\"color: #800080; text-decoration-color: #800080\">│</span>\n",
       "<span style=\"color: #800080; text-decoration-color: #800080\">│</span>                                                                                                                 <span style=\"color: #800080; text-decoration-color: #800080\">│</span>\n",
       "<span style=\"color: #800080; text-decoration-color: #800080\">│</span>                                                                                                                 <span style=\"color: #800080; text-decoration-color: #800080\">│</span>\n",
       "<span style=\"color: #800080; text-decoration-color: #800080\">│</span>  <span style=\"color: #00ff00; text-decoration-color: #00ff00\">Output format guide:</span>                                                                                           <span style=\"color: #800080; text-decoration-color: #800080\">│</span>\n",
       "<span style=\"color: #800080; text-decoration-color: #800080\">│</span>                                                                                                                 <span style=\"color: #800080; text-decoration-color: #800080\">│</span>\n",
       "<span style=\"color: #800080; text-decoration-color: #800080\">│</span>  <span style=\"color: #00ff00; text-decoration-color: #00ff00\">Final JSON array item shape:</span>                                                                                   <span style=\"color: #800080; text-decoration-color: #800080\">│</span>\n",
       "<span style=\"color: #800080; text-decoration-color: #800080\">│</span>  <span style=\"color: #00ff00; text-decoration-color: #00ff00\">{{</span>                                                                                                             <span style=\"color: #800080; text-decoration-color: #800080\">│</span>\n",
       "<span style=\"color: #800080; text-decoration-color: #800080\">│</span>  <span style=\"color: #00ff00; text-decoration-color: #00ff00\">  \"rank\": &lt;int 1..TOP_N_OVERALL&gt;,</span>                                                                              <span style=\"color: #800080; text-decoration-color: #800080\">│</span>\n",
       "<span style=\"color: #800080; text-decoration-color: #800080\">│</span>  <span style=\"color: #00ff00; text-decoration-color: #00ff00\">  \"company\": \"&lt;marketed company name&gt;\",</span>                                                                        <span style=\"color: #800080; text-decoration-color: #800080\">│</span>\n",
       "<span style=\"color: #800080; text-decoration-color: #800080\">│</span>  <span style=\"color: #00ff00; text-decoration-color: #00ff00\">  \"sub_industry\": \"&lt;one of the mapped sub-industries&gt;\",</span>                                                        <span style=\"color: #800080; text-decoration-color: #800080\">│</span>\n",
       "<span style=\"color: #800080; text-decoration-color: #800080\">│</span>  <span style=\"color: #00ff00; text-decoration-color: #00ff00\">  \"stage_label\": \"&lt;Big Tech | Late-stage startup | Mid-stage startup | Early-stage startup&gt;\"</span>                   <span style=\"color: #800080; text-decoration-color: #800080\">│</span>\n",
       "<span style=\"color: #800080; text-decoration-color: #800080\">│</span>  <span style=\"color: #00ff00; text-decoration-color: #00ff00\">}}</span>                                                                                                             <span style=\"color: #800080; text-decoration-color: #800080\">│</span>\n",
       "<span style=\"color: #800080; text-decoration-color: #800080\">│</span>  <span style=\"color: #00ff00; text-decoration-color: #00ff00\">Provide the final JSON and also a short, human-friendly Markdown table with the same rows.</span>                     <span style=\"color: #800080; text-decoration-color: #800080\">│</span>\n",
       "<span style=\"color: #800080; text-decoration-color: #800080\">│</span>                                                                                                                 <span style=\"color: #800080; text-decoration-color: #800080\">│</span>\n",
       "<span style=\"color: #800080; text-decoration-color: #800080\">│</span>                                                                                                                 <span style=\"color: #800080; text-decoration-color: #800080\">│</span>\n",
       "<span style=\"color: #800080; text-decoration-color: #800080\">│</span>                                                                                                                 <span style=\"color: #800080; text-decoration-color: #800080\">│</span>\n",
       "<span style=\"color: #800080; text-decoration-color: #800080\">╰─────────────────────────────────────────────────────────────────────────────────────────────────────────────────╯</span>\n",
       "</pre>\n"
      ],
      "text/plain": [
       "\u001b[35m╭─\u001b[0m\u001b[35m──────────────────────────────────────────────\u001b[0m\u001b[35m 🤖 Agent Started \u001b[0m\u001b[35m───────────────────────────────────────────────\u001b[0m\u001b[35m─╮\u001b[0m\n",
       "\u001b[35m│\u001b[0m                                                                                                                 \u001b[35m│\u001b[0m\n",
       "\u001b[35m│\u001b[0m  \u001b[37mAgent: \u001b[0m\u001b[1;92mStage Classifier and Ranker\u001b[0m                                                                             \u001b[35m│\u001b[0m\n",
       "\u001b[35m│\u001b[0m                                                                                                                 \u001b[35m│\u001b[0m\n",
       "\u001b[35m│\u001b[0m  \u001b[37mTask: \u001b[0m\u001b[92mTake the candidate companies and produce the single ranked list for Fintech . Apply the classification \u001b[0m  \u001b[35m│\u001b[0m\n",
       "\u001b[35m│\u001b[0m  \u001b[92mrubric and output at most 30 rows overall. Each row must include a stage label and a confidence score.\u001b[0m         \u001b[35m│\u001b[0m\n",
       "\u001b[35m│\u001b[0m                                                                                                                 \u001b[35m│\u001b[0m\n",
       "\u001b[35m│\u001b[0m  \u001b[92mDo the following in order:\u001b[0m                                                                                     \u001b[35m│\u001b[0m\n",
       "\u001b[35m│\u001b[0m  \u001b[92m1) Canonicalize and dedupe entities. Fix parent vs product labeling.\u001b[0m                                           \u001b[35m│\u001b[0m\n",
       "\u001b[35m│\u001b[0m  \u001b[92m2) Assign stage_label using the rubric below. Use available signals. If signals conflict, use the priority \u001b[0m    \u001b[35m│\u001b[0m\n",
       "\u001b[35m│\u001b[0m  \u001b[92morder.\u001b[0m                                                                                                         \u001b[35m│\u001b[0m\n",
       "\u001b[35m│\u001b[0m  \u001b[92m3) Score importance across the whole industry with a simple blend: scale (employees or revenue), traction or \u001b[0m  \u001b[35m│\u001b[0m\n",
       "\u001b[35m│\u001b[0m  \u001b[92mmarket share, funding stage, and mindshare.    Break ties by confidence and data recency. Keep the method \u001b[0m     \u001b[35m│\u001b[0m\n",
       "\u001b[35m│\u001b[0m  \u001b[92msimple and explain it in one sentence.\u001b[0m                                                                         \u001b[35m│\u001b[0m\n",
       "\u001b[35m│\u001b[0m  \u001b[92m4) Enforce hard cap of 30. Do not exceed it under any circumstance.\u001b[0m                                            \u001b[35m│\u001b[0m\n",
       "\u001b[35m│\u001b[0m  \u001b[92m5) Product a short Markdown table as a final resultClassification rubric:\u001b[0m                                      \u001b[35m│\u001b[0m\n",
       "\u001b[35m│\u001b[0m                                                                                                                 \u001b[35m│\u001b[0m\n",
       "\u001b[35m│\u001b[0m  \u001b[92mStage labels:\u001b[0m                                                                                                  \u001b[35m│\u001b[0m\n",
       "\u001b[35m│\u001b[0m  \u001b[92m- Big Tech: public, multi-product tech platform or incumbent with either ≥10k employees or ≥10B market cap or\u001b[0m  \u001b[35m│\u001b[0m\n",
       "\u001b[35m│\u001b[0m  \u001b[92mclear category dominance.\u001b[0m                                                                                      \u001b[35m│\u001b[0m\n",
       "\u001b[35m│\u001b[0m  \u001b[92m- Late-stage startup: Series D+ or valuation ≥1B, or ≥500 employees, or estimated revenue ≥100M.\u001b[0m               \u001b[35m│\u001b[0m\n",
       "\u001b[35m│\u001b[0m  \u001b[92m- Mid-stage startup: Series B–C, 100–499 employees, valuation ~100M–1B, or revenue ~10–100M.\u001b[0m                   \u001b[35m│\u001b[0m\n",
       "\u001b[35m│\u001b[0m  \u001b[92m- Early-stage startup: Pre-seed–Series A, <100 employees, or revenue <10M.\u001b[0m                                     \u001b[35m│\u001b[0m\n",
       "\u001b[35m│\u001b[0m  \u001b[92mSignal priority when conflict appears: funding stage, then employee count, then valuation, then revenue. \u001b[0m      \u001b[35m│\u001b[0m\n",
       "\u001b[35m│\u001b[0m  \u001b[92mAlways return a confidence score.\u001b[0m                                                                              \u001b[35m│\u001b[0m\n",
       "\u001b[35m│\u001b[0m  \u001b[92mHard caps: output is a single ranked list of at most TOP_N_OVERALL companies overall. Do not exceed the cap.\u001b[0m   \u001b[35m│\u001b[0m\n",
       "\u001b[35m│\u001b[0m                                                                                                                 \u001b[35m│\u001b[0m\n",
       "\u001b[35m│\u001b[0m                                                                                                                 \u001b[35m│\u001b[0m\n",
       "\u001b[35m│\u001b[0m  \u001b[92mOutput format guide:\u001b[0m                                                                                           \u001b[35m│\u001b[0m\n",
       "\u001b[35m│\u001b[0m                                                                                                                 \u001b[35m│\u001b[0m\n",
       "\u001b[35m│\u001b[0m  \u001b[92mFinal JSON array item shape:\u001b[0m                                                                                   \u001b[35m│\u001b[0m\n",
       "\u001b[35m│\u001b[0m  \u001b[92m{{\u001b[0m                                                                                                             \u001b[35m│\u001b[0m\n",
       "\u001b[35m│\u001b[0m  \u001b[92m  \"rank\": <int 1..TOP_N_OVERALL>,\u001b[0m                                                                              \u001b[35m│\u001b[0m\n",
       "\u001b[35m│\u001b[0m  \u001b[92m  \"company\": \"<marketed company name>\",\u001b[0m                                                                        \u001b[35m│\u001b[0m\n",
       "\u001b[35m│\u001b[0m  \u001b[92m  \"sub_industry\": \"<one of the mapped sub-industries>\",\u001b[0m                                                        \u001b[35m│\u001b[0m\n",
       "\u001b[35m│\u001b[0m  \u001b[92m  \"stage_label\": \"<Big Tech | Late-stage startup | Mid-stage startup | Early-stage startup>\"\u001b[0m                   \u001b[35m│\u001b[0m\n",
       "\u001b[35m│\u001b[0m  \u001b[92m}}\u001b[0m                                                                                                             \u001b[35m│\u001b[0m\n",
       "\u001b[35m│\u001b[0m  \u001b[92mProvide the final JSON and also a short, human-friendly Markdown table with the same rows.\u001b[0m                     \u001b[35m│\u001b[0m\n",
       "\u001b[35m│\u001b[0m                                                                                                                 \u001b[35m│\u001b[0m\n",
       "\u001b[35m│\u001b[0m                                                                                                                 \u001b[35m│\u001b[0m\n",
       "\u001b[35m│\u001b[0m                                                                                                                 \u001b[35m│\u001b[0m\n",
       "\u001b[35m╰─────────────────────────────────────────────────────────────────────────────────────────────────────────────────╯\u001b[0m\n"
      ]
     },
     "metadata": {},
     "output_type": "display_data"
    },
    {
     "data": {
      "text/html": [
       "<pre style=\"white-space:pre;overflow-x:auto;line-height:normal;font-family:Menlo,'DejaVu Sans Mono',consolas,'Courier New',monospace\">\n",
       "</pre>\n"
      ],
      "text/plain": [
       "\n"
      ]
     },
     "metadata": {},
     "output_type": "display_data"
    },
    {
     "data": {
      "application/vnd.jupyter.widget-view+json": {
       "model_id": "70cab24ca4a54be3a74be592aa7adf0f",
       "version_major": 2,
       "version_minor": 0
      },
      "text/plain": [
       "Output()"
      ]
     },
     "metadata": {},
     "output_type": "display_data"
    },
    {
     "data": {
      "text/html": [
       "<pre style=\"white-space:pre;overflow-x:auto;line-height:normal;font-family:Menlo,'DejaVu Sans Mono',consolas,'Courier New',monospace\"></pre>\n"
      ],
      "text/plain": []
     },
     "metadata": {},
     "output_type": "display_data"
    },
    {
     "data": {
      "text/html": [
       "<pre style=\"white-space:pre;overflow-x:auto;line-height:normal;font-family:Menlo,'DejaVu Sans Mono',consolas,'Courier New',monospace\"><span style=\"color: #008000; text-decoration-color: #008000\">╭───────────────────────────────────────────── ✅ Agent Final Answer ─────────────────────────────────────────────╮</span>\n",
       "<span style=\"color: #008000; text-decoration-color: #008000\">│</span>                                                                                                                 <span style=\"color: #008000; text-decoration-color: #008000\">│</span>\n",
       "<span style=\"color: #008000; text-decoration-color: #008000\">│</span>  <span style=\"color: #c0c0c0; text-decoration-color: #c0c0c0\">Agent: </span><span style=\"color: #00ff00; text-decoration-color: #00ff00; font-weight: bold\">Stage Classifier and Ranker</span>                                                                             <span style=\"color: #008000; text-decoration-color: #008000\">│</span>\n",
       "<span style=\"color: #008000; text-decoration-color: #008000\">│</span>                                                                                                                 <span style=\"color: #008000; text-decoration-color: #008000\">│</span>\n",
       "<span style=\"color: #008000; text-decoration-color: #008000\">│</span>  <span style=\"color: #c0c0c0; text-decoration-color: #c0c0c0\">Final Answer:</span>                                                                                                  <span style=\"color: #008000; text-decoration-color: #008000\">│</span>\n",
       "<span style=\"color: #008000; text-decoration-color: #008000\">│</span>  <span style=\"color: #00ff00; text-decoration-color: #00ff00\">[</span>                                                                                                              <span style=\"color: #008000; text-decoration-color: #008000\">│</span>\n",
       "<span style=\"color: #008000; text-decoration-color: #008000\">│</span>  <span style=\"color: #00ff00; text-decoration-color: #00ff00\">  {\"rank\": 1, \"company\": \"PayPal Holdings, Inc.\", \"sub_industry\": \"Payments &amp; Payment Processing\", </span>            <span style=\"color: #008000; text-decoration-color: #008000\">│</span>\n",
       "<span style=\"color: #008000; text-decoration-color: #008000\">│</span>  <span style=\"color: #00ff00; text-decoration-color: #00ff00\">\"stage_label\": \"Big Tech\", \"confidence\": 0.92},</span>                                                                <span style=\"color: #008000; text-decoration-color: #008000\">│</span>\n",
       "<span style=\"color: #008000; text-decoration-color: #008000\">│</span>  <span style=\"color: #00ff00; text-decoration-color: #00ff00\">  {\"rank\": 2, \"company\": \"Block, Inc.\", \"sub_industry\": \"Payments &amp; Payment Processing\", \"stage_label\": \"Big </span>  <span style=\"color: #008000; text-decoration-color: #008000\">│</span>\n",
       "<span style=\"color: #008000; text-decoration-color: #008000\">│</span>  <span style=\"color: #00ff00; text-decoration-color: #00ff00\">Tech\", \"confidence\": 0.90},</span>                                                                                    <span style=\"color: #008000; text-decoration-color: #008000\">│</span>\n",
       "<span style=\"color: #008000; text-decoration-color: #008000\">│</span>  <span style=\"color: #00ff00; text-decoration-color: #00ff00\">  {\"rank\": 3, \"company\": \"Coinbase Global, Inc.\", \"sub_industry\": \"Payments &amp; Payment Processing\", </span>            <span style=\"color: #008000; text-decoration-color: #008000\">│</span>\n",
       "<span style=\"color: #008000; text-decoration-color: #008000\">│</span>  <span style=\"color: #00ff00; text-decoration-color: #00ff00\">\"stage_label\": \"Big Tech\", \"confidence\": 0.88},</span>                                                                <span style=\"color: #008000; text-decoration-color: #008000\">│</span>\n",
       "<span style=\"color: #008000; text-decoration-color: #008000\">│</span>  <span style=\"color: #00ff00; text-decoration-color: #00ff00\">  {\"rank\": 4, \"company\": \"Intuit Inc.\", \"sub_industry\": \"Payments &amp; Payment Processing\", \"stage_label\": \"Big </span>  <span style=\"color: #008000; text-decoration-color: #008000\">│</span>\n",
       "<span style=\"color: #008000; text-decoration-color: #008000\">│</span>  <span style=\"color: #00ff00; text-decoration-color: #00ff00\">Tech\", \"confidence\": 0.85},</span>                                                                                    <span style=\"color: #008000; text-decoration-color: #008000\">│</span>\n",
       "<span style=\"color: #008000; text-decoration-color: #008000\">│</span>  <span style=\"color: #00ff00; text-decoration-color: #00ff00\">  {\"rank\": 5, \"company\": \"Global Payments Inc.\", \"sub_industry\": \"Payments &amp; Payment Processing\", </span>             <span style=\"color: #008000; text-decoration-color: #008000\">│</span>\n",
       "<span style=\"color: #008000; text-decoration-color: #008000\">│</span>  <span style=\"color: #00ff00; text-decoration-color: #00ff00\">\"stage_label\": \"Big Tech\", \"confidence\": 0.85},</span>                                                                <span style=\"color: #008000; text-decoration-color: #008000\">│</span>\n",
       "<span style=\"color: #008000; text-decoration-color: #008000\">│</span>  <span style=\"color: #00ff00; text-decoration-color: #00ff00\">  {\"rank\": 6, \"company\": \"Fiserv, Inc.\", \"sub_industry\": \"Payments &amp; Payment Processing\", \"stage_label\": \"Big</span>  <span style=\"color: #008000; text-decoration-color: #008000\">│</span>\n",
       "<span style=\"color: #008000; text-decoration-color: #008000\">│</span>  <span style=\"color: #00ff00; text-decoration-color: #00ff00\">Tech\", \"confidence\": 0.84},</span>                                                                                    <span style=\"color: #008000; text-decoration-color: #008000\">│</span>\n",
       "<span style=\"color: #008000; text-decoration-color: #008000\">│</span>  <span style=\"color: #00ff00; text-decoration-color: #00ff00\">  {\"rank\": 7, \"company\": \"Stripe\", \"sub_industry\": \"Fintech Infrastructure &amp; Platform Tech\", \"stage_label\": </span>   <span style=\"color: #008000; text-decoration-color: #008000\">│</span>\n",
       "<span style=\"color: #008000; text-decoration-color: #008000\">│</span>  <span style=\"color: #00ff00; text-decoration-color: #00ff00\">\"Late-stage startup\", \"confidence\": 0.86},</span>                                                                     <span style=\"color: #008000; text-decoration-color: #008000\">│</span>\n",
       "<span style=\"color: #008000; text-decoration-color: #008000\">│</span>  <span style=\"color: #00ff00; text-decoration-color: #00ff00\">  {\"rank\": 8, \"company\": \"Bill.com Holdings, Inc.\", \"sub_industry\": \"Fintech Infrastructure &amp; Platform Tech\",</span>  <span style=\"color: #008000; text-decoration-color: #008000\">│</span>\n",
       "<span style=\"color: #008000; text-decoration-color: #008000\">│</span>  <span style=\"color: #00ff00; text-decoration-color: #00ff00\">\"stage_label\": \"Big Tech\", \"confidence\": 0.82},</span>                                                                <span style=\"color: #008000; text-decoration-color: #008000\">│</span>\n",
       "<span style=\"color: #008000; text-decoration-color: #008000\">│</span>  <span style=\"color: #00ff00; text-decoration-color: #00ff00\">  {\"rank\": 9, \"company\": \"Brex, Inc.\", \"sub_industry\": \"Fintech Infrastructure &amp; Platform Tech\", </span>              <span style=\"color: #008000; text-decoration-color: #008000\">│</span>\n",
       "<span style=\"color: #008000; text-decoration-color: #008000\">│</span>  <span style=\"color: #00ff00; text-decoration-color: #00ff00\">\"stage_label\": \"Late-stage startup\", \"confidence\": 0.82},</span>                                                      <span style=\"color: #008000; text-decoration-color: #008000\">│</span>\n",
       "<span style=\"color: #008000; text-decoration-color: #008000\">│</span>  <span style=\"color: #00ff00; text-decoration-color: #00ff00\">  {\"rank\": 10, \"company\": \"Marqeta, Inc.\", \"sub_industry\": \"Fintech Infrastructure &amp; Platform Tech\", </span>          <span style=\"color: #008000; text-decoration-color: #008000\">│</span>\n",
       "<span style=\"color: #008000; text-decoration-color: #008000\">│</span>  <span style=\"color: #00ff00; text-decoration-color: #00ff00\">\"stage_label\": \"Mid-stage startup\", \"confidence\": 0.80},</span>                                                       <span style=\"color: #008000; text-decoration-color: #008000\">│</span>\n",
       "<span style=\"color: #008000; text-decoration-color: #008000\">│</span>  <span style=\"color: #00ff00; text-decoration-color: #00ff00\">  {\"rank\": 11, \"company\": \"SoFi Technologies, Inc.\", \"sub_industry\": \"Digital Banking &amp; Challenger Banks\", </span>    <span style=\"color: #008000; text-decoration-color: #008000\">│</span>\n",
       "<span style=\"color: #008000; text-decoration-color: #008000\">│</span>  <span style=\"color: #00ff00; text-decoration-color: #00ff00\">\"stage_label\": \"Big Tech\", \"confidence\": 0.84},</span>                                                                <span style=\"color: #008000; text-decoration-color: #008000\">│</span>\n",
       "<span style=\"color: #008000; text-decoration-color: #008000\">│</span>  <span style=\"color: #00ff00; text-decoration-color: #00ff00\">  {\"rank\": 12, \"company\": \"Upstart Holdings, Inc.\", \"sub_industry\": \"Lending (Consumer &amp; SME)\", </span>               <span style=\"color: #008000; text-decoration-color: #008000\">│</span>\n",
       "<span style=\"color: #008000; text-decoration-color: #008000\">│</span>  <span style=\"color: #00ff00; text-decoration-color: #00ff00\">\"stage_label\": \"Late-stage startup\", \"confidence\": 0.83},</span>                                                      <span style=\"color: #008000; text-decoration-color: #008000\">│</span>\n",
       "<span style=\"color: #008000; text-decoration-color: #008000\">│</span>  <span style=\"color: #00ff00; text-decoration-color: #00ff00\">  {\"rank\": 13, \"company\": \"Affirm Holdings, Inc.\", \"sub_industry\": \"BNPL (Buy Now, Pay Later)\", </span>               <span style=\"color: #008000; text-decoration-color: #008000\">│</span>\n",
       "<span style=\"color: #008000; text-decoration-color: #008000\">│</span>  <span style=\"color: #00ff00; text-decoration-color: #00ff00\">\"stage_label\": \"Late-stage startup\", \"confidence\": 0.78},</span>                                                      <span style=\"color: #008000; text-decoration-color: #008000\">│</span>\n",
       "<span style=\"color: #008000; text-decoration-color: #008000\">│</span>  <span style=\"color: #00ff00; text-decoration-color: #00ff00\">  {\"rank\": 14, \"company\": \"LendingClub Corporation\", \"sub_industry\": \"Lending (Consumer &amp; SME)\", </span>              <span style=\"color: #008000; text-decoration-color: #008000\">│</span>\n",
       "<span style=\"color: #008000; text-decoration-color: #008000\">│</span>  <span style=\"color: #00ff00; text-decoration-color: #00ff00\">\"stage_label\": \"Late-stage startup\", \"confidence\": 0.75},</span>                                                      <span style=\"color: #008000; text-decoration-color: #008000\">│</span>\n",
       "<span style=\"color: #008000; text-decoration-color: #008000\">│</span>  <span style=\"color: #00ff00; text-decoration-color: #00ff00\">  {\"rank\": 15, \"company\": \"Robinhood Markets, Inc.\", \"sub_industry\": \"WealthTech &amp; Robo-Advisory\", </span>            <span style=\"color: #008000; text-decoration-color: #008000\">│</span>\n",
       "<span style=\"color: #008000; text-decoration-color: #008000\">│</span>  <span style=\"color: #00ff00; text-decoration-color: #00ff00\">\"stage_label\": \"Late-stage startup\", \"confidence\": 0.77},</span>                                                      <span style=\"color: #008000; text-decoration-color: #008000\">│</span>\n",
       "<span style=\"color: #008000; text-decoration-color: #008000\">│</span>  <span style=\"color: #00ff00; text-decoration-color: #00ff00\">  {\"rank\": 16, \"company\": \"Lemonade, Inc.\", \"sub_industry\": \"Insurtech\", \"stage_label\": \"Mid-stage startup\", </span>  <span style=\"color: #008000; text-decoration-color: #008000\">│</span>\n",
       "<span style=\"color: #008000; text-decoration-color: #008000\">│</span>  <span style=\"color: #00ff00; text-decoration-color: #00ff00\">\"confidence\": 0.70},</span>                                                                                           <span style=\"color: #008000; text-decoration-color: #008000\">│</span>\n",
       "<span style=\"color: #008000; text-decoration-color: #008000\">│</span>  <span style=\"color: #00ff00; text-decoration-color: #00ff00\">  {\"rank\": 17, \"company\": \"Toast, Inc.\", \"sub_industry\": \"Payments &amp; Payment Processing\", \"stage_label\": </span>      <span style=\"color: #008000; text-decoration-color: #008000\">│</span>\n",
       "<span style=\"color: #008000; text-decoration-color: #008000\">│</span>  <span style=\"color: #00ff00; text-decoration-color: #00ff00\">\"Late-stage startup\", \"confidence\": 0.70},</span>                                                                     <span style=\"color: #008000; text-decoration-color: #008000\">│</span>\n",
       "<span style=\"color: #008000; text-decoration-color: #008000\">│</span>  <span style=\"color: #00ff00; text-decoration-color: #00ff00\">  {\"rank\": 18, \"company\": \"Mercury Bank (Mercury Financial)\", \"sub_industry\": \"Digital Banking &amp; Challenger </span>   <span style=\"color: #008000; text-decoration-color: #008000\">│</span>\n",
       "<span style=\"color: #008000; text-decoration-color: #008000\">│</span>  <span style=\"color: #00ff00; text-decoration-color: #00ff00\">Banks\", \"stage_label\": \"Early-stage startup\", \"confidence\": 0.65},</span>                                             <span style=\"color: #008000; text-decoration-color: #008000\">│</span>\n",
       "<span style=\"color: #008000; text-decoration-color: #008000\">│</span>  <span style=\"color: #00ff00; text-decoration-color: #00ff00\">  {\"rank\": 19, \"company\": \"MoneyLion, Inc.\", \"sub_industry\": \"Digital Banking &amp; Challenger Banks\", </span>            <span style=\"color: #008000; text-decoration-color: #008000\">│</span>\n",
       "<span style=\"color: #008000; text-decoration-color: #008000\">│</span>  <span style=\"color: #00ff00; text-decoration-color: #00ff00\">\"stage_label\": \"Early-stage startup\", \"confidence\": 0.63},</span>                                                     <span style=\"color: #008000; text-decoration-color: #008000\">│</span>\n",
       "<span style=\"color: #008000; text-decoration-color: #008000\">│</span>  <span style=\"color: #00ff00; text-decoration-color: #00ff00\">  {\"rank\": 20, \"company\": \"Acorns Grow, LLC\", \"sub_industry\": \"WealthTech &amp; Robo-Advisory\", \"stage_label\": </span>    <span style=\"color: #008000; text-decoration-color: #008000\">│</span>\n",
       "<span style=\"color: #008000; text-decoration-color: #008000\">│</span>  <span style=\"color: #00ff00; text-decoration-color: #00ff00\">\"Early-stage startup\", \"confidence\": 0.60},</span>                                                                    <span style=\"color: #008000; text-decoration-color: #008000\">│</span>\n",
       "<span style=\"color: #008000; text-decoration-color: #008000\">│</span>  <span style=\"color: #00ff00; text-decoration-color: #00ff00\">  {\"rank\": 21, \"company\": \"Better.com\", \"sub_industry\": \"Digital Banking &amp; Challenger Banks\", \"stage_label\": </span>  <span style=\"color: #008000; text-decoration-color: #008000\">│</span>\n",
       "<span style=\"color: #008000; text-decoration-color: #008000\">│</span>  <span style=\"color: #00ff00; text-decoration-color: #00ff00\">\"Early-stage startup\", \"confidence\": 0.60},</span>                                                                    <span style=\"color: #008000; text-decoration-color: #008000\">│</span>\n",
       "<span style=\"color: #008000; text-decoration-color: #008000\">│</span>  <span style=\"color: #00ff00; text-decoration-color: #00ff00\">  {\"rank\": 22, \"company\": \"Current, Inc.\", \"sub_industry\": \"Digital Banking &amp; Challenger Banks\", </span>              <span style=\"color: #008000; text-decoration-color: #008000\">│</span>\n",
       "<span style=\"color: #008000; text-decoration-color: #008000\">│</span>  <span style=\"color: #00ff00; text-decoration-color: #00ff00\">\"stage_label\": \"Early-stage startup\", \"confidence\": 0.63},</span>                                                     <span style=\"color: #008000; text-decoration-color: #008000\">│</span>\n",
       "<span style=\"color: #008000; text-decoration-color: #008000\">│</span>  <span style=\"color: #00ff00; text-decoration-color: #00ff00\">  {\"rank\": 23, \"company\": \"M1 Finance, LLC\", \"sub_industry\": \"WealthTech &amp; Robo-Advisory\", \"stage_label\": </span>     <span style=\"color: #008000; text-decoration-color: #008000\">│</span>\n",
       "<span style=\"color: #008000; text-decoration-color: #008000\">│</span>  <span style=\"color: #00ff00; text-decoration-color: #00ff00\">\"Early-stage startup\", \"confidence\": 0.60},</span>                                                                    <span style=\"color: #008000; text-decoration-color: #008000\">│</span>\n",
       "<span style=\"color: #008000; text-decoration-color: #008000\">│</span>  <span style=\"color: #00ff00; text-decoration-color: #00ff00\">  {\"rank\": 24, \"company\": \"Chime Financial, Inc.\", \"sub_industry\": \"Digital Banking &amp; Challenger Banks\", </span>      <span style=\"color: #008000; text-decoration-color: #008000\">│</span>\n",
       "<span style=\"color: #008000; text-decoration-color: #008000\">│</span>  <span style=\"color: #00ff00; text-decoration-color: #00ff00\">\"stage_label\": \"Early-stage startup\", \"confidence\": 0.58},</span>                                                     <span style=\"color: #008000; text-decoration-color: #008000\">│</span>\n",
       "<span style=\"color: #008000; text-decoration-color: #008000\">│</span>  <span style=\"color: #00ff00; text-decoration-color: #00ff00\">  {\"rank\": 25, \"company\": \"Payoneer Global Inc.\", \"sub_industry\": \"Payments &amp; Payment Processing\", </span>            <span style=\"color: #008000; text-decoration-color: #008000\">│</span>\n",
       "<span style=\"color: #008000; text-decoration-color: #008000\">│</span>  <span style=\"color: #00ff00; text-decoration-color: #00ff00\">\"stage_label\": \"Early-stage startup\", \"confidence\": 0.50}</span>                                                      <span style=\"color: #008000; text-decoration-color: #008000\">│</span>\n",
       "<span style=\"color: #008000; text-decoration-color: #008000\">│</span>  <span style=\"color: #00ff00; text-decoration-color: #00ff00\">]</span>                                                                                                              <span style=\"color: #008000; text-decoration-color: #008000\">│</span>\n",
       "<span style=\"color: #008000; text-decoration-color: #008000\">│</span>                                                                                                                 <span style=\"color: #008000; text-decoration-color: #008000\">│</span>\n",
       "<span style=\"color: #008000; text-decoration-color: #008000\">│</span>  <span style=\"color: #00ff00; text-decoration-color: #00ff00\">Method note: I used a simple blend of scale (employees/revenue), traction/market share, funding stage, and </span>    <span style=\"color: #008000; text-decoration-color: #008000\">│</span>\n",
       "<span style=\"color: #008000; text-decoration-color: #008000\">│</span>  <span style=\"color: #00ff00; text-decoration-color: #00ff00\">mindshare as a rough industry-wide score, with ties broken by confidence and data recency.</span>                     <span style=\"color: #008000; text-decoration-color: #008000\">│</span>\n",
       "<span style=\"color: #008000; text-decoration-color: #008000\">│</span>                                                                                                                 <span style=\"color: #008000; text-decoration-color: #008000\">│</span>\n",
       "<span style=\"color: #008000; text-decoration-color: #008000\">│</span>  <span style=\"color: #00ff00; text-decoration-color: #00ff00\">Markdown table:</span>                                                                                                <span style=\"color: #008000; text-decoration-color: #008000\">│</span>\n",
       "<span style=\"color: #008000; text-decoration-color: #008000\">│</span>  <span style=\"color: #00ff00; text-decoration-color: #00ff00\">| Rank | Company | Sub-industry | Stage | Confidence |</span>                                                         <span style=\"color: #008000; text-decoration-color: #008000\">│</span>\n",
       "<span style=\"color: #008000; text-decoration-color: #008000\">│</span>  <span style=\"color: #00ff00; text-decoration-color: #00ff00\">|---|---|---|---|---|</span>                                                                                          <span style=\"color: #008000; text-decoration-color: #008000\">│</span>\n",
       "<span style=\"color: #008000; text-decoration-color: #008000\">│</span>  <span style=\"color: #00ff00; text-decoration-color: #00ff00\">| 1 | PayPal Holdings, Inc. | Payments &amp; Payment Processing | Big Tech | 0.92 |</span>                                <span style=\"color: #008000; text-decoration-color: #008000\">│</span>\n",
       "<span style=\"color: #008000; text-decoration-color: #008000\">│</span>  <span style=\"color: #00ff00; text-decoration-color: #00ff00\">| 2 | Block, Inc. | Payments &amp; Payment Processing | Big Tech | 0.90 |</span>                                          <span style=\"color: #008000; text-decoration-color: #008000\">│</span>\n",
       "<span style=\"color: #008000; text-decoration-color: #008000\">│</span>  <span style=\"color: #00ff00; text-decoration-color: #00ff00\">| 3 | Coinbase Global, Inc. | Payments &amp; Payment Processing | Big Tech | 0.88 |</span>                                <span style=\"color: #008000; text-decoration-color: #008000\">│</span>\n",
       "<span style=\"color: #008000; text-decoration-color: #008000\">│</span>  <span style=\"color: #00ff00; text-decoration-color: #00ff00\">| 4 | Intuit Inc. | Payments &amp; Payment Processing | Big Tech | 0.85 |</span>                                          <span style=\"color: #008000; text-decoration-color: #008000\">│</span>\n",
       "<span style=\"color: #008000; text-decoration-color: #008000\">│</span>  <span style=\"color: #00ff00; text-decoration-color: #00ff00\">| 5 | Global Payments Inc. | Payments &amp; Payment Processing | Big Tech | 0.85 |</span>                                 <span style=\"color: #008000; text-decoration-color: #008000\">│</span>\n",
       "<span style=\"color: #008000; text-decoration-color: #008000\">│</span>  <span style=\"color: #00ff00; text-decoration-color: #00ff00\">| 6 | Fiserv, Inc. | Payments &amp; Payment Processing | Big Tech | 0.84 |</span>                                         <span style=\"color: #008000; text-decoration-color: #008000\">│</span>\n",
       "<span style=\"color: #008000; text-decoration-color: #008000\">│</span>  <span style=\"color: #00ff00; text-decoration-color: #00ff00\">| 7 | Stripe | Fintech Infrastructure &amp; Platform Tech | Late-stage startup | 0.86 |</span>                            <span style=\"color: #008000; text-decoration-color: #008000\">│</span>\n",
       "<span style=\"color: #008000; text-decoration-color: #008000\">│</span>  <span style=\"color: #00ff00; text-decoration-color: #00ff00\">| 8 | Bill.com Holdings, Inc. | Fintech Infrastructure &amp; Platform Tech | Big Tech | 0.82 |</span>                     <span style=\"color: #008000; text-decoration-color: #008000\">│</span>\n",
       "<span style=\"color: #008000; text-decoration-color: #008000\">│</span>  <span style=\"color: #00ff00; text-decoration-color: #00ff00\">| 9 | Brex, Inc. | Fintech Infrastructure &amp; Platform Tech | Late-stage startup | 0.82 |</span>                        <span style=\"color: #008000; text-decoration-color: #008000\">│</span>\n",
       "<span style=\"color: #008000; text-decoration-color: #008000\">│</span>  <span style=\"color: #00ff00; text-decoration-color: #00ff00\">| 10 | Marqeta, Inc. | Fintech Infrastructure &amp; Platform Tech | Mid-stage startup | 0.80 |</span>                     <span style=\"color: #008000; text-decoration-color: #008000\">│</span>\n",
       "<span style=\"color: #008000; text-decoration-color: #008000\">│</span>  <span style=\"color: #00ff00; text-decoration-color: #00ff00\">| 11 | SoFi Technologies, Inc. | Digital Banking &amp; Challenger Banks | Big Tech | 0.84 |</span>                        <span style=\"color: #008000; text-decoration-color: #008000\">│</span>\n",
       "<span style=\"color: #008000; text-decoration-color: #008000\">│</span>  <span style=\"color: #00ff00; text-decoration-color: #00ff00\">| 12 | Upstart Holdings, Inc. | Lending (Consumer &amp; SME) | Late-stage startup | 0.83 |</span>                         <span style=\"color: #008000; text-decoration-color: #008000\">│</span>\n",
       "<span style=\"color: #008000; text-decoration-color: #008000\">│</span>  <span style=\"color: #00ff00; text-decoration-color: #00ff00\">| 13 | Affirm Holdings, Inc. | BNPL (Buy Now, Pay Later) | Late-stage startup | 0.78 |</span>                         <span style=\"color: #008000; text-decoration-color: #008000\">│</span>\n",
       "<span style=\"color: #008000; text-decoration-color: #008000\">│</span>  <span style=\"color: #00ff00; text-decoration-color: #00ff00\">| 14 | LendingClub Corporation | Lending (Consumer &amp; SME) | Late-stage startup | 0.75 |</span>                        <span style=\"color: #008000; text-decoration-color: #008000\">│</span>\n",
       "<span style=\"color: #008000; text-decoration-color: #008000\">│</span>  <span style=\"color: #00ff00; text-decoration-color: #00ff00\">| 15 | Robinhood Markets, Inc. | WealthTech &amp; Robo-Advisory | Late-stage startup | 0.77 |</span>                      <span style=\"color: #008000; text-decoration-color: #008000\">│</span>\n",
       "<span style=\"color: #008000; text-decoration-color: #008000\">│</span>  <span style=\"color: #00ff00; text-decoration-color: #00ff00\">| 16 | Lemonade, Inc. | Insurtech | Mid-stage startup | 0.70 |</span>                                                 <span style=\"color: #008000; text-decoration-color: #008000\">│</span>\n",
       "<span style=\"color: #008000; text-decoration-color: #008000\">│</span>  <span style=\"color: #00ff00; text-decoration-color: #00ff00\">| 17 | Toast, Inc. | Payments &amp; Payment Processing | Late-stage startup | 0.70 |</span>                               <span style=\"color: #008000; text-decoration-color: #008000\">│</span>\n",
       "<span style=\"color: #008000; text-decoration-color: #008000\">│</span>  <span style=\"color: #00ff00; text-decoration-color: #00ff00\">| 18 | Mercury Bank (Mercury Financial) | Digital Banking &amp; Challenger Banks | Early-stage startup | 0.65 |</span>    <span style=\"color: #008000; text-decoration-color: #008000\">│</span>\n",
       "<span style=\"color: #008000; text-decoration-color: #008000\">│</span>  <span style=\"color: #00ff00; text-decoration-color: #00ff00\">| 19 | MoneyLion, Inc. | Digital Banking &amp; Challenger Banks | Early-stage startup | 0.63 |</span>                     <span style=\"color: #008000; text-decoration-color: #008000\">│</span>\n",
       "<span style=\"color: #008000; text-decoration-color: #008000\">│</span>  <span style=\"color: #00ff00; text-decoration-color: #00ff00\">| 20 | Acorns Grow, LLC | WealthTech &amp; Robo-Advisory | Early-stage startup | 0.60 |</span>                            <span style=\"color: #008000; text-decoration-color: #008000\">│</span>\n",
       "<span style=\"color: #008000; text-decoration-color: #008000\">│</span>  <span style=\"color: #00ff00; text-decoration-color: #00ff00\">| 21 | Better.com | Digital Banking &amp; Challenger Banks | Early-stage startup | 0.60 |</span>                          <span style=\"color: #008000; text-decoration-color: #008000\">│</span>\n",
       "<span style=\"color: #008000; text-decoration-color: #008000\">│</span>  <span style=\"color: #00ff00; text-decoration-color: #00ff00\">| 22 | Current, Inc. | Digital Banking &amp; Challenger Banks | Early-stage startup | 0.63 |</span>                       <span style=\"color: #008000; text-decoration-color: #008000\">│</span>\n",
       "<span style=\"color: #008000; text-decoration-color: #008000\">│</span>  <span style=\"color: #00ff00; text-decoration-color: #00ff00\">| 23 | M1 Finance, LLC | WealthTech &amp; Robo-Advisory | Early-stage startup | 0.60 |</span>                             <span style=\"color: #008000; text-decoration-color: #008000\">│</span>\n",
       "<span style=\"color: #008000; text-decoration-color: #008000\">│</span>  <span style=\"color: #00ff00; text-decoration-color: #00ff00\">| 24 | Chime Financial, Inc. | Digital Banking &amp; Challenger Banks | Early-stage startup | 0.58 |</span>               <span style=\"color: #008000; text-decoration-color: #008000\">│</span>\n",
       "<span style=\"color: #008000; text-decoration-color: #008000\">│</span>  <span style=\"color: #00ff00; text-decoration-color: #00ff00\">| 25 | Payoneer Global Inc. | Payments &amp; Payment Processing | Early-stage startup | 0.50 |</span>                     <span style=\"color: #008000; text-decoration-color: #008000\">│</span>\n",
       "<span style=\"color: #008000; text-decoration-color: #008000\">│</span>                                                                                                                 <span style=\"color: #008000; text-decoration-color: #008000\">│</span>\n",
       "<span style=\"color: #008000; text-decoration-color: #008000\">╰─────────────────────────────────────────────────────────────────────────────────────────────────────────────────╯</span>\n",
       "</pre>\n"
      ],
      "text/plain": [
       "\u001b[32m╭─\u001b[0m\u001b[32m────────────────────────────────────────────\u001b[0m\u001b[32m ✅ Agent Final Answer \u001b[0m\u001b[32m────────────────────────────────────────────\u001b[0m\u001b[32m─╮\u001b[0m\n",
       "\u001b[32m│\u001b[0m                                                                                                                 \u001b[32m│\u001b[0m\n",
       "\u001b[32m│\u001b[0m  \u001b[37mAgent: \u001b[0m\u001b[1;92mStage Classifier and Ranker\u001b[0m                                                                             \u001b[32m│\u001b[0m\n",
       "\u001b[32m│\u001b[0m                                                                                                                 \u001b[32m│\u001b[0m\n",
       "\u001b[32m│\u001b[0m  \u001b[37mFinal Answer:\u001b[0m                                                                                                  \u001b[32m│\u001b[0m\n",
       "\u001b[32m│\u001b[0m  \u001b[92m[\u001b[0m                                                                                                              \u001b[32m│\u001b[0m\n",
       "\u001b[32m│\u001b[0m  \u001b[92m  {\"rank\": 1, \"company\": \"PayPal Holdings, Inc.\", \"sub_industry\": \"Payments & Payment Processing\", \u001b[0m            \u001b[32m│\u001b[0m\n",
       "\u001b[32m│\u001b[0m  \u001b[92m\"stage_label\": \"Big Tech\", \"confidence\": 0.92},\u001b[0m                                                                \u001b[32m│\u001b[0m\n",
       "\u001b[32m│\u001b[0m  \u001b[92m  {\"rank\": 2, \"company\": \"Block, Inc.\", \"sub_industry\": \"Payments & Payment Processing\", \"stage_label\": \"Big \u001b[0m  \u001b[32m│\u001b[0m\n",
       "\u001b[32m│\u001b[0m  \u001b[92mTech\", \"confidence\": 0.90},\u001b[0m                                                                                    \u001b[32m│\u001b[0m\n",
       "\u001b[32m│\u001b[0m  \u001b[92m  {\"rank\": 3, \"company\": \"Coinbase Global, Inc.\", \"sub_industry\": \"Payments & Payment Processing\", \u001b[0m            \u001b[32m│\u001b[0m\n",
       "\u001b[32m│\u001b[0m  \u001b[92m\"stage_label\": \"Big Tech\", \"confidence\": 0.88},\u001b[0m                                                                \u001b[32m│\u001b[0m\n",
       "\u001b[32m│\u001b[0m  \u001b[92m  {\"rank\": 4, \"company\": \"Intuit Inc.\", \"sub_industry\": \"Payments & Payment Processing\", \"stage_label\": \"Big \u001b[0m  \u001b[32m│\u001b[0m\n",
       "\u001b[32m│\u001b[0m  \u001b[92mTech\", \"confidence\": 0.85},\u001b[0m                                                                                    \u001b[32m│\u001b[0m\n",
       "\u001b[32m│\u001b[0m  \u001b[92m  {\"rank\": 5, \"company\": \"Global Payments Inc.\", \"sub_industry\": \"Payments & Payment Processing\", \u001b[0m             \u001b[32m│\u001b[0m\n",
       "\u001b[32m│\u001b[0m  \u001b[92m\"stage_label\": \"Big Tech\", \"confidence\": 0.85},\u001b[0m                                                                \u001b[32m│\u001b[0m\n",
       "\u001b[32m│\u001b[0m  \u001b[92m  {\"rank\": 6, \"company\": \"Fiserv, Inc.\", \"sub_industry\": \"Payments & Payment Processing\", \"stage_label\": \"Big\u001b[0m  \u001b[32m│\u001b[0m\n",
       "\u001b[32m│\u001b[0m  \u001b[92mTech\", \"confidence\": 0.84},\u001b[0m                                                                                    \u001b[32m│\u001b[0m\n",
       "\u001b[32m│\u001b[0m  \u001b[92m  {\"rank\": 7, \"company\": \"Stripe\", \"sub_industry\": \"Fintech Infrastructure & Platform Tech\", \"stage_label\": \u001b[0m   \u001b[32m│\u001b[0m\n",
       "\u001b[32m│\u001b[0m  \u001b[92m\"Late-stage startup\", \"confidence\": 0.86},\u001b[0m                                                                     \u001b[32m│\u001b[0m\n",
       "\u001b[32m│\u001b[0m  \u001b[92m  {\"rank\": 8, \"company\": \"Bill.com Holdings, Inc.\", \"sub_industry\": \"Fintech Infrastructure & Platform Tech\",\u001b[0m  \u001b[32m│\u001b[0m\n",
       "\u001b[32m│\u001b[0m  \u001b[92m\"stage_label\": \"Big Tech\", \"confidence\": 0.82},\u001b[0m                                                                \u001b[32m│\u001b[0m\n",
       "\u001b[32m│\u001b[0m  \u001b[92m  {\"rank\": 9, \"company\": \"Brex, Inc.\", \"sub_industry\": \"Fintech Infrastructure & Platform Tech\", \u001b[0m              \u001b[32m│\u001b[0m\n",
       "\u001b[32m│\u001b[0m  \u001b[92m\"stage_label\": \"Late-stage startup\", \"confidence\": 0.82},\u001b[0m                                                      \u001b[32m│\u001b[0m\n",
       "\u001b[32m│\u001b[0m  \u001b[92m  {\"rank\": 10, \"company\": \"Marqeta, Inc.\", \"sub_industry\": \"Fintech Infrastructure & Platform Tech\", \u001b[0m          \u001b[32m│\u001b[0m\n",
       "\u001b[32m│\u001b[0m  \u001b[92m\"stage_label\": \"Mid-stage startup\", \"confidence\": 0.80},\u001b[0m                                                       \u001b[32m│\u001b[0m\n",
       "\u001b[32m│\u001b[0m  \u001b[92m  {\"rank\": 11, \"company\": \"SoFi Technologies, Inc.\", \"sub_industry\": \"Digital Banking & Challenger Banks\", \u001b[0m    \u001b[32m│\u001b[0m\n",
       "\u001b[32m│\u001b[0m  \u001b[92m\"stage_label\": \"Big Tech\", \"confidence\": 0.84},\u001b[0m                                                                \u001b[32m│\u001b[0m\n",
       "\u001b[32m│\u001b[0m  \u001b[92m  {\"rank\": 12, \"company\": \"Upstart Holdings, Inc.\", \"sub_industry\": \"Lending (Consumer & SME)\", \u001b[0m               \u001b[32m│\u001b[0m\n",
       "\u001b[32m│\u001b[0m  \u001b[92m\"stage_label\": \"Late-stage startup\", \"confidence\": 0.83},\u001b[0m                                                      \u001b[32m│\u001b[0m\n",
       "\u001b[32m│\u001b[0m  \u001b[92m  {\"rank\": 13, \"company\": \"Affirm Holdings, Inc.\", \"sub_industry\": \"BNPL (Buy Now, Pay Later)\", \u001b[0m               \u001b[32m│\u001b[0m\n",
       "\u001b[32m│\u001b[0m  \u001b[92m\"stage_label\": \"Late-stage startup\", \"confidence\": 0.78},\u001b[0m                                                      \u001b[32m│\u001b[0m\n",
       "\u001b[32m│\u001b[0m  \u001b[92m  {\"rank\": 14, \"company\": \"LendingClub Corporation\", \"sub_industry\": \"Lending (Consumer & SME)\", \u001b[0m              \u001b[32m│\u001b[0m\n",
       "\u001b[32m│\u001b[0m  \u001b[92m\"stage_label\": \"Late-stage startup\", \"confidence\": 0.75},\u001b[0m                                                      \u001b[32m│\u001b[0m\n",
       "\u001b[32m│\u001b[0m  \u001b[92m  {\"rank\": 15, \"company\": \"Robinhood Markets, Inc.\", \"sub_industry\": \"WealthTech & Robo-Advisory\", \u001b[0m            \u001b[32m│\u001b[0m\n",
       "\u001b[32m│\u001b[0m  \u001b[92m\"stage_label\": \"Late-stage startup\", \"confidence\": 0.77},\u001b[0m                                                      \u001b[32m│\u001b[0m\n",
       "\u001b[32m│\u001b[0m  \u001b[92m  {\"rank\": 16, \"company\": \"Lemonade, Inc.\", \"sub_industry\": \"Insurtech\", \"stage_label\": \"Mid-stage startup\", \u001b[0m  \u001b[32m│\u001b[0m\n",
       "\u001b[32m│\u001b[0m  \u001b[92m\"confidence\": 0.70},\u001b[0m                                                                                           \u001b[32m│\u001b[0m\n",
       "\u001b[32m│\u001b[0m  \u001b[92m  {\"rank\": 17, \"company\": \"Toast, Inc.\", \"sub_industry\": \"Payments & Payment Processing\", \"stage_label\": \u001b[0m      \u001b[32m│\u001b[0m\n",
       "\u001b[32m│\u001b[0m  \u001b[92m\"Late-stage startup\", \"confidence\": 0.70},\u001b[0m                                                                     \u001b[32m│\u001b[0m\n",
       "\u001b[32m│\u001b[0m  \u001b[92m  {\"rank\": 18, \"company\": \"Mercury Bank (Mercury Financial)\", \"sub_industry\": \"Digital Banking & Challenger \u001b[0m   \u001b[32m│\u001b[0m\n",
       "\u001b[32m│\u001b[0m  \u001b[92mBanks\", \"stage_label\": \"Early-stage startup\", \"confidence\": 0.65},\u001b[0m                                             \u001b[32m│\u001b[0m\n",
       "\u001b[32m│\u001b[0m  \u001b[92m  {\"rank\": 19, \"company\": \"MoneyLion, Inc.\", \"sub_industry\": \"Digital Banking & Challenger Banks\", \u001b[0m            \u001b[32m│\u001b[0m\n",
       "\u001b[32m│\u001b[0m  \u001b[92m\"stage_label\": \"Early-stage startup\", \"confidence\": 0.63},\u001b[0m                                                     \u001b[32m│\u001b[0m\n",
       "\u001b[32m│\u001b[0m  \u001b[92m  {\"rank\": 20, \"company\": \"Acorns Grow, LLC\", \"sub_industry\": \"WealthTech & Robo-Advisory\", \"stage_label\": \u001b[0m    \u001b[32m│\u001b[0m\n",
       "\u001b[32m│\u001b[0m  \u001b[92m\"Early-stage startup\", \"confidence\": 0.60},\u001b[0m                                                                    \u001b[32m│\u001b[0m\n",
       "\u001b[32m│\u001b[0m  \u001b[92m  {\"rank\": 21, \"company\": \"Better.com\", \"sub_industry\": \"Digital Banking & Challenger Banks\", \"stage_label\": \u001b[0m  \u001b[32m│\u001b[0m\n",
       "\u001b[32m│\u001b[0m  \u001b[92m\"Early-stage startup\", \"confidence\": 0.60},\u001b[0m                                                                    \u001b[32m│\u001b[0m\n",
       "\u001b[32m│\u001b[0m  \u001b[92m  {\"rank\": 22, \"company\": \"Current, Inc.\", \"sub_industry\": \"Digital Banking & Challenger Banks\", \u001b[0m              \u001b[32m│\u001b[0m\n",
       "\u001b[32m│\u001b[0m  \u001b[92m\"stage_label\": \"Early-stage startup\", \"confidence\": 0.63},\u001b[0m                                                     \u001b[32m│\u001b[0m\n",
       "\u001b[32m│\u001b[0m  \u001b[92m  {\"rank\": 23, \"company\": \"M1 Finance, LLC\", \"sub_industry\": \"WealthTech & Robo-Advisory\", \"stage_label\": \u001b[0m     \u001b[32m│\u001b[0m\n",
       "\u001b[32m│\u001b[0m  \u001b[92m\"Early-stage startup\", \"confidence\": 0.60},\u001b[0m                                                                    \u001b[32m│\u001b[0m\n",
       "\u001b[32m│\u001b[0m  \u001b[92m  {\"rank\": 24, \"company\": \"Chime Financial, Inc.\", \"sub_industry\": \"Digital Banking & Challenger Banks\", \u001b[0m      \u001b[32m│\u001b[0m\n",
       "\u001b[32m│\u001b[0m  \u001b[92m\"stage_label\": \"Early-stage startup\", \"confidence\": 0.58},\u001b[0m                                                     \u001b[32m│\u001b[0m\n",
       "\u001b[32m│\u001b[0m  \u001b[92m  {\"rank\": 25, \"company\": \"Payoneer Global Inc.\", \"sub_industry\": \"Payments & Payment Processing\", \u001b[0m            \u001b[32m│\u001b[0m\n",
       "\u001b[32m│\u001b[0m  \u001b[92m\"stage_label\": \"Early-stage startup\", \"confidence\": 0.50}\u001b[0m                                                      \u001b[32m│\u001b[0m\n",
       "\u001b[32m│\u001b[0m  \u001b[92m]\u001b[0m                                                                                                              \u001b[32m│\u001b[0m\n",
       "\u001b[32m│\u001b[0m                                                                                                                 \u001b[32m│\u001b[0m\n",
       "\u001b[32m│\u001b[0m  \u001b[92mMethod note: I used a simple blend of scale (employees/revenue), traction/market share, funding stage, and \u001b[0m    \u001b[32m│\u001b[0m\n",
       "\u001b[32m│\u001b[0m  \u001b[92mmindshare as a rough industry-wide score, with ties broken by confidence and data recency.\u001b[0m                     \u001b[32m│\u001b[0m\n",
       "\u001b[32m│\u001b[0m                                                                                                                 \u001b[32m│\u001b[0m\n",
       "\u001b[32m│\u001b[0m  \u001b[92mMarkdown table:\u001b[0m                                                                                                \u001b[32m│\u001b[0m\n",
       "\u001b[32m│\u001b[0m  \u001b[92m| Rank | Company | Sub-industry | Stage | Confidence |\u001b[0m                                                         \u001b[32m│\u001b[0m\n",
       "\u001b[32m│\u001b[0m  \u001b[92m|---|---|---|---|---|\u001b[0m                                                                                          \u001b[32m│\u001b[0m\n",
       "\u001b[32m│\u001b[0m  \u001b[92m| 1 | PayPal Holdings, Inc. | Payments & Payment Processing | Big Tech | 0.92 |\u001b[0m                                \u001b[32m│\u001b[0m\n",
       "\u001b[32m│\u001b[0m  \u001b[92m| 2 | Block, Inc. | Payments & Payment Processing | Big Tech | 0.90 |\u001b[0m                                          \u001b[32m│\u001b[0m\n",
       "\u001b[32m│\u001b[0m  \u001b[92m| 3 | Coinbase Global, Inc. | Payments & Payment Processing | Big Tech | 0.88 |\u001b[0m                                \u001b[32m│\u001b[0m\n",
       "\u001b[32m│\u001b[0m  \u001b[92m| 4 | Intuit Inc. | Payments & Payment Processing | Big Tech | 0.85 |\u001b[0m                                          \u001b[32m│\u001b[0m\n",
       "\u001b[32m│\u001b[0m  \u001b[92m| 5 | Global Payments Inc. | Payments & Payment Processing | Big Tech | 0.85 |\u001b[0m                                 \u001b[32m│\u001b[0m\n",
       "\u001b[32m│\u001b[0m  \u001b[92m| 6 | Fiserv, Inc. | Payments & Payment Processing | Big Tech | 0.84 |\u001b[0m                                         \u001b[32m│\u001b[0m\n",
       "\u001b[32m│\u001b[0m  \u001b[92m| 7 | Stripe | Fintech Infrastructure & Platform Tech | Late-stage startup | 0.86 |\u001b[0m                            \u001b[32m│\u001b[0m\n",
       "\u001b[32m│\u001b[0m  \u001b[92m| 8 | Bill.com Holdings, Inc. | Fintech Infrastructure & Platform Tech | Big Tech | 0.82 |\u001b[0m                     \u001b[32m│\u001b[0m\n",
       "\u001b[32m│\u001b[0m  \u001b[92m| 9 | Brex, Inc. | Fintech Infrastructure & Platform Tech | Late-stage startup | 0.82 |\u001b[0m                        \u001b[32m│\u001b[0m\n",
       "\u001b[32m│\u001b[0m  \u001b[92m| 10 | Marqeta, Inc. | Fintech Infrastructure & Platform Tech | Mid-stage startup | 0.80 |\u001b[0m                     \u001b[32m│\u001b[0m\n",
       "\u001b[32m│\u001b[0m  \u001b[92m| 11 | SoFi Technologies, Inc. | Digital Banking & Challenger Banks | Big Tech | 0.84 |\u001b[0m                        \u001b[32m│\u001b[0m\n",
       "\u001b[32m│\u001b[0m  \u001b[92m| 12 | Upstart Holdings, Inc. | Lending (Consumer & SME) | Late-stage startup | 0.83 |\u001b[0m                         \u001b[32m│\u001b[0m\n",
       "\u001b[32m│\u001b[0m  \u001b[92m| 13 | Affirm Holdings, Inc. | BNPL (Buy Now, Pay Later) | Late-stage startup | 0.78 |\u001b[0m                         \u001b[32m│\u001b[0m\n",
       "\u001b[32m│\u001b[0m  \u001b[92m| 14 | LendingClub Corporation | Lending (Consumer & SME) | Late-stage startup | 0.75 |\u001b[0m                        \u001b[32m│\u001b[0m\n",
       "\u001b[32m│\u001b[0m  \u001b[92m| 15 | Robinhood Markets, Inc. | WealthTech & Robo-Advisory | Late-stage startup | 0.77 |\u001b[0m                      \u001b[32m│\u001b[0m\n",
       "\u001b[32m│\u001b[0m  \u001b[92m| 16 | Lemonade, Inc. | Insurtech | Mid-stage startup | 0.70 |\u001b[0m                                                 \u001b[32m│\u001b[0m\n",
       "\u001b[32m│\u001b[0m  \u001b[92m| 17 | Toast, Inc. | Payments & Payment Processing | Late-stage startup | 0.70 |\u001b[0m                               \u001b[32m│\u001b[0m\n",
       "\u001b[32m│\u001b[0m  \u001b[92m| 18 | Mercury Bank (Mercury Financial) | Digital Banking & Challenger Banks | Early-stage startup | 0.65 |\u001b[0m    \u001b[32m│\u001b[0m\n",
       "\u001b[32m│\u001b[0m  \u001b[92m| 19 | MoneyLion, Inc. | Digital Banking & Challenger Banks | Early-stage startup | 0.63 |\u001b[0m                     \u001b[32m│\u001b[0m\n",
       "\u001b[32m│\u001b[0m  \u001b[92m| 20 | Acorns Grow, LLC | WealthTech & Robo-Advisory | Early-stage startup | 0.60 |\u001b[0m                            \u001b[32m│\u001b[0m\n",
       "\u001b[32m│\u001b[0m  \u001b[92m| 21 | Better.com | Digital Banking & Challenger Banks | Early-stage startup | 0.60 |\u001b[0m                          \u001b[32m│\u001b[0m\n",
       "\u001b[32m│\u001b[0m  \u001b[92m| 22 | Current, Inc. | Digital Banking & Challenger Banks | Early-stage startup | 0.63 |\u001b[0m                       \u001b[32m│\u001b[0m\n",
       "\u001b[32m│\u001b[0m  \u001b[92m| 23 | M1 Finance, LLC | WealthTech & Robo-Advisory | Early-stage startup | 0.60 |\u001b[0m                             \u001b[32m│\u001b[0m\n",
       "\u001b[32m│\u001b[0m  \u001b[92m| 24 | Chime Financial, Inc. | Digital Banking & Challenger Banks | Early-stage startup | 0.58 |\u001b[0m               \u001b[32m│\u001b[0m\n",
       "\u001b[32m│\u001b[0m  \u001b[92m| 25 | Payoneer Global Inc. | Payments & Payment Processing | Early-stage startup | 0.50 |\u001b[0m                     \u001b[32m│\u001b[0m\n",
       "\u001b[32m│\u001b[0m                                                                                                                 \u001b[32m│\u001b[0m\n",
       "\u001b[32m╰─────────────────────────────────────────────────────────────────────────────────────────────────────────────────╯\u001b[0m\n"
      ]
     },
     "metadata": {},
     "output_type": "display_data"
    },
    {
     "data": {
      "text/html": [
       "<pre style=\"white-space:pre;overflow-x:auto;line-height:normal;font-family:Menlo,'DejaVu Sans Mono',consolas,'Courier New',monospace\">\n",
       "</pre>\n"
      ],
      "text/plain": [
       "\n"
      ]
     },
     "metadata": {},
     "output_type": "display_data"
    },
    {
     "data": {
      "application/vnd.jupyter.widget-view+json": {
       "model_id": "bf879f84b3c647f2bbec44ceb54a6c58",
       "version_major": 2,
       "version_minor": 0
      },
      "text/plain": [
       "Output()"
      ]
     },
     "metadata": {},
     "output_type": "display_data"
    },
    {
     "data": {
      "text/html": [
       "<pre style=\"white-space:pre;overflow-x:auto;line-height:normal;font-family:Menlo,'DejaVu Sans Mono',consolas,'Courier New',monospace\"></pre>\n"
      ],
      "text/plain": []
     },
     "metadata": {},
     "output_type": "display_data"
    },
    {
     "data": {
      "text/html": [
       "<pre style=\"white-space:pre;overflow-x:auto;line-height:normal;font-family:Menlo,'DejaVu Sans Mono',consolas,'Courier New',monospace\"><span style=\"color: #008000; text-decoration-color: #008000\">╭──────────────────────────────────────────────── Task Completion ────────────────────────────────────────────────╮</span>\n",
       "<span style=\"color: #008000; text-decoration-color: #008000\">│</span>                                                                                                                 <span style=\"color: #008000; text-decoration-color: #008000\">│</span>\n",
       "<span style=\"color: #008000; text-decoration-color: #008000\">│</span>  <span style=\"color: #008000; text-decoration-color: #008000; font-weight: bold\">Task Completed</span>                                                                                                 <span style=\"color: #008000; text-decoration-color: #008000\">│</span>\n",
       "<span style=\"color: #008000; text-decoration-color: #008000\">│</span>  <span style=\"color: #c0c0c0; text-decoration-color: #c0c0c0\">Name: </span><span style=\"color: #008000; text-decoration-color: #008000\">eeefd0bd-4aee-4264-baa4-805c6bb48470</span>                                                                     <span style=\"color: #008000; text-decoration-color: #008000\">│</span>\n",
       "<span style=\"color: #008000; text-decoration-color: #008000\">│</span>  <span style=\"color: #c0c0c0; text-decoration-color: #c0c0c0\">Agent: </span><span style=\"color: #008000; text-decoration-color: #008000\">Stage Classifier and Ranker</span>                                                                             <span style=\"color: #008000; text-decoration-color: #008000\">│</span>\n",
       "<span style=\"color: #008000; text-decoration-color: #008000\">│</span>  <span style=\"color: #c0c0c0; text-decoration-color: #c0c0c0\">Tool Args: </span>                                                                                                    <span style=\"color: #008000; text-decoration-color: #008000\">│</span>\n",
       "<span style=\"color: #008000; text-decoration-color: #008000\">│</span>                                                                                                                 <span style=\"color: #008000; text-decoration-color: #008000\">│</span>\n",
       "<span style=\"color: #008000; text-decoration-color: #008000\">│</span>                                                                                                                 <span style=\"color: #008000; text-decoration-color: #008000\">│</span>\n",
       "<span style=\"color: #008000; text-decoration-color: #008000\">╰─────────────────────────────────────────────────────────────────────────────────────────────────────────────────╯</span>\n",
       "</pre>\n"
      ],
      "text/plain": [
       "\u001b[32m╭─\u001b[0m\u001b[32m───────────────────────────────────────────────\u001b[0m\u001b[32m Task Completion \u001b[0m\u001b[32m───────────────────────────────────────────────\u001b[0m\u001b[32m─╮\u001b[0m\n",
       "\u001b[32m│\u001b[0m                                                                                                                 \u001b[32m│\u001b[0m\n",
       "\u001b[32m│\u001b[0m  \u001b[1;32mTask Completed\u001b[0m                                                                                                 \u001b[32m│\u001b[0m\n",
       "\u001b[32m│\u001b[0m  \u001b[37mName: \u001b[0m\u001b[32meeefd0bd-4aee-4264-baa4-805c6bb48470\u001b[0m                                                                     \u001b[32m│\u001b[0m\n",
       "\u001b[32m│\u001b[0m  \u001b[37mAgent: \u001b[0m\u001b[32mStage Classifier and Ranker\u001b[0m                                                                             \u001b[32m│\u001b[0m\n",
       "\u001b[32m│\u001b[0m  \u001b[37mTool Args: \u001b[0m                                                                                                    \u001b[32m│\u001b[0m\n",
       "\u001b[32m│\u001b[0m                                                                                                                 \u001b[32m│\u001b[0m\n",
       "\u001b[32m│\u001b[0m                                                                                                                 \u001b[32m│\u001b[0m\n",
       "\u001b[32m╰─────────────────────────────────────────────────────────────────────────────────────────────────────────────────╯\u001b[0m\n"
      ]
     },
     "metadata": {},
     "output_type": "display_data"
    },
    {
     "data": {
      "text/html": [
       "<pre style=\"white-space:pre;overflow-x:auto;line-height:normal;font-family:Menlo,'DejaVu Sans Mono',consolas,'Courier New',monospace\">\n",
       "</pre>\n"
      ],
      "text/plain": [
       "\n"
      ]
     },
     "metadata": {},
     "output_type": "display_data"
    },
    {
     "data": {
      "text/html": [
       "<pre style=\"white-space:pre;overflow-x:auto;line-height:normal;font-family:Menlo,'DejaVu Sans Mono',consolas,'Courier New',monospace\"><span style=\"color: #008000; text-decoration-color: #008000\">╭──────────────────────────────────────────────── Crew Completion ────────────────────────────────────────────────╮</span>\n",
       "<span style=\"color: #008000; text-decoration-color: #008000\">│</span>                                                                                                                 <span style=\"color: #008000; text-decoration-color: #008000\">│</span>\n",
       "<span style=\"color: #008000; text-decoration-color: #008000\">│</span>  <span style=\"color: #008000; text-decoration-color: #008000; font-weight: bold\">Crew Execution Completed</span>                                                                                       <span style=\"color: #008000; text-decoration-color: #008000\">│</span>\n",
       "<span style=\"color: #008000; text-decoration-color: #008000\">│</span>  <span style=\"color: #c0c0c0; text-decoration-color: #c0c0c0\">Name: </span><span style=\"color: #008000; text-decoration-color: #008000\">crew</span>                                                                                                     <span style=\"color: #008000; text-decoration-color: #008000\">│</span>\n",
       "<span style=\"color: #008000; text-decoration-color: #008000\">│</span>  <span style=\"color: #c0c0c0; text-decoration-color: #c0c0c0\">ID: </span><span style=\"color: #008000; text-decoration-color: #008000\">b710c230-2c95-4ed7-9b97-dd45409baf02</span>                                                                       <span style=\"color: #008000; text-decoration-color: #008000\">│</span>\n",
       "<span style=\"color: #008000; text-decoration-color: #008000\">│</span>  <span style=\"color: #c0c0c0; text-decoration-color: #c0c0c0\">Tool Args: </span>                                                                                                    <span style=\"color: #008000; text-decoration-color: #008000\">│</span>\n",
       "<span style=\"color: #008000; text-decoration-color: #008000\">│</span>  <span style=\"color: #c0c0c0; text-decoration-color: #c0c0c0\">Final Output: [</span>                                                                                                <span style=\"color: #008000; text-decoration-color: #008000\">│</span>\n",
       "<span style=\"color: #008000; text-decoration-color: #008000\">│</span>  <span style=\"color: #c0c0c0; text-decoration-color: #c0c0c0\">  {\"rank\": 1, \"company\": \"PayPal Holdings, Inc.\", \"sub_industry\": \"Payments &amp; Payment Processing\", </span>            <span style=\"color: #008000; text-decoration-color: #008000\">│</span>\n",
       "<span style=\"color: #008000; text-decoration-color: #008000\">│</span>  <span style=\"color: #c0c0c0; text-decoration-color: #c0c0c0\">\"stage_label\": \"Big Tech\", \"confidence\": 0.92},</span>                                                                <span style=\"color: #008000; text-decoration-color: #008000\">│</span>\n",
       "<span style=\"color: #008000; text-decoration-color: #008000\">│</span>  <span style=\"color: #c0c0c0; text-decoration-color: #c0c0c0\">  {\"rank\": 2, \"company\": \"Block, Inc.\", \"sub_industry\": \"Payments &amp; Payment Processing\", \"stage_label\": \"Big </span>  <span style=\"color: #008000; text-decoration-color: #008000\">│</span>\n",
       "<span style=\"color: #008000; text-decoration-color: #008000\">│</span>  <span style=\"color: #c0c0c0; text-decoration-color: #c0c0c0\">Tech\", \"confidence\": 0.90},</span>                                                                                    <span style=\"color: #008000; text-decoration-color: #008000\">│</span>\n",
       "<span style=\"color: #008000; text-decoration-color: #008000\">│</span>  <span style=\"color: #c0c0c0; text-decoration-color: #c0c0c0\">  {\"rank\": 3, \"company\": \"Coinbase Global, Inc.\", \"sub_industry\": \"Payments &amp; Payment Processing\", </span>            <span style=\"color: #008000; text-decoration-color: #008000\">│</span>\n",
       "<span style=\"color: #008000; text-decoration-color: #008000\">│</span>  <span style=\"color: #c0c0c0; text-decoration-color: #c0c0c0\">\"stage_label\": \"Big Tech\", \"confidence\": 0.88},</span>                                                                <span style=\"color: #008000; text-decoration-color: #008000\">│</span>\n",
       "<span style=\"color: #008000; text-decoration-color: #008000\">│</span>  <span style=\"color: #c0c0c0; text-decoration-color: #c0c0c0\">  {\"rank\": 4, \"company\": \"Intuit Inc.\", \"sub_industry\": \"Payments &amp; Payment Processing\", \"stage_label\": \"Big </span>  <span style=\"color: #008000; text-decoration-color: #008000\">│</span>\n",
       "<span style=\"color: #008000; text-decoration-color: #008000\">│</span>  <span style=\"color: #c0c0c0; text-decoration-color: #c0c0c0\">Tech\", \"confidence\": 0.85},</span>                                                                                    <span style=\"color: #008000; text-decoration-color: #008000\">│</span>\n",
       "<span style=\"color: #008000; text-decoration-color: #008000\">│</span>  <span style=\"color: #c0c0c0; text-decoration-color: #c0c0c0\">  {\"rank\": 5, \"company\": \"Global Payments Inc.\", \"sub_industry\": \"Payments &amp; Payment Processing\", </span>             <span style=\"color: #008000; text-decoration-color: #008000\">│</span>\n",
       "<span style=\"color: #008000; text-decoration-color: #008000\">│</span>  <span style=\"color: #c0c0c0; text-decoration-color: #c0c0c0\">\"stage_label\": \"Big Tech\", \"confidence\": 0.85},</span>                                                                <span style=\"color: #008000; text-decoration-color: #008000\">│</span>\n",
       "<span style=\"color: #008000; text-decoration-color: #008000\">│</span>  <span style=\"color: #c0c0c0; text-decoration-color: #c0c0c0\">  {\"rank\": 6, \"company\": \"Fiserv, Inc.\", \"sub_industry\": \"Payments &amp; Payment Processing\", \"stage_label\": \"Big</span>  <span style=\"color: #008000; text-decoration-color: #008000\">│</span>\n",
       "<span style=\"color: #008000; text-decoration-color: #008000\">│</span>  <span style=\"color: #c0c0c0; text-decoration-color: #c0c0c0\">Tech\", \"confidence\": 0.84},</span>                                                                                    <span style=\"color: #008000; text-decoration-color: #008000\">│</span>\n",
       "<span style=\"color: #008000; text-decoration-color: #008000\">│</span>  <span style=\"color: #c0c0c0; text-decoration-color: #c0c0c0\">  {\"rank\": 7, \"company\": \"Stripe\", \"sub_industry\": \"Fintech Infrastructure &amp; Platform Tech\", \"stage_label\": </span>   <span style=\"color: #008000; text-decoration-color: #008000\">│</span>\n",
       "<span style=\"color: #008000; text-decoration-color: #008000\">│</span>  <span style=\"color: #c0c0c0; text-decoration-color: #c0c0c0\">\"Late-stage startup\", \"confidence\": 0.86},</span>                                                                     <span style=\"color: #008000; text-decoration-color: #008000\">│</span>\n",
       "<span style=\"color: #008000; text-decoration-color: #008000\">│</span>  <span style=\"color: #c0c0c0; text-decoration-color: #c0c0c0\">  {\"rank\": 8, \"company\": \"Bill.com Holdings, Inc.\", \"sub_industry\": \"Fintech Infrastructure &amp; Platform Tech\",</span>  <span style=\"color: #008000; text-decoration-color: #008000\">│</span>\n",
       "<span style=\"color: #008000; text-decoration-color: #008000\">│</span>  <span style=\"color: #c0c0c0; text-decoration-color: #c0c0c0\">\"stage_label\": \"Big Tech\", \"confidence\": 0.82},</span>                                                                <span style=\"color: #008000; text-decoration-color: #008000\">│</span>\n",
       "<span style=\"color: #008000; text-decoration-color: #008000\">│</span>  <span style=\"color: #c0c0c0; text-decoration-color: #c0c0c0\">  {\"rank\": 9, \"company\": \"Brex, Inc.\", \"sub_industry\": \"Fintech Infrastructure &amp; Platform Tech\", </span>              <span style=\"color: #008000; text-decoration-color: #008000\">│</span>\n",
       "<span style=\"color: #008000; text-decoration-color: #008000\">│</span>  <span style=\"color: #c0c0c0; text-decoration-color: #c0c0c0\">\"stage_label\": \"Late-stage startup\", \"confidence\": 0.82},</span>                                                      <span style=\"color: #008000; text-decoration-color: #008000\">│</span>\n",
       "<span style=\"color: #008000; text-decoration-color: #008000\">│</span>  <span style=\"color: #c0c0c0; text-decoration-color: #c0c0c0\">  {\"rank\": 10, \"company\": \"Marqeta, Inc.\", \"sub_industry\": \"Fintech Infrastructure &amp; Platform Tech\", </span>          <span style=\"color: #008000; text-decoration-color: #008000\">│</span>\n",
       "<span style=\"color: #008000; text-decoration-color: #008000\">│</span>  <span style=\"color: #c0c0c0; text-decoration-color: #c0c0c0\">\"stage_label\": \"Mid-stage startup\", \"confidence\": 0.80},</span>                                                       <span style=\"color: #008000; text-decoration-color: #008000\">│</span>\n",
       "<span style=\"color: #008000; text-decoration-color: #008000\">│</span>  <span style=\"color: #c0c0c0; text-decoration-color: #c0c0c0\">  {\"rank\": 11, \"company\": \"SoFi Technologies, Inc.\", \"sub_industry\": \"Digital Banking &amp; Challenger Banks\", </span>    <span style=\"color: #008000; text-decoration-color: #008000\">│</span>\n",
       "<span style=\"color: #008000; text-decoration-color: #008000\">│</span>  <span style=\"color: #c0c0c0; text-decoration-color: #c0c0c0\">\"stage_label\": \"Big Tech\", \"confidence\": 0.84},</span>                                                                <span style=\"color: #008000; text-decoration-color: #008000\">│</span>\n",
       "<span style=\"color: #008000; text-decoration-color: #008000\">│</span>  <span style=\"color: #c0c0c0; text-decoration-color: #c0c0c0\">  {\"rank\": 12, \"company\": \"Upstart Holdings, Inc.\", \"sub_industry\": \"Lending (Consumer &amp; SME)\", </span>               <span style=\"color: #008000; text-decoration-color: #008000\">│</span>\n",
       "<span style=\"color: #008000; text-decoration-color: #008000\">│</span>  <span style=\"color: #c0c0c0; text-decoration-color: #c0c0c0\">\"stage_label\": \"Late-stage startup\", \"confidence\": 0.83},</span>                                                      <span style=\"color: #008000; text-decoration-color: #008000\">│</span>\n",
       "<span style=\"color: #008000; text-decoration-color: #008000\">│</span>  <span style=\"color: #c0c0c0; text-decoration-color: #c0c0c0\">  {\"rank\": 13, \"company\": \"Affirm Holdings, Inc.\", \"sub_industry\": \"BNPL (Buy Now, Pay Later)\", </span>               <span style=\"color: #008000; text-decoration-color: #008000\">│</span>\n",
       "<span style=\"color: #008000; text-decoration-color: #008000\">│</span>  <span style=\"color: #c0c0c0; text-decoration-color: #c0c0c0\">\"stage_label\": \"Late-stage startup\", \"confidence\": 0.78},</span>                                                      <span style=\"color: #008000; text-decoration-color: #008000\">│</span>\n",
       "<span style=\"color: #008000; text-decoration-color: #008000\">│</span>  <span style=\"color: #c0c0c0; text-decoration-color: #c0c0c0\">  {\"rank\": 14, \"company\": \"LendingClub Corporation\", \"sub_industry\": \"Lending (Consumer &amp; SME)\", </span>              <span style=\"color: #008000; text-decoration-color: #008000\">│</span>\n",
       "<span style=\"color: #008000; text-decoration-color: #008000\">│</span>  <span style=\"color: #c0c0c0; text-decoration-color: #c0c0c0\">\"stage_label\": \"Late-stage startup\", \"confidence\": 0.75},</span>                                                      <span style=\"color: #008000; text-decoration-color: #008000\">│</span>\n",
       "<span style=\"color: #008000; text-decoration-color: #008000\">│</span>  <span style=\"color: #c0c0c0; text-decoration-color: #c0c0c0\">  {\"rank\": 15, \"company\": \"Robinhood Markets, Inc.\", \"sub_industry\": \"WealthTech &amp; Robo-Advisory\", </span>            <span style=\"color: #008000; text-decoration-color: #008000\">│</span>\n",
       "<span style=\"color: #008000; text-decoration-color: #008000\">│</span>  <span style=\"color: #c0c0c0; text-decoration-color: #c0c0c0\">\"stage_label\": \"Late-stage startup\", \"confidence\": 0.77},</span>                                                      <span style=\"color: #008000; text-decoration-color: #008000\">│</span>\n",
       "<span style=\"color: #008000; text-decoration-color: #008000\">│</span>  <span style=\"color: #c0c0c0; text-decoration-color: #c0c0c0\">  {\"rank\": 16, \"company\": \"Lemonade, Inc.\", \"sub_industry\": \"Insurtech\", \"stage_label\": \"Mid-stage startup\", </span>  <span style=\"color: #008000; text-decoration-color: #008000\">│</span>\n",
       "<span style=\"color: #008000; text-decoration-color: #008000\">│</span>  <span style=\"color: #c0c0c0; text-decoration-color: #c0c0c0\">\"confidence\": 0.70},</span>                                                                                           <span style=\"color: #008000; text-decoration-color: #008000\">│</span>\n",
       "<span style=\"color: #008000; text-decoration-color: #008000\">│</span>  <span style=\"color: #c0c0c0; text-decoration-color: #c0c0c0\">  {\"rank\": 17, \"company\": \"Toast, Inc.\", \"sub_industry\": \"Payments &amp; Payment Processing\", \"stage_label\": </span>      <span style=\"color: #008000; text-decoration-color: #008000\">│</span>\n",
       "<span style=\"color: #008000; text-decoration-color: #008000\">│</span>  <span style=\"color: #c0c0c0; text-decoration-color: #c0c0c0\">\"Late-stage startup\", \"confidence\": 0.70},</span>                                                                     <span style=\"color: #008000; text-decoration-color: #008000\">│</span>\n",
       "<span style=\"color: #008000; text-decoration-color: #008000\">│</span>  <span style=\"color: #c0c0c0; text-decoration-color: #c0c0c0\">  {\"rank\": 18, \"company\": \"Mercury Bank (Mercury Financial)\", \"sub_industry\": \"Digital Banking &amp; Challenger </span>   <span style=\"color: #008000; text-decoration-color: #008000\">│</span>\n",
       "<span style=\"color: #008000; text-decoration-color: #008000\">│</span>  <span style=\"color: #c0c0c0; text-decoration-color: #c0c0c0\">Banks\", \"stage_label\": \"Early-stage startup\", \"confidence\": 0.65},</span>                                             <span style=\"color: #008000; text-decoration-color: #008000\">│</span>\n",
       "<span style=\"color: #008000; text-decoration-color: #008000\">│</span>  <span style=\"color: #c0c0c0; text-decoration-color: #c0c0c0\">  {\"rank\": 19, \"company\": \"MoneyLion, Inc.\", \"sub_industry\": \"Digital Banking &amp; Challenger Banks\", </span>            <span style=\"color: #008000; text-decoration-color: #008000\">│</span>\n",
       "<span style=\"color: #008000; text-decoration-color: #008000\">│</span>  <span style=\"color: #c0c0c0; text-decoration-color: #c0c0c0\">\"stage_label\": \"Early-stage startup\", \"confidence\": 0.63},</span>                                                     <span style=\"color: #008000; text-decoration-color: #008000\">│</span>\n",
       "<span style=\"color: #008000; text-decoration-color: #008000\">│</span>  <span style=\"color: #c0c0c0; text-decoration-color: #c0c0c0\">  {\"rank\": 20, \"company\": \"Acorns Grow, LLC\", \"sub_industry\": \"WealthTech &amp; Robo-Advisory\", \"stage_label\": </span>    <span style=\"color: #008000; text-decoration-color: #008000\">│</span>\n",
       "<span style=\"color: #008000; text-decoration-color: #008000\">│</span>  <span style=\"color: #c0c0c0; text-decoration-color: #c0c0c0\">\"Early-stage startup\", \"confidence\": 0.60},</span>                                                                    <span style=\"color: #008000; text-decoration-color: #008000\">│</span>\n",
       "<span style=\"color: #008000; text-decoration-color: #008000\">│</span>  <span style=\"color: #c0c0c0; text-decoration-color: #c0c0c0\">  {\"rank\": 21, \"company\": \"Better.com\", \"sub_industry\": \"Digital Banking &amp; Challenger Banks\", \"stage_label\": </span>  <span style=\"color: #008000; text-decoration-color: #008000\">│</span>\n",
       "<span style=\"color: #008000; text-decoration-color: #008000\">│</span>  <span style=\"color: #c0c0c0; text-decoration-color: #c0c0c0\">\"Early-stage startup\", \"confidence\": 0.60},</span>                                                                    <span style=\"color: #008000; text-decoration-color: #008000\">│</span>\n",
       "<span style=\"color: #008000; text-decoration-color: #008000\">│</span>  <span style=\"color: #c0c0c0; text-decoration-color: #c0c0c0\">  {\"rank\": 22, \"company\": \"Current, Inc.\", \"sub_industry\": \"Digital Banking &amp; Challenger Banks\", </span>              <span style=\"color: #008000; text-decoration-color: #008000\">│</span>\n",
       "<span style=\"color: #008000; text-decoration-color: #008000\">│</span>  <span style=\"color: #c0c0c0; text-decoration-color: #c0c0c0\">\"stage_label\": \"Early-stage startup\", \"confidence\": 0.63},</span>                                                     <span style=\"color: #008000; text-decoration-color: #008000\">│</span>\n",
       "<span style=\"color: #008000; text-decoration-color: #008000\">│</span>  <span style=\"color: #c0c0c0; text-decoration-color: #c0c0c0\">  {\"rank\": 23, \"company\": \"M1 Finance, LLC\", \"sub_industry\": \"WealthTech &amp; Robo-Advisory\", \"stage_label\": </span>     <span style=\"color: #008000; text-decoration-color: #008000\">│</span>\n",
       "<span style=\"color: #008000; text-decoration-color: #008000\">│</span>  <span style=\"color: #c0c0c0; text-decoration-color: #c0c0c0\">\"Early-stage startup\", \"confidence\": 0.60},</span>                                                                    <span style=\"color: #008000; text-decoration-color: #008000\">│</span>\n",
       "<span style=\"color: #008000; text-decoration-color: #008000\">│</span>  <span style=\"color: #c0c0c0; text-decoration-color: #c0c0c0\">  {\"rank\": 24, \"company\": \"Chime Financial, Inc.\", \"sub_industry\": \"Digital Banking &amp; Challenger Banks\", </span>      <span style=\"color: #008000; text-decoration-color: #008000\">│</span>\n",
       "<span style=\"color: #008000; text-decoration-color: #008000\">│</span>  <span style=\"color: #c0c0c0; text-decoration-color: #c0c0c0\">\"stage_label\": \"Early-stage startup\", \"confidence\": 0.58},</span>                                                     <span style=\"color: #008000; text-decoration-color: #008000\">│</span>\n",
       "<span style=\"color: #008000; text-decoration-color: #008000\">│</span>  <span style=\"color: #c0c0c0; text-decoration-color: #c0c0c0\">  {\"rank\": 25, \"company\": \"Payoneer Global Inc.\", \"sub_industry\": \"Payments &amp; Payment Processing\", </span>            <span style=\"color: #008000; text-decoration-color: #008000\">│</span>\n",
       "<span style=\"color: #008000; text-decoration-color: #008000\">│</span>  <span style=\"color: #c0c0c0; text-decoration-color: #c0c0c0\">\"stage_label\": \"Early-stage startup\", \"confidence\": 0.50}</span>                                                      <span style=\"color: #008000; text-decoration-color: #008000\">│</span>\n",
       "<span style=\"color: #008000; text-decoration-color: #008000\">│</span>  <span style=\"color: #c0c0c0; text-decoration-color: #c0c0c0\">]</span>                                                                                                              <span style=\"color: #008000; text-decoration-color: #008000\">│</span>\n",
       "<span style=\"color: #008000; text-decoration-color: #008000\">│</span>                                                                                                                 <span style=\"color: #008000; text-decoration-color: #008000\">│</span>\n",
       "<span style=\"color: #008000; text-decoration-color: #008000\">│</span>  <span style=\"color: #c0c0c0; text-decoration-color: #c0c0c0\">Method note: I used a simple blend of scale (employees/revenue), traction/market share, funding stage, and </span>    <span style=\"color: #008000; text-decoration-color: #008000\">│</span>\n",
       "<span style=\"color: #008000; text-decoration-color: #008000\">│</span>  <span style=\"color: #c0c0c0; text-decoration-color: #c0c0c0\">mindshare as a rough industry-wide score, with ties broken by confidence and data recency.</span>                     <span style=\"color: #008000; text-decoration-color: #008000\">│</span>\n",
       "<span style=\"color: #008000; text-decoration-color: #008000\">│</span>                                                                                                                 <span style=\"color: #008000; text-decoration-color: #008000\">│</span>\n",
       "<span style=\"color: #008000; text-decoration-color: #008000\">│</span>  <span style=\"color: #c0c0c0; text-decoration-color: #c0c0c0\">Markdown table:</span>                                                                                                <span style=\"color: #008000; text-decoration-color: #008000\">│</span>\n",
       "<span style=\"color: #008000; text-decoration-color: #008000\">│</span>  <span style=\"color: #c0c0c0; text-decoration-color: #c0c0c0\">| Rank | Company | Sub-industry | Stage | Confidence |</span>                                                         <span style=\"color: #008000; text-decoration-color: #008000\">│</span>\n",
       "<span style=\"color: #008000; text-decoration-color: #008000\">│</span>  <span style=\"color: #c0c0c0; text-decoration-color: #c0c0c0\">|---|---|---|---|---|</span>                                                                                          <span style=\"color: #008000; text-decoration-color: #008000\">│</span>\n",
       "<span style=\"color: #008000; text-decoration-color: #008000\">│</span>  <span style=\"color: #c0c0c0; text-decoration-color: #c0c0c0\">| 1 | PayPal Holdings, Inc. | Payments &amp; Payment Processing | Big Tech | 0.92 |</span>                                <span style=\"color: #008000; text-decoration-color: #008000\">│</span>\n",
       "<span style=\"color: #008000; text-decoration-color: #008000\">│</span>  <span style=\"color: #c0c0c0; text-decoration-color: #c0c0c0\">| 2 | Block, Inc. | Payments &amp; Payment Processing | Big Tech | 0.90 |</span>                                          <span style=\"color: #008000; text-decoration-color: #008000\">│</span>\n",
       "<span style=\"color: #008000; text-decoration-color: #008000\">│</span>  <span style=\"color: #c0c0c0; text-decoration-color: #c0c0c0\">| 3 | Coinbase Global, Inc. | Payments &amp; Payment Processing | Big Tech | 0.88 |</span>                                <span style=\"color: #008000; text-decoration-color: #008000\">│</span>\n",
       "<span style=\"color: #008000; text-decoration-color: #008000\">│</span>  <span style=\"color: #c0c0c0; text-decoration-color: #c0c0c0\">| 4 | Intuit Inc. | Payments &amp; Payment Processing | Big Tech | 0.85 |</span>                                          <span style=\"color: #008000; text-decoration-color: #008000\">│</span>\n",
       "<span style=\"color: #008000; text-decoration-color: #008000\">│</span>  <span style=\"color: #c0c0c0; text-decoration-color: #c0c0c0\">| 5 | Global Payments Inc. | Payments &amp; Payment Processing | Big Tech | 0.85 |</span>                                 <span style=\"color: #008000; text-decoration-color: #008000\">│</span>\n",
       "<span style=\"color: #008000; text-decoration-color: #008000\">│</span>  <span style=\"color: #c0c0c0; text-decoration-color: #c0c0c0\">| 6 | Fiserv, Inc. | Payments &amp; Payment Processing | Big Tech | 0.84 |</span>                                         <span style=\"color: #008000; text-decoration-color: #008000\">│</span>\n",
       "<span style=\"color: #008000; text-decoration-color: #008000\">│</span>  <span style=\"color: #c0c0c0; text-decoration-color: #c0c0c0\">| 7 | Stripe | Fintech Infrastructure &amp; Platform Tech | Late-stage startup | 0.86 |</span>                            <span style=\"color: #008000; text-decoration-color: #008000\">│</span>\n",
       "<span style=\"color: #008000; text-decoration-color: #008000\">│</span>  <span style=\"color: #c0c0c0; text-decoration-color: #c0c0c0\">| 8 | Bill.com Holdings, Inc. | Fintech Infrastructure &amp; Platform Tech | Big Tech | 0.82 |</span>                     <span style=\"color: #008000; text-decoration-color: #008000\">│</span>\n",
       "<span style=\"color: #008000; text-decoration-color: #008000\">│</span>  <span style=\"color: #c0c0c0; text-decoration-color: #c0c0c0\">| 9 | Brex, Inc. | Fintech Infrastructure &amp; Platform Tech | Late-stage startup | 0.82 |</span>                        <span style=\"color: #008000; text-decoration-color: #008000\">│</span>\n",
       "<span style=\"color: #008000; text-decoration-color: #008000\">│</span>  <span style=\"color: #c0c0c0; text-decoration-color: #c0c0c0\">| 10 | Marqeta, Inc. | Fintech Infrastructure &amp; Platform Tech | Mid-stage startup | 0.80 |</span>                     <span style=\"color: #008000; text-decoration-color: #008000\">│</span>\n",
       "<span style=\"color: #008000; text-decoration-color: #008000\">│</span>  <span style=\"color: #c0c0c0; text-decoration-color: #c0c0c0\">| 11 | SoFi Technologies, Inc. | Digital Banking &amp; Challenger Banks | Big Tech | 0.84 |</span>                        <span style=\"color: #008000; text-decoration-color: #008000\">│</span>\n",
       "<span style=\"color: #008000; text-decoration-color: #008000\">│</span>  <span style=\"color: #c0c0c0; text-decoration-color: #c0c0c0\">| 12 | Upstart Holdings, Inc. | Lending (Consumer &amp; SME) | Late-stage startup | 0.83 |</span>                         <span style=\"color: #008000; text-decoration-color: #008000\">│</span>\n",
       "<span style=\"color: #008000; text-decoration-color: #008000\">│</span>  <span style=\"color: #c0c0c0; text-decoration-color: #c0c0c0\">| 13 | Affirm Holdings, Inc. | BNPL (Buy Now, Pay Later) | Late-stage startup | 0.78 |</span>                         <span style=\"color: #008000; text-decoration-color: #008000\">│</span>\n",
       "<span style=\"color: #008000; text-decoration-color: #008000\">│</span>  <span style=\"color: #c0c0c0; text-decoration-color: #c0c0c0\">| 14 | LendingClub Corporation | Lending (Consumer &amp; SME) | Late-stage startup | 0.75 |</span>                        <span style=\"color: #008000; text-decoration-color: #008000\">│</span>\n",
       "<span style=\"color: #008000; text-decoration-color: #008000\">│</span>  <span style=\"color: #c0c0c0; text-decoration-color: #c0c0c0\">| 15 | Robinhood Markets, Inc. | WealthTech &amp; Robo-Advisory | Late-stage startup | 0.77 |</span>                      <span style=\"color: #008000; text-decoration-color: #008000\">│</span>\n",
       "<span style=\"color: #008000; text-decoration-color: #008000\">│</span>  <span style=\"color: #c0c0c0; text-decoration-color: #c0c0c0\">| 16 | Lemonade, Inc. | Insurtech | Mid-stage startup | 0.70 |</span>                                                 <span style=\"color: #008000; text-decoration-color: #008000\">│</span>\n",
       "<span style=\"color: #008000; text-decoration-color: #008000\">│</span>  <span style=\"color: #c0c0c0; text-decoration-color: #c0c0c0\">| 17 | Toast, Inc. | Payments &amp; Payment Processing | Late-stage startup | 0.70 |</span>                               <span style=\"color: #008000; text-decoration-color: #008000\">│</span>\n",
       "<span style=\"color: #008000; text-decoration-color: #008000\">│</span>  <span style=\"color: #c0c0c0; text-decoration-color: #c0c0c0\">| 18 | Mercury Bank (Mercury Financial) | Digital Banking &amp; Challenger Banks | Early-stage startup | 0.65 |</span>    <span style=\"color: #008000; text-decoration-color: #008000\">│</span>\n",
       "<span style=\"color: #008000; text-decoration-color: #008000\">│</span>  <span style=\"color: #c0c0c0; text-decoration-color: #c0c0c0\">| 19 | MoneyLion, Inc. | Digital Banking &amp; Challenger Banks | Early-stage startup | 0.63 |</span>                     <span style=\"color: #008000; text-decoration-color: #008000\">│</span>\n",
       "<span style=\"color: #008000; text-decoration-color: #008000\">│</span>  <span style=\"color: #c0c0c0; text-decoration-color: #c0c0c0\">| 20 | Acorns Grow, LLC | WealthTech &amp; Robo-Advisory | Early-stage startup | 0.60 |</span>                            <span style=\"color: #008000; text-decoration-color: #008000\">│</span>\n",
       "<span style=\"color: #008000; text-decoration-color: #008000\">│</span>  <span style=\"color: #c0c0c0; text-decoration-color: #c0c0c0\">| 21 | Better.com | Digital Banking &amp; Challenger Banks | Early-stage startup | 0.60 |</span>                          <span style=\"color: #008000; text-decoration-color: #008000\">│</span>\n",
       "<span style=\"color: #008000; text-decoration-color: #008000\">│</span>  <span style=\"color: #c0c0c0; text-decoration-color: #c0c0c0\">| 22 | Current, Inc. | Digital Banking &amp; Challenger Banks | Early-stage startup | 0.63 |</span>                       <span style=\"color: #008000; text-decoration-color: #008000\">│</span>\n",
       "<span style=\"color: #008000; text-decoration-color: #008000\">│</span>  <span style=\"color: #c0c0c0; text-decoration-color: #c0c0c0\">| 23 | M1 Finance, LLC | WealthTech &amp; Robo-Advisory | Early-stage startup | 0.60 |</span>                             <span style=\"color: #008000; text-decoration-color: #008000\">│</span>\n",
       "<span style=\"color: #008000; text-decoration-color: #008000\">│</span>  <span style=\"color: #c0c0c0; text-decoration-color: #c0c0c0\">| 24 | Chime Financial, Inc. | Digital Banking &amp; Challenger Banks | Early-stage startup | 0.58 |</span>               <span style=\"color: #008000; text-decoration-color: #008000\">│</span>\n",
       "<span style=\"color: #008000; text-decoration-color: #008000\">│</span>  <span style=\"color: #c0c0c0; text-decoration-color: #c0c0c0\">| 25 | Payoneer Global Inc. | Payments &amp; Payment Processing | Early-stage startup | 0.50 |</span>                     <span style=\"color: #008000; text-decoration-color: #008000\">│</span>\n",
       "<span style=\"color: #008000; text-decoration-color: #008000\">│</span>                                                                                                                 <span style=\"color: #008000; text-decoration-color: #008000\">│</span>\n",
       "<span style=\"color: #008000; text-decoration-color: #008000\">│</span>                                                                                                                 <span style=\"color: #008000; text-decoration-color: #008000\">│</span>\n",
       "<span style=\"color: #008000; text-decoration-color: #008000\">╰─────────────────────────────────────────────────────────────────────────────────────────────────────────────────╯</span>\n",
       "</pre>\n"
      ],
      "text/plain": [
       "\u001b[32m╭─\u001b[0m\u001b[32m───────────────────────────────────────────────\u001b[0m\u001b[32m Crew Completion \u001b[0m\u001b[32m───────────────────────────────────────────────\u001b[0m\u001b[32m─╮\u001b[0m\n",
       "\u001b[32m│\u001b[0m                                                                                                                 \u001b[32m│\u001b[0m\n",
       "\u001b[32m│\u001b[0m  \u001b[1;32mCrew Execution Completed\u001b[0m                                                                                       \u001b[32m│\u001b[0m\n",
       "\u001b[32m│\u001b[0m  \u001b[37mName: \u001b[0m\u001b[32mcrew\u001b[0m                                                                                                     \u001b[32m│\u001b[0m\n",
       "\u001b[32m│\u001b[0m  \u001b[37mID: \u001b[0m\u001b[32mb710c230-2c95-4ed7-9b97-dd45409baf02\u001b[0m                                                                       \u001b[32m│\u001b[0m\n",
       "\u001b[32m│\u001b[0m  \u001b[37mTool Args: \u001b[0m                                                                                                    \u001b[32m│\u001b[0m\n",
       "\u001b[32m│\u001b[0m  \u001b[37mFinal Output: [\u001b[0m                                                                                                \u001b[32m│\u001b[0m\n",
       "\u001b[32m│\u001b[0m  \u001b[37m  {\"rank\": 1, \"company\": \"PayPal Holdings, Inc.\", \"sub_industry\": \"Payments & Payment Processing\", \u001b[0m            \u001b[32m│\u001b[0m\n",
       "\u001b[32m│\u001b[0m  \u001b[37m\"stage_label\": \"Big Tech\", \"confidence\": 0.92},\u001b[0m                                                                \u001b[32m│\u001b[0m\n",
       "\u001b[32m│\u001b[0m  \u001b[37m  {\"rank\": 2, \"company\": \"Block, Inc.\", \"sub_industry\": \"Payments & Payment Processing\", \"stage_label\": \"Big \u001b[0m  \u001b[32m│\u001b[0m\n",
       "\u001b[32m│\u001b[0m  \u001b[37mTech\", \"confidence\": 0.90},\u001b[0m                                                                                    \u001b[32m│\u001b[0m\n",
       "\u001b[32m│\u001b[0m  \u001b[37m  {\"rank\": 3, \"company\": \"Coinbase Global, Inc.\", \"sub_industry\": \"Payments & Payment Processing\", \u001b[0m            \u001b[32m│\u001b[0m\n",
       "\u001b[32m│\u001b[0m  \u001b[37m\"stage_label\": \"Big Tech\", \"confidence\": 0.88},\u001b[0m                                                                \u001b[32m│\u001b[0m\n",
       "\u001b[32m│\u001b[0m  \u001b[37m  {\"rank\": 4, \"company\": \"Intuit Inc.\", \"sub_industry\": \"Payments & Payment Processing\", \"stage_label\": \"Big \u001b[0m  \u001b[32m│\u001b[0m\n",
       "\u001b[32m│\u001b[0m  \u001b[37mTech\", \"confidence\": 0.85},\u001b[0m                                                                                    \u001b[32m│\u001b[0m\n",
       "\u001b[32m│\u001b[0m  \u001b[37m  {\"rank\": 5, \"company\": \"Global Payments Inc.\", \"sub_industry\": \"Payments & Payment Processing\", \u001b[0m             \u001b[32m│\u001b[0m\n",
       "\u001b[32m│\u001b[0m  \u001b[37m\"stage_label\": \"Big Tech\", \"confidence\": 0.85},\u001b[0m                                                                \u001b[32m│\u001b[0m\n",
       "\u001b[32m│\u001b[0m  \u001b[37m  {\"rank\": 6, \"company\": \"Fiserv, Inc.\", \"sub_industry\": \"Payments & Payment Processing\", \"stage_label\": \"Big\u001b[0m  \u001b[32m│\u001b[0m\n",
       "\u001b[32m│\u001b[0m  \u001b[37mTech\", \"confidence\": 0.84},\u001b[0m                                                                                    \u001b[32m│\u001b[0m\n",
       "\u001b[32m│\u001b[0m  \u001b[37m  {\"rank\": 7, \"company\": \"Stripe\", \"sub_industry\": \"Fintech Infrastructure & Platform Tech\", \"stage_label\": \u001b[0m   \u001b[32m│\u001b[0m\n",
       "\u001b[32m│\u001b[0m  \u001b[37m\"Late-stage startup\", \"confidence\": 0.86},\u001b[0m                                                                     \u001b[32m│\u001b[0m\n",
       "\u001b[32m│\u001b[0m  \u001b[37m  {\"rank\": 8, \"company\": \"Bill.com Holdings, Inc.\", \"sub_industry\": \"Fintech Infrastructure & Platform Tech\",\u001b[0m  \u001b[32m│\u001b[0m\n",
       "\u001b[32m│\u001b[0m  \u001b[37m\"stage_label\": \"Big Tech\", \"confidence\": 0.82},\u001b[0m                                                                \u001b[32m│\u001b[0m\n",
       "\u001b[32m│\u001b[0m  \u001b[37m  {\"rank\": 9, \"company\": \"Brex, Inc.\", \"sub_industry\": \"Fintech Infrastructure & Platform Tech\", \u001b[0m              \u001b[32m│\u001b[0m\n",
       "\u001b[32m│\u001b[0m  \u001b[37m\"stage_label\": \"Late-stage startup\", \"confidence\": 0.82},\u001b[0m                                                      \u001b[32m│\u001b[0m\n",
       "\u001b[32m│\u001b[0m  \u001b[37m  {\"rank\": 10, \"company\": \"Marqeta, Inc.\", \"sub_industry\": \"Fintech Infrastructure & Platform Tech\", \u001b[0m          \u001b[32m│\u001b[0m\n",
       "\u001b[32m│\u001b[0m  \u001b[37m\"stage_label\": \"Mid-stage startup\", \"confidence\": 0.80},\u001b[0m                                                       \u001b[32m│\u001b[0m\n",
       "\u001b[32m│\u001b[0m  \u001b[37m  {\"rank\": 11, \"company\": \"SoFi Technologies, Inc.\", \"sub_industry\": \"Digital Banking & Challenger Banks\", \u001b[0m    \u001b[32m│\u001b[0m\n",
       "\u001b[32m│\u001b[0m  \u001b[37m\"stage_label\": \"Big Tech\", \"confidence\": 0.84},\u001b[0m                                                                \u001b[32m│\u001b[0m\n",
       "\u001b[32m│\u001b[0m  \u001b[37m  {\"rank\": 12, \"company\": \"Upstart Holdings, Inc.\", \"sub_industry\": \"Lending (Consumer & SME)\", \u001b[0m               \u001b[32m│\u001b[0m\n",
       "\u001b[32m│\u001b[0m  \u001b[37m\"stage_label\": \"Late-stage startup\", \"confidence\": 0.83},\u001b[0m                                                      \u001b[32m│\u001b[0m\n",
       "\u001b[32m│\u001b[0m  \u001b[37m  {\"rank\": 13, \"company\": \"Affirm Holdings, Inc.\", \"sub_industry\": \"BNPL (Buy Now, Pay Later)\", \u001b[0m               \u001b[32m│\u001b[0m\n",
       "\u001b[32m│\u001b[0m  \u001b[37m\"stage_label\": \"Late-stage startup\", \"confidence\": 0.78},\u001b[0m                                                      \u001b[32m│\u001b[0m\n",
       "\u001b[32m│\u001b[0m  \u001b[37m  {\"rank\": 14, \"company\": \"LendingClub Corporation\", \"sub_industry\": \"Lending (Consumer & SME)\", \u001b[0m              \u001b[32m│\u001b[0m\n",
       "\u001b[32m│\u001b[0m  \u001b[37m\"stage_label\": \"Late-stage startup\", \"confidence\": 0.75},\u001b[0m                                                      \u001b[32m│\u001b[0m\n",
       "\u001b[32m│\u001b[0m  \u001b[37m  {\"rank\": 15, \"company\": \"Robinhood Markets, Inc.\", \"sub_industry\": \"WealthTech & Robo-Advisory\", \u001b[0m            \u001b[32m│\u001b[0m\n",
       "\u001b[32m│\u001b[0m  \u001b[37m\"stage_label\": \"Late-stage startup\", \"confidence\": 0.77},\u001b[0m                                                      \u001b[32m│\u001b[0m\n",
       "\u001b[32m│\u001b[0m  \u001b[37m  {\"rank\": 16, \"company\": \"Lemonade, Inc.\", \"sub_industry\": \"Insurtech\", \"stage_label\": \"Mid-stage startup\", \u001b[0m  \u001b[32m│\u001b[0m\n",
       "\u001b[32m│\u001b[0m  \u001b[37m\"confidence\": 0.70},\u001b[0m                                                                                           \u001b[32m│\u001b[0m\n",
       "\u001b[32m│\u001b[0m  \u001b[37m  {\"rank\": 17, \"company\": \"Toast, Inc.\", \"sub_industry\": \"Payments & Payment Processing\", \"stage_label\": \u001b[0m      \u001b[32m│\u001b[0m\n",
       "\u001b[32m│\u001b[0m  \u001b[37m\"Late-stage startup\", \"confidence\": 0.70},\u001b[0m                                                                     \u001b[32m│\u001b[0m\n",
       "\u001b[32m│\u001b[0m  \u001b[37m  {\"rank\": 18, \"company\": \"Mercury Bank (Mercury Financial)\", \"sub_industry\": \"Digital Banking & Challenger \u001b[0m   \u001b[32m│\u001b[0m\n",
       "\u001b[32m│\u001b[0m  \u001b[37mBanks\", \"stage_label\": \"Early-stage startup\", \"confidence\": 0.65},\u001b[0m                                             \u001b[32m│\u001b[0m\n",
       "\u001b[32m│\u001b[0m  \u001b[37m  {\"rank\": 19, \"company\": \"MoneyLion, Inc.\", \"sub_industry\": \"Digital Banking & Challenger Banks\", \u001b[0m            \u001b[32m│\u001b[0m\n",
       "\u001b[32m│\u001b[0m  \u001b[37m\"stage_label\": \"Early-stage startup\", \"confidence\": 0.63},\u001b[0m                                                     \u001b[32m│\u001b[0m\n",
       "\u001b[32m│\u001b[0m  \u001b[37m  {\"rank\": 20, \"company\": \"Acorns Grow, LLC\", \"sub_industry\": \"WealthTech & Robo-Advisory\", \"stage_label\": \u001b[0m    \u001b[32m│\u001b[0m\n",
       "\u001b[32m│\u001b[0m  \u001b[37m\"Early-stage startup\", \"confidence\": 0.60},\u001b[0m                                                                    \u001b[32m│\u001b[0m\n",
       "\u001b[32m│\u001b[0m  \u001b[37m  {\"rank\": 21, \"company\": \"Better.com\", \"sub_industry\": \"Digital Banking & Challenger Banks\", \"stage_label\": \u001b[0m  \u001b[32m│\u001b[0m\n",
       "\u001b[32m│\u001b[0m  \u001b[37m\"Early-stage startup\", \"confidence\": 0.60},\u001b[0m                                                                    \u001b[32m│\u001b[0m\n",
       "\u001b[32m│\u001b[0m  \u001b[37m  {\"rank\": 22, \"company\": \"Current, Inc.\", \"sub_industry\": \"Digital Banking & Challenger Banks\", \u001b[0m              \u001b[32m│\u001b[0m\n",
       "\u001b[32m│\u001b[0m  \u001b[37m\"stage_label\": \"Early-stage startup\", \"confidence\": 0.63},\u001b[0m                                                     \u001b[32m│\u001b[0m\n",
       "\u001b[32m│\u001b[0m  \u001b[37m  {\"rank\": 23, \"company\": \"M1 Finance, LLC\", \"sub_industry\": \"WealthTech & Robo-Advisory\", \"stage_label\": \u001b[0m     \u001b[32m│\u001b[0m\n",
       "\u001b[32m│\u001b[0m  \u001b[37m\"Early-stage startup\", \"confidence\": 0.60},\u001b[0m                                                                    \u001b[32m│\u001b[0m\n",
       "\u001b[32m│\u001b[0m  \u001b[37m  {\"rank\": 24, \"company\": \"Chime Financial, Inc.\", \"sub_industry\": \"Digital Banking & Challenger Banks\", \u001b[0m      \u001b[32m│\u001b[0m\n",
       "\u001b[32m│\u001b[0m  \u001b[37m\"stage_label\": \"Early-stage startup\", \"confidence\": 0.58},\u001b[0m                                                     \u001b[32m│\u001b[0m\n",
       "\u001b[32m│\u001b[0m  \u001b[37m  {\"rank\": 25, \"company\": \"Payoneer Global Inc.\", \"sub_industry\": \"Payments & Payment Processing\", \u001b[0m            \u001b[32m│\u001b[0m\n",
       "\u001b[32m│\u001b[0m  \u001b[37m\"stage_label\": \"Early-stage startup\", \"confidence\": 0.50}\u001b[0m                                                      \u001b[32m│\u001b[0m\n",
       "\u001b[32m│\u001b[0m  \u001b[37m]\u001b[0m                                                                                                              \u001b[32m│\u001b[0m\n",
       "\u001b[32m│\u001b[0m                                                                                                                 \u001b[32m│\u001b[0m\n",
       "\u001b[32m│\u001b[0m  \u001b[37mMethod note: I used a simple blend of scale (employees/revenue), traction/market share, funding stage, and \u001b[0m    \u001b[32m│\u001b[0m\n",
       "\u001b[32m│\u001b[0m  \u001b[37mmindshare as a rough industry-wide score, with ties broken by confidence and data recency.\u001b[0m                     \u001b[32m│\u001b[0m\n",
       "\u001b[32m│\u001b[0m                                                                                                                 \u001b[32m│\u001b[0m\n",
       "\u001b[32m│\u001b[0m  \u001b[37mMarkdown table:\u001b[0m                                                                                                \u001b[32m│\u001b[0m\n",
       "\u001b[32m│\u001b[0m  \u001b[37m| Rank | Company | Sub-industry | Stage | Confidence |\u001b[0m                                                         \u001b[32m│\u001b[0m\n",
       "\u001b[32m│\u001b[0m  \u001b[37m|---|---|---|---|---|\u001b[0m                                                                                          \u001b[32m│\u001b[0m\n",
       "\u001b[32m│\u001b[0m  \u001b[37m| 1 | PayPal Holdings, Inc. | Payments & Payment Processing | Big Tech | 0.92 |\u001b[0m                                \u001b[32m│\u001b[0m\n",
       "\u001b[32m│\u001b[0m  \u001b[37m| 2 | Block, Inc. | Payments & Payment Processing | Big Tech | 0.90 |\u001b[0m                                          \u001b[32m│\u001b[0m\n",
       "\u001b[32m│\u001b[0m  \u001b[37m| 3 | Coinbase Global, Inc. | Payments & Payment Processing | Big Tech | 0.88 |\u001b[0m                                \u001b[32m│\u001b[0m\n",
       "\u001b[32m│\u001b[0m  \u001b[37m| 4 | Intuit Inc. | Payments & Payment Processing | Big Tech | 0.85 |\u001b[0m                                          \u001b[32m│\u001b[0m\n",
       "\u001b[32m│\u001b[0m  \u001b[37m| 5 | Global Payments Inc. | Payments & Payment Processing | Big Tech | 0.85 |\u001b[0m                                 \u001b[32m│\u001b[0m\n",
       "\u001b[32m│\u001b[0m  \u001b[37m| 6 | Fiserv, Inc. | Payments & Payment Processing | Big Tech | 0.84 |\u001b[0m                                         \u001b[32m│\u001b[0m\n",
       "\u001b[32m│\u001b[0m  \u001b[37m| 7 | Stripe | Fintech Infrastructure & Platform Tech | Late-stage startup | 0.86 |\u001b[0m                            \u001b[32m│\u001b[0m\n",
       "\u001b[32m│\u001b[0m  \u001b[37m| 8 | Bill.com Holdings, Inc. | Fintech Infrastructure & Platform Tech | Big Tech | 0.82 |\u001b[0m                     \u001b[32m│\u001b[0m\n",
       "\u001b[32m│\u001b[0m  \u001b[37m| 9 | Brex, Inc. | Fintech Infrastructure & Platform Tech | Late-stage startup | 0.82 |\u001b[0m                        \u001b[32m│\u001b[0m\n",
       "\u001b[32m│\u001b[0m  \u001b[37m| 10 | Marqeta, Inc. | Fintech Infrastructure & Platform Tech | Mid-stage startup | 0.80 |\u001b[0m                     \u001b[32m│\u001b[0m\n",
       "\u001b[32m│\u001b[0m  \u001b[37m| 11 | SoFi Technologies, Inc. | Digital Banking & Challenger Banks | Big Tech | 0.84 |\u001b[0m                        \u001b[32m│\u001b[0m\n",
       "\u001b[32m│\u001b[0m  \u001b[37m| 12 | Upstart Holdings, Inc. | Lending (Consumer & SME) | Late-stage startup | 0.83 |\u001b[0m                         \u001b[32m│\u001b[0m\n",
       "\u001b[32m│\u001b[0m  \u001b[37m| 13 | Affirm Holdings, Inc. | BNPL (Buy Now, Pay Later) | Late-stage startup | 0.78 |\u001b[0m                         \u001b[32m│\u001b[0m\n",
       "\u001b[32m│\u001b[0m  \u001b[37m| 14 | LendingClub Corporation | Lending (Consumer & SME) | Late-stage startup | 0.75 |\u001b[0m                        \u001b[32m│\u001b[0m\n",
       "\u001b[32m│\u001b[0m  \u001b[37m| 15 | Robinhood Markets, Inc. | WealthTech & Robo-Advisory | Late-stage startup | 0.77 |\u001b[0m                      \u001b[32m│\u001b[0m\n",
       "\u001b[32m│\u001b[0m  \u001b[37m| 16 | Lemonade, Inc. | Insurtech | Mid-stage startup | 0.70 |\u001b[0m                                                 \u001b[32m│\u001b[0m\n",
       "\u001b[32m│\u001b[0m  \u001b[37m| 17 | Toast, Inc. | Payments & Payment Processing | Late-stage startup | 0.70 |\u001b[0m                               \u001b[32m│\u001b[0m\n",
       "\u001b[32m│\u001b[0m  \u001b[37m| 18 | Mercury Bank (Mercury Financial) | Digital Banking & Challenger Banks | Early-stage startup | 0.65 |\u001b[0m    \u001b[32m│\u001b[0m\n",
       "\u001b[32m│\u001b[0m  \u001b[37m| 19 | MoneyLion, Inc. | Digital Banking & Challenger Banks | Early-stage startup | 0.63 |\u001b[0m                     \u001b[32m│\u001b[0m\n",
       "\u001b[32m│\u001b[0m  \u001b[37m| 20 | Acorns Grow, LLC | WealthTech & Robo-Advisory | Early-stage startup | 0.60 |\u001b[0m                            \u001b[32m│\u001b[0m\n",
       "\u001b[32m│\u001b[0m  \u001b[37m| 21 | Better.com | Digital Banking & Challenger Banks | Early-stage startup | 0.60 |\u001b[0m                          \u001b[32m│\u001b[0m\n",
       "\u001b[32m│\u001b[0m  \u001b[37m| 22 | Current, Inc. | Digital Banking & Challenger Banks | Early-stage startup | 0.63 |\u001b[0m                       \u001b[32m│\u001b[0m\n",
       "\u001b[32m│\u001b[0m  \u001b[37m| 23 | M1 Finance, LLC | WealthTech & Robo-Advisory | Early-stage startup | 0.60 |\u001b[0m                             \u001b[32m│\u001b[0m\n",
       "\u001b[32m│\u001b[0m  \u001b[37m| 24 | Chime Financial, Inc. | Digital Banking & Challenger Banks | Early-stage startup | 0.58 |\u001b[0m               \u001b[32m│\u001b[0m\n",
       "\u001b[32m│\u001b[0m  \u001b[37m| 25 | Payoneer Global Inc. | Payments & Payment Processing | Early-stage startup | 0.50 |\u001b[0m                     \u001b[32m│\u001b[0m\n",
       "\u001b[32m│\u001b[0m                                                                                                                 \u001b[32m│\u001b[0m\n",
       "\u001b[32m│\u001b[0m                                                                                                                 \u001b[32m│\u001b[0m\n",
       "\u001b[32m╰─────────────────────────────────────────────────────────────────────────────────────────────────────────────────╯\u001b[0m\n"
      ]
     },
     "metadata": {},
     "output_type": "display_data"
    },
    {
     "data": {
      "text/html": [
       "<pre style=\"white-space:pre;overflow-x:auto;line-height:normal;font-family:Menlo,'DejaVu Sans Mono',consolas,'Courier New',monospace\">\n",
       "</pre>\n"
      ],
      "text/plain": [
       "\n"
      ]
     },
     "metadata": {},
     "output_type": "display_data"
    },
    {
     "name": "stdout",
     "output_type": "stream",
     "text": [
      "Research completed successfully!\n",
      "[\n",
      "  {\"rank\": 1, \"company\": \"PayPal Holdings, Inc.\", \"sub_industry\": \"Payments & Payment Processing\", \"stage_label\": \"Big Tech\", \"confidence\": 0.92},\n",
      "  {\"rank\": 2, \"company\": \"Block, Inc.\", \"sub_industry\": \"Payments & Payment Processing\", \"stage_label\": \"Big Tech\", \"confidence\": 0.90},\n",
      "  {\"rank\": 3, \"company\": \"Coinbase Global, Inc.\", \"sub_industry\": \"Payments & Payment Processing\", \"stage_label\": \"Big Tech\", \"confidence\": 0.88},\n",
      "  {\"rank\": 4, \"company\": \"Intuit Inc.\", \"sub_industry\": \"Payments & Payment Processing\", \"stage_label\": \"Big Tech\", \"confidence\": 0.85},\n",
      "  {\"rank\": 5, \"company\": \"Global Payments Inc.\", \"sub_industry\": \"Payments & Payment Processing\", \"stage_label\": \"Big Tech\", \"confidence\": 0.85},\n",
      "  {\"rank\": 6, \"company\": \"Fiserv, Inc.\", \"sub_industry\": \"Payments & Payment Processing\", \"stage_label\": \"Big Tech\", \"confidence\": 0.84},\n",
      "  {\"rank\": 7, \"company\": \"Stripe\", \"sub_industry\": \"Fintech Infrastructure & Platform Tech\", \"stage_label\": \"Late-stage startup\", \"confidence\": 0.86},\n",
      "  {\"rank\": 8, \"company\": \"Bill.com Holdings, Inc.\", \"sub_industry\": \"Fintech Infrastructure & Platform Tech\", \"stage_label\": \"Big Tech\", \"confidence\": 0.82},\n",
      "  {\"rank\": 9, \"company\": \"Brex, Inc.\", \"sub_industry\": \"Fintech Infrastructure & Platform Tech\", \"stage_label\": \"Late-stage startup\", \"confidence\": 0.82},\n",
      "  {\"rank\": 10, \"company\": \"Marqeta, Inc.\", \"sub_industry\": \"Fintech Infrastructure & Platform Tech\", \"stage_label\": \"Mid-stage startup\", \"confidence\": 0.80},\n",
      "  {\"rank\": 11, \"company\": \"SoFi Technologies, Inc.\", \"sub_industry\": \"Digital Banking & Challenger Banks\", \"stage_label\": \"Big Tech\", \"confidence\": 0.84},\n",
      "  {\"rank\": 12, \"company\": \"Upstart Holdings, Inc.\", \"sub_industry\": \"Lending (Consumer & SME)\", \"stage_label\": \"Late-stage startup\", \"confidence\": 0.83},\n",
      "  {\"rank\": 13, \"company\": \"Affirm Holdings, Inc.\", \"sub_industry\": \"BNPL (Buy Now, Pay Later)\", \"stage_label\": \"Late-stage startup\", \"confidence\": 0.78},\n",
      "  {\"rank\": 14, \"company\": \"LendingClub Corporation\", \"sub_industry\": \"Lending (Consumer & SME)\", \"stage_label\": \"Late-stage startup\", \"confidence\": 0.75},\n",
      "  {\"rank\": 15, \"company\": \"Robinhood Markets, Inc.\", \"sub_industry\": \"WealthTech & Robo-Advisory\", \"stage_label\": \"Late-stage startup\", \"confidence\": 0.77},\n",
      "  {\"rank\": 16, \"company\": \"Lemonade, Inc.\", \"sub_industry\": \"Insurtech\", \"stage_label\": \"Mid-stage startup\", \"confidence\": 0.70},\n",
      "  {\"rank\": 17, \"company\": \"Toast, Inc.\", \"sub_industry\": \"Payments & Payment Processing\", \"stage_label\": \"Late-stage startup\", \"confidence\": 0.70},\n",
      "  {\"rank\": 18, \"company\": \"Mercury Bank (Mercury Financial)\", \"sub_industry\": \"Digital Banking & Challenger Banks\", \"stage_label\": \"Early-stage startup\", \"confidence\": 0.65},\n",
      "  {\"rank\": 19, \"company\": \"MoneyLion, Inc.\", \"sub_industry\": \"Digital Banking & Challenger Banks\", \"stage_label\": \"Early-stage startup\", \"confidence\": 0.63},\n",
      "  {\"rank\": 20, \"company\": \"Acorns Grow, LLC\", \"sub_industry\": \"WealthTech & Robo-Advisory\", \"stage_label\": \"Early-stage startup\", \"confidence\": 0.60},\n",
      "  {\"rank\": 21, \"company\": \"Better.com\", \"sub_industry\": \"Digital Banking & Challenger Banks\", \"stage_label\": \"Early-stage startup\", \"confidence\": 0.60},\n",
      "  {\"rank\": 22, \"company\": \"Current, Inc.\", \"sub_industry\": \"Digital Banking & Challenger Banks\", \"stage_label\": \"Early-stage startup\", \"confidence\": 0.63},\n",
      "  {\"rank\": 23, \"company\": \"M1 Finance, LLC\", \"sub_industry\": \"WealthTech & Robo-Advisory\", \"stage_label\": \"Early-stage startup\", \"confidence\": 0.60},\n",
      "  {\"rank\": 24, \"company\": \"Chime Financial, Inc.\", \"sub_industry\": \"Digital Banking & Challenger Banks\", \"stage_label\": \"Early-stage startup\", \"confidence\": 0.58},\n",
      "  {\"rank\": 25, \"company\": \"Payoneer Global Inc.\", \"sub_industry\": \"Payments & Payment Processing\", \"stage_label\": \"Early-stage startup\", \"confidence\": 0.50}\n",
      "]\n",
      "\n",
      "Method note: I used a simple blend of scale (employees/revenue), traction/market share, funding stage, and mindshare as a rough industry-wide score, with ties broken by confidence and data recency.\n",
      "\n",
      "Markdown table:\n",
      "| Rank | Company | Sub-industry | Stage | Confidence |\n",
      "|---|---|---|---|---|\n",
      "| 1 | PayPal Holdings, Inc. | Payments & Payment Processing | Big Tech | 0.92 |\n",
      "| 2 | Block, Inc. | Payments & Payment Processing | Big Tech | 0.90 |\n",
      "| 3 | Coinbase Global, Inc. | Payments & Payment Processing | Big Tech | 0.88 |\n",
      "| 4 | Intuit Inc. | Payments & Payment Processing | Big Tech | 0.85 |\n",
      "| 5 | Global Payments Inc. | Payments & Payment Processing | Big Tech | 0.85 |\n",
      "| 6 | Fiserv, Inc. | Payments & Payment Processing | Big Tech | 0.84 |\n",
      "| 7 | Stripe | Fintech Infrastructure & Platform Tech | Late-stage startup | 0.86 |\n",
      "| 8 | Bill.com Holdings, Inc. | Fintech Infrastructure & Platform Tech | Big Tech | 0.82 |\n",
      "| 9 | Brex, Inc. | Fintech Infrastructure & Platform Tech | Late-stage startup | 0.82 |\n",
      "| 10 | Marqeta, Inc. | Fintech Infrastructure & Platform Tech | Mid-stage startup | 0.80 |\n",
      "| 11 | SoFi Technologies, Inc. | Digital Banking & Challenger Banks | Big Tech | 0.84 |\n",
      "| 12 | Upstart Holdings, Inc. | Lending (Consumer & SME) | Late-stage startup | 0.83 |\n",
      "| 13 | Affirm Holdings, Inc. | BNPL (Buy Now, Pay Later) | Late-stage startup | 0.78 |\n",
      "| 14 | LendingClub Corporation | Lending (Consumer & SME) | Late-stage startup | 0.75 |\n",
      "| 15 | Robinhood Markets, Inc. | WealthTech & Robo-Advisory | Late-stage startup | 0.77 |\n",
      "| 16 | Lemonade, Inc. | Insurtech | Mid-stage startup | 0.70 |\n",
      "| 17 | Toast, Inc. | Payments & Payment Processing | Late-stage startup | 0.70 |\n",
      "| 18 | Mercury Bank (Mercury Financial) | Digital Banking & Challenger Banks | Early-stage startup | 0.65 |\n",
      "| 19 | MoneyLion, Inc. | Digital Banking & Challenger Banks | Early-stage startup | 0.63 |\n",
      "| 20 | Acorns Grow, LLC | WealthTech & Robo-Advisory | Early-stage startup | 0.60 |\n",
      "| 21 | Better.com | Digital Banking & Challenger Banks | Early-stage startup | 0.60 |\n",
      "| 22 | Current, Inc. | Digital Banking & Challenger Banks | Early-stage startup | 0.63 |\n",
      "| 23 | M1 Finance, LLC | WealthTech & Robo-Advisory | Early-stage startup | 0.60 |\n",
      "| 24 | Chime Financial, Inc. | Digital Banking & Challenger Banks | Early-stage startup | 0.58 |\n",
      "| 25 | Payoneer Global Inc. | Payments & Payment Processing | Early-stage startup | 0.50 |\n"
     ]
    }
   ],
   "source": [
    "# Example of how you might kick it off at runtime:\n",
    "import signal\n",
    "import time\n",
    "\n",
    "def timeout_handler(signum, frame):\n",
    "    raise TimeoutError(\"CrewAI execution timed out after 10 minutes\")\n",
    "\n",
    "# Set a 10-minute timeout\n",
    "signal.signal(signal.SIGALRM, timeout_handler)\n",
    "signal.alarm(600)  # 10 minutes\n",
    "\n",
    "try:\n",
    "    print(f\"Starting research for {industry} in {region} over {time_window}...\")\n",
    "    print(\"This may take several minutes. Please be patient...\")\n",
    "    \n",
    "    result = crew.kickoff(\n",
    "         inputs={\n",
    "             \"industry\": industry,\n",
    "             \"region\": region,\n",
    "             \"time_window\": time_window,\n",
    "         }\n",
    "     )\n",
    "    print(\"Research completed successfully!\")\n",
    "    print(result)\n",
    "    \n",
    "except TimeoutError:\n",
    "    print(\"Research timed out after 10 minutes. Try reducing the scope or simplifying the tasks.\")\n",
    "except Exception as e:\n",
    "    print(f\"An error occurred: {e}\")\n",
    "finally:\n",
    "    signal.alarm(0)  # Cancel the alarm"
   ]
  }
 ],
 "metadata": {
  "kernelspec": {
   "display_name": "base",
   "language": "python",
   "name": "python3"
  },
  "language_info": {
   "codemirror_mode": {
    "name": "ipython",
    "version": 3
   },
   "file_extension": ".py",
   "mimetype": "text/x-python",
   "name": "python",
   "nbconvert_exporter": "python",
   "pygments_lexer": "ipython3",
   "version": "3.11.0"
  }
 },
 "nbformat": 4,
 "nbformat_minor": 5
}
