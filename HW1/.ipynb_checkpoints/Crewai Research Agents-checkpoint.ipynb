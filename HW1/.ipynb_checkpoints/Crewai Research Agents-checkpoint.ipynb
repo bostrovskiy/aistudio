{
 "cells": [
  {
   "cell_type": "code",
   "execution_count": 10,
   "id": "fb68caac-9786-4432-b41c-27a8fb2b0de8",
   "metadata": {},
   "outputs": [],
   "source": [
    "# Warning control\n",
    "import warnings\n",
    "warnings.filterwarnings('ignore')"
   ]
  },
  {
   "cell_type": "code",
   "execution_count": 11,
   "id": "ff9eda03",
   "metadata": {},
   "outputs": [],
   "source": [
    "from crewai import Agent, Task, Crew"
   ]
  },
  {
   "cell_type": "code",
   "execution_count": 12,
   "id": "cb82554a",
   "metadata": {},
   "outputs": [],
   "source": [
    "import os\n",
    "from utils import get_openai_api_key, pretty_print_result\n",
    "from utils import get_serper_api_key\n",
    "\n",
    "openai_api_key = get_openai_api_key()\n",
    "os.environ[\"OPENAI_MODEL_NAME\"] = 'gpt-4o'\n",
    "os.environ[\"SERPER_API_KEY\"] = get_serper_api_key()"
   ]
  },
  {
   "cell_type": "code",
   "execution_count": null,
   "id": "8730ab50",
   "metadata": {},
   "outputs": [],
   "source": [
    "# -----------------------------\n",
    "# Config - tweak to taste\n",
    "# -----------------------------\n",
    "TOP_N_OVERALL = 20  # set to 10 if you want a top-10 instead\n",
    "MIN_SIGNAL_SOURCES = 2  # require at least this many sources per company\n",
    "DEFAULT_REGION = \"{region}\"  # e.g., \"US & Europe\" - can be overridden at runtime\n",
    "DEFAULT_TIME_WINDOW = \"{time_window}\"  # e.g., \"last 24 months\" - can be overridden\n",
    "INDUSTRY = \"{industry}\"  # required input\n",
    "\n",
    "CLASSIFICATION_RUBRIC = \"\"\"\n",
    "Stage labels:\n",
    "- Big Tech: public, multi-product tech platform or incumbent with either ≥10k employees or ≥10B market cap or clear category dominance.\n",
    "- Late-stage startup: Series D+ or valuation ≥1B, or ≥500 employees, or estimated revenue ≥100M.\n",
    "- Mid-stage startup: Series B–C, 100–499 employees, valuation ~100M–1B, or revenue ~10–100M.\n",
    "- Early-stage startup: Pre-seed–Series A, <100 employees, or revenue <10M.\n",
    "Signal priority when conflict appears: funding stage, then employee count, then valuation, then revenue. Always return a confidence score.\n",
    "Hard caps: output is a single ranked list of at most TOP_N_OVERALL companies overall. Do not exceed the cap.\n",
    "\"\"\"\n",
    "\n",
    "OUTPUT_SCHEMA_GUIDE = \"\"\"\n",
    "Final JSON array item shape:\n",
    "{{\n",
    "  \"rank\": <int 1..TOP_N_OVERALL>,\n",
    "  \"company\": \"<canonical company name>\",\n",
    "  \"sub_industry\": \"<one of the mapped sub-industries>\",\n",
    "  \"stage_label\": \"<Big Tech | Late-stage startup | Mid-stage startup | Early-stage startup>\",\n",
    "  \"why_it_matters\": \"<one crisp sentence>\",\n",
    "  \"key_signals\": {{\n",
    "    \"funding_stage_or_round\": \"<text or null>\",\n",
    "    \"employees\": \"<int or null>\",\n",
    "    \"valuation_or_revenue\": \"<text or null>\",\n",
    "    \"notable_products_or_share\": \"<text or null>\"\n",
    "  }},\n",
    "  \"confidence\": \"<0.0-1.0>\",\n",
    "  \"sources\": [\"<url1>\", \"<url2>\", \"...\"]  # at least MIN_SIGNAL_SOURCES items\n",
    "}}\n",
    "Provide the final JSON and also a short, human-friendly Markdown table with the same rows.\n",
    "\"\"\""
   ]
  },
  {
   "cell_type": "code",
   "execution_count": 14,
   "id": "f77844ba",
   "metadata": {},
   "outputs": [],
   "source": [
    "industry_taxonomist = Agent(\n",
    "    role=\"Industry Taxonomist\",\n",
    "    goal=(\n",
    "        \"Turn the input industry into a crisp, research-ready scope with a clean sub-industry map, \"\n",
    "        \"inclusion-exclusion rules, synonyms, and search guidance so downstream research stays focused.\"\n",
    "    ),\n",
    "    backstory=(\n",
    "        \"You are a former strategy consultant turned data taxonomist. You dislike vague scopes and \"\n",
    "        \"imprecise buckets. You write tight, unambiguous definitions and choose pragmatic sub-industries \"\n",
    "        \"that reflect how the market actually organizes itself. You capture common aliases so search is robust. \"\n",
    "        \"You set guardrails for region and time window and explicitly note what is out of scope.\"\n",
    "    ),\n",
    ")"
   ]
  },
  {
   "cell_type": "code",
   "execution_count": 15,
   "id": "d3b9b522",
   "metadata": {},
   "outputs": [],
   "source": [
    "research_analyst = Agent(\n",
    "    role=\"Research Analyst\",\n",
    "    goal=(\n",
    "        \"Find and enrich the most important companies in the mapped sub-industries using credible, current sources, \"\n",
    "        \"then assemble a clean candidate table with signals needed for stage classification and ranking.\"\n",
    "    ),\n",
    "    backstory=(\n",
    "        \"You are a meticulous OSINT-oriented analyst. You prefer primary and reputable sources: public filings, \"\n",
    "        \"S-1s, investor reports, funding databases, company pages, trusted tech media, and recent industry maps. \"\n",
    "        \"You reconcile conflicting facts and always keep source URLs. You avoid fluff and discard low-credibility sources.\"\n",
    "    ),\n",
    ")"
   ]
  },
  {
   "cell_type": "code",
   "execution_count": 16,
   "id": "b86b283f",
   "metadata": {},
   "outputs": [],
   "source": [
    "classifier_ranker = Agent(\n",
    "    role=\"Stage Classifier and Ranker\",\n",
    "    goal=(\n",
    "        \"Apply the rubric precisely, assign stage labels with confidence scores, rank companies across the whole industry, \"\n",
    "        \"enforce the hard cap of TOP_N_OVERALL, and produce the final JSON plus a compact Markdown table.\"\n",
    "    ),\n",
    "    backstory=(\n",
    "        \"You are a former VC analyst and product manager. You are pragmatic about imperfect data, explain your choices, \"\n",
    "        \"and keep results scannable. You do light QA: dedupe entities, fix parent vs product mixups, check that each row \"\n",
    "        \"has enough sources, and ensure no more than TOP_N_OVERALL items make it to the final list.\"\n",
    "    ),\n",
    ")"
   ]
  },
  {
   "cell_type": "code",
   "execution_count": 17,
   "id": "6d8361db",
   "metadata": {},
   "outputs": [],
   "source": [
    "map_subindustries = Task(\n",
    "    description=(\n",
    "        \"Build a practical sub-industry map for {industry}. \"\n",
    "        \"Output a brief scope note and a list of 6-12 sub-industries max. \"\n",
    "        \"For each sub-industry, include: 1-line definition, common aliases, and inclusion-exclusion notes.\\n\\n\"\n",
    "        f\"Region default: {DEFAULT_REGION}\\n\"\n",
    "        f\"Time window: {DEFAULT_TIME_WINDOW}\\n\\n\"\n",
    "        \"Rules:\\n\"\n",
    "        \"- Use real-market groupings that practitioners recognize.\\n\"\n",
    "        \"- Keep names short and unambiguous.\\n\"\n",
    "        \"- Note key overlaps and what to exclude to avoid double counting.\\n\"\n",
    "        \"- This map will drive research and tagging for the final list.\\n\"\n",
    "        \"- Do not list any companies yet.\\n\"\n",
    "    ),\n",
    "    expected_output=(\n",
    "        \"A JSON object with:\\n\"\n",
    "        \"{\\n\"\n",
    "        '  \"industry\": \"<input>\",\\n'\n",
    "        '  \"scope_note\": \"<2-4 sentences>\",\\n'\n",
    "        '  \"sub_industries\": [\\n'\n",
    "        '    {\"name\": \"<name>\", \"definition\": \"<one line>\", \"aliases\": [\"a\",\"b\"], \"include\": \"<short>\", \"exclude\": \"<short>\"}\\n'\n",
    "        \"  ]\\n\"\n",
    "        \"}\\n\"\n",
    "        \"Plus a short Markdown list rendering the sub-industries.\"\n",
    "    ),\n",
    "    agent=industry_taxonomist,\n",
    ")"
   ]
  },
  {
   "cell_type": "code",
   "execution_count": 20,
   "id": "ab1f401b",
   "metadata": {},
   "outputs": [],
   "source": [
    "mine_companies = Task(\n",
    "    description=(\n",
    "        \"Using the sub-industry map produced earlier, research the most important companies in each sub-industry of {industry}. \"\n",
    "        \"Collect signals required for stage classification and ranking. Bias toward current scale and impact in the specified region and time window.\\n\\n\"\n",
    "        \"What to capture per company:\\n\"\n",
    "        \"- Canonical name and homepage URL\\n\"\n",
    "        \"- Sub-industry tag from the map\\n\"\n",
    "        \"- One-line description and notable products\\n\"\n",
    "        \"- Funding stage or latest round, employees, valuation or revenue if available\\n\"\n",
    "        \"- At least {min_sources} credible sources with URLs and last-updated dates\\n\\n\"\n",
    "        \"Quality rules:\\n\"\n",
    "        \"- Prefer primary sources and recent data. Avoid low-credibility blogs.\\n\"\n",
    "        \"- Reconcile conflicting facts. Note uncertainty briefly if needed.\\n\"\n",
    "        \"- Remove duplicates and product-level entries if a parent company is the actual entity.\\n\"\n",
    "        \"- It is fine to collect more than {top_n} candidates at this stage, but keep it tight and relevant.\\n\"\n",
    "    ).format(industry=\"{industry}\", min_sources=MIN_SIGNAL_SOURCES, top_n=TOP_N_OVERALL),\n",
    "    expected_output=(\n",
    "        \"A JSON array named `candidates` where each item includes:\\n\"\n",
    "        \"{\\n\"\n",
    "        '  \"company\": \"<name>\", \"url\": \"<homepage>\", \"sub_industry\": \"<from map>\",\\n'\n",
    "        '  \"description\": \"<one line>\",\\n'\n",
    "        '  \"signals\": {\"funding_stage_or_round\":\"<text>\", \"employees\":\"<int or null>\", \"valuation_or_revenue\":\"<text or null>\", \"notable_products_or_share\":\"<text or null>\"},\\n'\n",
    "        '  \"sources\": [{\"url\":\"<url>\", \"last_updated\":\"<YYYY-MM or YYYY-MM-DD>\", \"why_trustworthy\":\"<short>\"}]\\n'\n",
    "        \"}\\n\"\n",
    "        \"Deliver as JSON plus a compact Markdown table for a quick skim.\"\n",
    "    ),\n",
    "    agent=research_analyst,\n",
    ")"
   ]
  },
  {
   "cell_type": "code",
   "execution_count": 28,
   "id": "57df3475",
   "metadata": {},
   "outputs": [],
   "source": [
    "classify_and_rank = Task(\n",
    "    description=(\n",
    "        \"Take the candidate companies and produce the single ranked list for {industry}. \"\n",
    "        \"Apply the classification rubric and output at most \" + str(TOP_N_OVERALL) + \" rows overall. \"\n",
    "        \"Each row must include a stage label and a confidence score.\\n\\n\"\n",
    "        \"Do the following in order:\\n\"\n",
    "        \"1) Canonicalize and dedupe entities. Fix parent vs product labeling.\\n\"\n",
    "        \"2) Assign stage_label using the rubric below. Use available signals. If signals conflict, use the priority order.\\n\"\n",
    "        \"3) Score importance across the whole industry with a simple blend: scale (employees or revenue), traction or market share, funding stage, and mindshare. \"\n",
    "        \"   Break ties by confidence and data recency. Keep the method simple and explain it in one sentence.\\n\"\n",
    "        \"4) Enforce hard cap of \" + str(TOP_N_OVERALL) + \". Do not exceed it under any circumstance.\\n\"\n",
    "        \"5) QA pass: each company must have at least \" + str(MIN_SIGNAL_SOURCES) + \" credible sources. Remove rows that do not meet the bar.\\n\"\n",
    "        \"6) Produce final JSON and a short Markdown table.\\n\\n\"\n",
    "        \"Classification rubric:\\n\"\n",
    "        + CLASSIFICATION_RUBRIC + \"\\n\\n\"\n",
    "        \"Output format guide:\\n\"\n",
    "        + OUTPUT_SCHEMA_GUIDE + \"\\n\"\n",
    "    ),\n",
    "    expected_output=(\n",
    "        \"Two parts:\\n\"\n",
    "        \"1) Final JSON array named `top_list` with at most TOP_N_OVERALL items matching the schema guide.\\n\"\n",
    "        \"2) A concise Markdown table with columns: Rank, Company, Sub-industry, Stage, Why it matters, Key signals, Confidence, Sources.\\n\"\n",
    "        \"Also include a 4-6 sentence executive summary explaining the industry at a glance and how ranking was determined.\"\n",
    "    ),\n",
    "    agent=classifier_ranker,\n",
    ")"
   ]
  },
  {
   "cell_type": "code",
   "execution_count": 30,
   "id": "e884b62d",
   "metadata": {},
   "outputs": [],
   "source": [
    "crew = Crew(\n",
    "    agents=[industry_taxonomist, research_analyst, classifier_ranker],\n",
    "    tasks=[map_subindustries, mine_companies, classify_and_rank],\n",
    "    verbose=True,\n",
    "    memory=True,\n",
    ")"
   ]
  },
  {
   "cell_type": "code",
   "execution_count": null,
   "id": "5a9fd37d",
   "metadata": {},
   "outputs": [
    {
     "data": {
      "text/html": [
       "<pre style=\"white-space:pre;overflow-x:auto;line-height:normal;font-family:Menlo,'DejaVu Sans Mono',consolas,'Courier New',monospace\"><span style=\"color: #008080; text-decoration-color: #008080\">╭──────────────────────────────────────────── Crew Execution Started ─────────────────────────────────────────────╮</span>\n",
       "<span style=\"color: #008080; text-decoration-color: #008080\">│</span>                                                                                                                 <span style=\"color: #008080; text-decoration-color: #008080\">│</span>\n",
       "<span style=\"color: #008080; text-decoration-color: #008080\">│</span>  <span style=\"color: #008080; text-decoration-color: #008080; font-weight: bold\">Crew Execution Started</span>                                                                                         <span style=\"color: #008080; text-decoration-color: #008080\">│</span>\n",
       "<span style=\"color: #008080; text-decoration-color: #008080\">│</span>  <span style=\"color: #c0c0c0; text-decoration-color: #c0c0c0\">Name: </span><span style=\"color: #008080; text-decoration-color: #008080\">crew</span>                                                                                                     <span style=\"color: #008080; text-decoration-color: #008080\">│</span>\n",
       "<span style=\"color: #008080; text-decoration-color: #008080\">│</span>  <span style=\"color: #c0c0c0; text-decoration-color: #c0c0c0\">ID: </span><span style=\"color: #008080; text-decoration-color: #008080\">290ed9ae-955e-421b-8d2a-b389573f4e87</span>                                                                       <span style=\"color: #008080; text-decoration-color: #008080\">│</span>\n",
       "<span style=\"color: #008080; text-decoration-color: #008080\">│</span>  <span style=\"color: #c0c0c0; text-decoration-color: #c0c0c0\">Tool Args: </span>                                                                                                    <span style=\"color: #008080; text-decoration-color: #008080\">│</span>\n",
       "<span style=\"color: #008080; text-decoration-color: #008080\">│</span>                                                                                                                 <span style=\"color: #008080; text-decoration-color: #008080\">│</span>\n",
       "<span style=\"color: #008080; text-decoration-color: #008080\">│</span>                                                                                                                 <span style=\"color: #008080; text-decoration-color: #008080\">│</span>\n",
       "<span style=\"color: #008080; text-decoration-color: #008080\">╰─────────────────────────────────────────────────────────────────────────────────────────────────────────────────╯</span>\n",
       "</pre>\n"
      ],
      "text/plain": [
       "\u001b[36m╭─\u001b[0m\u001b[36m───────────────────────────────────────────\u001b[0m\u001b[36m Crew Execution Started \u001b[0m\u001b[36m────────────────────────────────────────────\u001b[0m\u001b[36m─╮\u001b[0m\n",
       "\u001b[36m│\u001b[0m                                                                                                                 \u001b[36m│\u001b[0m\n",
       "\u001b[36m│\u001b[0m  \u001b[1;36mCrew Execution Started\u001b[0m                                                                                         \u001b[36m│\u001b[0m\n",
       "\u001b[36m│\u001b[0m  \u001b[37mName: \u001b[0m\u001b[36mcrew\u001b[0m                                                                                                     \u001b[36m│\u001b[0m\n",
       "\u001b[36m│\u001b[0m  \u001b[37mID: \u001b[0m\u001b[36m290ed9ae-955e-421b-8d2a-b389573f4e87\u001b[0m                                                                       \u001b[36m│\u001b[0m\n",
       "\u001b[36m│\u001b[0m  \u001b[37mTool Args: \u001b[0m                                                                                                    \u001b[36m│\u001b[0m\n",
       "\u001b[36m│\u001b[0m                                                                                                                 \u001b[36m│\u001b[0m\n",
       "\u001b[36m│\u001b[0m                                                                                                                 \u001b[36m│\u001b[0m\n",
       "\u001b[36m╰─────────────────────────────────────────────────────────────────────────────────────────────────────────────────╯\u001b[0m\n"
      ]
     },
     "metadata": {},
     "output_type": "display_data"
    },
    {
     "data": {
      "text/html": [
       "<pre style=\"white-space:pre;overflow-x:auto;line-height:normal;font-family:Menlo,'DejaVu Sans Mono',consolas,'Courier New',monospace\">\n",
       "</pre>\n"
      ],
      "text/plain": [
       "\n"
      ]
     },
     "metadata": {},
     "output_type": "display_data"
    },
    {
     "data": {
      "application/vnd.jupyter.widget-view+json": {
       "model_id": "0064743fa7bb49d38b37f5f60951f9c1",
       "version_major": 2,
       "version_minor": 0
      },
      "text/plain": [
       "Output()"
      ]
     },
     "metadata": {},
     "output_type": "display_data"
    }
   ],
   "source": [
    "# Example of how you might kick it off at runtime:\n",
    "result = crew.kickoff(\n",
    "     inputs={\n",
    "         \"industry\": \"fintech\",\n",
    "         \"region\": \"US & Europe\",\n",
    "         \"time_window\": \"last 24 months\",\n",
    "     }\n",
    " )\n",
    "print(result)"
   ]
  }
 ],
 "metadata": {
  "kernelspec": {
   "display_name": "base",
   "language": "python",
   "name": "python3"
  },
  "language_info": {
   "codemirror_mode": {
    "name": "ipython",
    "version": 3
   },
   "file_extension": ".py",
   "mimetype": "text/x-python",
   "name": "python",
   "nbconvert_exporter": "python",
   "pygments_lexer": "ipython3",
   "version": "3.12.7"
  }
 },
 "nbformat": 4,
 "nbformat_minor": 5
}
